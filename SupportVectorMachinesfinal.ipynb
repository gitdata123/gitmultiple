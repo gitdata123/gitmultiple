{
 "cells": [
  {
   "cell_type": "markdown",
   "metadata": {
    "id": "qh1RHJycnJhI"
   },
   "source": []
  },
  {
   "cell_type": "markdown",
   "metadata": {
    "id": "PgV6v6HjtV4G"
   },
   "source": [
    "# Introduction - SVM"
   ]
  },
  {
   "cell_type": "markdown",
   "metadata": {
    "id": "GNWq4Gg_tV4j"
   },
   "source": [
    "SVM is the Supervised Machine Learning algorithm used for both classification, regression. But mostly preferred for classification.\n",
    "\n",
    "Given a dataset, the algorithm tries to divide the data using hyperplanes and then makes the predictions. SVM is a non-probabilistic linear classifier. While other classifiers, when classifying, predict the probability of a data point to belong to one group or the another, SVM directly says to which group the datapoint belongs to without using any probability calculation.\n"
   ]
  },
  {
   "cell_type": "markdown",
   "metadata": {
    "id": "fRsdwN8NtV4n"
   },
   "source": [
    "\n",
    "How it works?\n",
    "- SVM constructs a best line or the decision boundary called **Hyperplane** which can be used for classification or regression or outlier detection.  The dimension of the hyperplane depends upon the number of features. If the number of input features is 2, then the hyperplane is just a line. If the number of input features is 3, then the hyperplane becomes a two-dimensional plane.\n",
    "\n",
    "- This hyperplane creates 2 margin lines parallel to it which have some distance so that it can distinctly classify the data points. The distance between the 2 margin lines are called **marginal distance**.\n",
    "\n",
    "- These 2 margin lines passes through the most nearest +ve points and the most nearest -ve points. Those points through which the margin lines pass are called **support vectors**. Support vectors are important as it helps to determine the maximum distance of the marginal plane.\n"
   ]
  },
  {
   "cell_type": "markdown",
   "metadata": {
    "id": "IoURLROU9gA0"
   },
   "source": [
    "## Understanding the Mathematics involved\n",
    "Let’s take the example of the following dataset and see how can we divide the data into appropriate groups.\n",
    "<img src='SVM_intution.PNG'  width=\"300\">"
   ]
  },
  {
   "cell_type": "markdown",
   "metadata": {
    "id": "FuY-3qTL9gA1"
   },
   "source": [
    "We can see that there are two groups of data. The question is how to divide these points into two groups. It can be done using any of the three lines. Or, for that purpose, there can be an infinite number of straight lines that can divide these points into two classes. Now, which line to choose?\n",
    "SVM solves this problem using the maximum margin as shown\n",
    "<img src='SVM_hyperplane.PNG' width=\"400\">\n"
   ]
  },
  {
   "cell_type": "markdown",
   "metadata": {
    "id": "2AQWAeS-9gA3"
   },
   "source": [
    "The black line in the middle is the optimum classifier. This line is drawn to maximise the distance of the classifier line from the nearest points in the two classes. It is also called a __hyperplane__ in terms of  SVM.\n",
    "A _Hyperplane_ is an n-1 dimensional plane which optimally divides the data of n dimensions. Here, as we have only a 2-D data, so the hyperplane can be represented using one dimension only. Hence, the hyperplane is a line here.\n",
    "The two points (highlighted with circles) which are on the yellow lines, they are called the __support vectors__. As it is a 2-D figure, they are points. In a multi-dimensional space, they will be vectors, and hence, the name- support vector machine as the algorithm creates the optimum classification line by maximising its distance from the two support vectors.\n",
    "\n",
    "When the data is not linearly separable,  then to create a hyperplane to separate data into different groups, the SVM algorithm needs to perform computations in a higher-dimensional space. But the introduction of new dimensions makes the computations for the SVMs more intensive, which impacts the algorithm performance. To rectify this, mathematicians came up with the approach of Kernel methods.\n",
    "Kernel methods use kernel functions available in mathematics. The unique feature of a kernel function is to compute in a higher-dimensional space without calculating the new coordinates in that higher dimension. It implicitly uses predefined mathematical functions to do operations on the existing points which mimic the computation in a higher-dimensional space without adding to the computation cost as they are not actually calculating the coordinates in the higher dimension thereby avoiding the computation of calculating distances from the newly computed points.  This is called the kernel trick.\n",
    "<img src= \"SVM_3D_Hyperplane.PNG\" width=\"300\">\n",
    "                                                                        Image: bogotobogo.com\n"
   ]
  },
  {
   "cell_type": "markdown",
   "metadata": {
    "id": "LgN4IGXF9gA4"
   },
   "source": [
    "In the left diagram above, we have a non-linear distribution of data as we can not classify a data using a linear equation. To solve this problem, we can project the points in a 3-dimensional space and then derive a plane which divides the data into two parts. In theory, that’s what a kernel function does without computing the additional coordinates for the higher dimension.\n"
   ]
  },
  {
   "cell_type": "markdown",
   "metadata": {
    "id": "9sCKZYng9gA6"
   },
   "source": [
    "## Support Vector Regression"
   ]
  },
  {
   "cell_type": "markdown",
   "metadata": {
    "id": "rI2nBCp19gA7"
   },
   "source": [
    "Let’s talk about Linear Regression first. How to determine the best fit line? The idea is to create a line which minimises the total residual error. The SVR approach is a bit different. Instead of trying to minimise the error, SVR focuses on keeping the error in a fixed range. This approach can be explained using three lines. The first line is the best fit regressor line, and the other two lines are the bordering ones which denote the range of error.\n",
    "<img src=\"SVR.PNG\" width=\"500\">"
   ]
  },
  {
   "cell_type": "markdown",
   "metadata": {
    "id": "OdkS82459gA_"
   },
   "source": [
    "What does this mean? It means that we are going to consider the points inside this ± error boundary only for preparing our model. In other words, the best fit line(or the hyperplane) will be the line which goes through the maximum number of data points and the error boundaries are chosen to ensure maximum inclusion. This error term can be customized  using the '_epsilon_' parameter defined for the scikit-learn SVR implementation.  "
   ]
  },
  {
   "cell_type": "code",
   "execution_count": null,
   "metadata": {
    "id": "eygKZ5V09gBC"
   },
   "outputs": [],
   "source": []
  },
  {
   "cell_type": "markdown",
   "metadata": {
    "id": "Tz-SfT2ktV49"
   },
   "source": [
    "## Python Implementation"
   ]
  },
  {
   "cell_type": "markdown",
   "metadata": {
    "id": "ZK0mGjI8tV5C"
   },
   "source": [
    "### Business Case:-To find out based on given features whether the loan will get approved or not."
   ]
  },
  {
   "cell_type": "raw",
   "metadata": {
    "id": "p-1egS-YtV5G"
   },
   "source": [
    "# Supervised learning with classification task(2 classes)"
   ]
  },
  {
   "cell_type": "code",
   "execution_count": 1,
   "metadata": {
    "id": "KbOTlr-ntV5M"
   },
   "outputs": [],
   "source": [
    "##importing the libraries\n",
    "import pandas as pd\n",
    "import numpy as np\n",
    "import seaborn as sns\n",
    "import matplotlib.pyplot as plt\n",
    "%matplotlib inline\n",
    "import warnings\n",
    "warnings.filterwarnings('ignore')"
   ]
  },
  {
   "cell_type": "code",
   "execution_count": null,
   "metadata": {
    "id": "jB8u6VJwtV5O"
   },
   "outputs": [],
   "source": [
    "## loading the data\n",
    "data=pd.read_csv('loan_approved.csv')"
   ]
  },
  {
   "cell_type": "code",
   "execution_count": null,
   "metadata": {
    "id": "2zUtrJ_YtV5P",
    "outputId": "a46e5fbc-9996-4cdf-a49d-9c8e4b19c10b"
   },
   "outputs": [],
   "source": [
    "## Getting the first few rows of data\n",
    "data"
   ]
  },
  {
   "cell_type": "code",
   "execution_count": null,
   "metadata": {
    "id": "y8OTRri19gBN"
   },
   "outputs": [],
   "source": [
    "data.rename(columns={'Loan_Status (Approved)':'Loan_Status'},inplace=True)"
   ]
  },
  {
   "cell_type": "code",
   "execution_count": null,
   "metadata": {},
   "outputs": [],
   "source": [
    "data"
   ]
  },
  {
   "cell_type": "code",
   "execution_count": null,
   "metadata": {
    "id": "chjEdEkl9gBO"
   },
   "outputs": [],
   "source": [
    "# Domian analysis."
   ]
  },
  {
   "cell_type": "markdown",
   "metadata": {
    "id": "0H6eCq4atV5R"
   },
   "source": [
    "## Basic Checks"
   ]
  },
  {
   "cell_type": "code",
   "execution_count": null,
   "metadata": {
    "id": "Q2VJLB-N9gBP"
   },
   "outputs": [],
   "source": [
    "#head,tail,info,describe for both numerical and categorical"
   ]
  },
  {
   "cell_type": "code",
   "execution_count": null,
   "metadata": {},
   "outputs": [],
   "source": [
    "data.shape"
   ]
  },
  {
   "cell_type": "code",
   "execution_count": null,
   "metadata": {
    "id": "tUnTrilM9gBQ"
   },
   "outputs": [],
   "source": [
    "data.head()"
   ]
  },
  {
   "cell_type": "code",
   "execution_count": null,
   "metadata": {},
   "outputs": [],
   "source": [
    "data.tail()"
   ]
  },
  {
   "cell_type": "code",
   "execution_count": null,
   "metadata": {
    "id": "nJijH6ln9gBR"
   },
   "outputs": [],
   "source": [
    "data.info()"
   ]
  },
  {
   "cell_type": "code",
   "execution_count": null,
   "metadata": {},
   "outputs": [],
   "source": [
    "data.describe() # statistical summary of numeric data"
   ]
  },
  {
   "cell_type": "code",
   "execution_count": null,
   "metadata": {},
   "outputs": [],
   "source": [
    "# # statistical summary of categorical data\n",
    "data.describe(include='O')"
   ]
  },
  {
   "cell_type": "code",
   "execution_count": null,
   "metadata": {},
   "outputs": [],
   "source": [
    "data.Gender.unique()"
   ]
  },
  {
   "cell_type": "code",
   "execution_count": null,
   "metadata": {},
   "outputs": [],
   "source": [
    "data.Gender.value_counts()"
   ]
  },
  {
   "cell_type": "code",
   "execution_count": null,
   "metadata": {},
   "outputs": [],
   "source": [
    "# fetch numerical columns\n",
    "num_col=data.select_dtypes(include=['int64','float64']).columns\n",
    "num_col"
   ]
  },
  {
   "cell_type": "code",
   "execution_count": null,
   "metadata": {},
   "outputs": [],
   "source": [
    "# fetch categorical columns\n",
    "cat_col=data.select_dtypes(include=['object'])\n",
    "cat_col.columns"
   ]
  },
  {
   "cell_type": "code",
   "execution_count": null,
   "metadata": {},
   "outputs": [],
   "source": [
    "data.Gender.unique()"
   ]
  },
  {
   "cell_type": "code",
   "execution_count": null,
   "metadata": {},
   "outputs": [],
   "source": [
    "data.Gender.value_counts()"
   ]
  },
  {
   "cell_type": "code",
   "execution_count": null,
   "metadata": {},
   "outputs": [],
   "source": [
    "# find unique categories in dataset\n",
    "for i in cat_col.drop('Loan_ID',axis=1):\n",
    "    print(i,data[i].unique())\n",
    "    print(data[i].value_counts())\n",
    "    print('******************')"
   ]
  },
  {
   "cell_type": "code",
   "execution_count": null,
   "metadata": {},
   "outputs": [],
   "source": [
    "data.head()"
   ]
  },
  {
   "cell_type": "markdown",
   "metadata": {
    "id": "-A2vQg3htV5T"
   },
   "source": [
    "## Exploratory Data Analysis"
   ]
  },
  {
   "cell_type": "code",
   "execution_count": null,
   "metadata": {},
   "outputs": [],
   "source": [
    "data.shape"
   ]
  },
  {
   "cell_type": "code",
   "execution_count": null,
   "metadata": {
    "id": "16bN4LdZ9gBS"
   },
   "outputs": [],
   "source": [
    "# Univariate analysis\n",
    "# Bivaraite analysis--Autoviz"
   ]
  },
  {
   "cell_type": "code",
   "execution_count": null,
   "metadata": {},
   "outputs": [],
   "source": [
    "sns.countplot(x='Gender',data=data)"
   ]
  },
  {
   "cell_type": "code",
   "execution_count": null,
   "metadata": {
    "id": "ofoORGk39gBT"
   },
   "outputs": [],
   "source": [
    "!pip install sweetviz"
   ]
  },
  {
   "cell_type": "code",
   "execution_count": null,
   "metadata": {
    "colab": {
     "referenced_widgets": [
      "2e383d69ca5944e7bb03117350c039ce"
     ]
    },
    "id": "eCARsJUX9gBT",
    "outputId": "5ec3c2c1-6781-4db3-ba13-22d863d2a2eb"
   },
   "outputs": [],
   "source": [
    "import sweetviz as sv #  library for univariant analysis\n",
    "\n",
    "my_report = sv.analyze(data)## pass the original dataframe\n",
    "\n",
    "my_report.show_html() # Default arguments will generate to \"SWEETVIZ_REPORT.html\""
   ]
  },
  {
   "cell_type": "code",
   "execution_count": null,
   "metadata": {},
   "outputs": [],
   "source": [
    "# This cell is used in google colab\n",
    "import sweetviz as sv #  library for univariant analysis\n",
    "\n",
    "my_report = sv.analyze(data)## pass the original dataframe\n",
    "\n",
    "my_report.show_html('myreport.html') # Default arguments will generate to \"SWEETVIZ_REPORT.html\""
   ]
  },
  {
   "cell_type": "code",
   "execution_count": null,
   "metadata": {
    "id": "XVz_NamR9gBU",
    "outputId": "ba33e073-2cd4-4c98-9347-f1ac46e1dcb0"
   },
   "outputs": [],
   "source": [
    "## Bivariate Analysis\n",
    "data.info()"
   ]
  },
  {
   "cell_type": "code",
   "execution_count": null,
   "metadata": {
    "id": "ISa5spl19gBV"
   },
   "outputs": [],
   "source": [
    "# Create dataframe which includes categorical data\n",
    "data1=data[['Gender','Married','Dependents','Education','Self_Employed','Property_Area']]\n",
    "# Create dataframe which includes numerical data\n",
    "data2=data[['ApplicantIncome','CoapplicantIncome','LoanAmount','Loan_Amount_Term','Credit_History']]"
   ]
  },
  {
   "cell_type": "code",
   "execution_count": null,
   "metadata": {},
   "outputs": [],
   "source": [
    "data1.head()"
   ]
  },
  {
   "cell_type": "code",
   "execution_count": null,
   "metadata": {},
   "outputs": [],
   "source": [
    "data2.head()"
   ]
  },
  {
   "cell_type": "code",
   "execution_count": null,
   "metadata": {
    "id": "oniEgudJ9gBV",
    "outputId": "75469ef5-0071-49ae-e9ef-6ddec79c57b9"
   },
   "outputs": [],
   "source": [
    "plt.figure(figsize=(10,15), facecolor='white')#To set canvas\n",
    "plotnumber = 1#counter\n",
    "\n",
    "for column in data1:#accessing the categorical columns\n",
    "    if plotnumber<=6 :\n",
    "        ax = plt.subplot(3,3,plotnumber)\n",
    "        sns.countplot(x=data1[column],hue=data['Loan_Status'])\n",
    "        plt.xlabel(column,fontsize=10)#assign name to x-axis and set font-20\n",
    "        plt.ylabel('Loan Status',fontsize=10)\n",
    "    plotnumber+=1#counter increment\n",
    "plt.tight_layout()"
   ]
  },
  {
   "cell_type": "code",
   "execution_count": null,
   "metadata": {
    "id": "k1RN2Jmm9gBW",
    "outputId": "291875b1-5868-4149-d277-268634c747bc"
   },
   "outputs": [],
   "source": [
    "plt.figure(figsize=(20,25), facecolor='white')#To set canvas\n",
    "plotnumber = 1#counter\n",
    "\n",
    "for column in data2:#accessing the numerical columns\n",
    "    if plotnumber<=6 :\n",
    "        ax = plt.subplot(2,3,plotnumber)\n",
    "        sns.histplot(x=data2[column],hue=data['Loan_Status'])\n",
    "        plt.xlabel(column,fontsize=20)#assign name to x-axis and set font-20\n",
    "        plt.ylabel('Loan Status',fontsize=20)\n",
    "    plotnumber+=1#counter increment\n",
    "plt.tight_layout()"
   ]
  },
  {
   "cell_type": "code",
   "execution_count": null,
   "metadata": {},
   "outputs": [],
   "source": [
    "# Multivariate analysis\n",
    "sns.pairplot(data,hue='Loan_Status')"
   ]
  },
  {
   "cell_type": "markdown",
   "metadata": {
    "id": "oGvYld_4tV5X"
   },
   "source": [
    "## Data Preprocessing Pipeline"
   ]
  },
  {
   "cell_type": "code",
   "execution_count": null,
   "metadata": {
    "id": "dwYo-Oc0tV5a",
    "outputId": "d63544de-7128-4a98-d77d-3e0f85d37b39"
   },
   "outputs": [],
   "source": [
    "## Checking missing values\n",
    "data.isnull().sum()"
   ]
  },
  {
   "cell_type": "raw",
   "metadata": {
    "id": "d55o3UkktV5c"
   },
   "source": [
    "# if the percentage of missing value is greter 80% then drop the column"
   ]
  },
  {
   "cell_type": "code",
   "execution_count": null,
   "metadata": {},
   "outputs": [],
   "source": [
    "len(data)"
   ]
  },
  {
   "cell_type": "code",
   "execution_count": null,
   "metadata": {},
   "outputs": [],
   "source": [
    "13/614*100"
   ]
  },
  {
   "cell_type": "code",
   "execution_count": null,
   "metadata": {
    "id": "alXHqtzktV5j",
    "outputId": "36e6dcf4-c8b8-44a1-96f3-bed3819a62f8"
   },
   "outputs": [],
   "source": [
    "## How much values have been missed\n",
    "data.isnull().sum()/len(data)*100"
   ]
  },
  {
   "cell_type": "markdown",
   "metadata": {},
   "source": [
    "### HAndle missing values in Gender"
   ]
  },
  {
   "cell_type": "code",
   "execution_count": null,
   "metadata": {},
   "outputs": [],
   "source": [
    "data.Gender.dtypes"
   ]
  },
  {
   "cell_type": "code",
   "execution_count": null,
   "metadata": {},
   "outputs": [],
   "source": [
    "data.Gender.value_counts()"
   ]
  },
  {
   "cell_type": "code",
   "execution_count": null,
   "metadata": {},
   "outputs": [],
   "source": [
    "data['Gender'].mode()"
   ]
  },
  {
   "cell_type": "code",
   "execution_count": null,
   "metadata": {
    "id": "ceoT8kmatV5e",
    "outputId": "3b074a7d-0f98-4db4-a5fc-f1e07d05ec21"
   },
   "outputs": [],
   "source": [
    "## Getting the rows where values are missed in Gender features\n",
    "data.loc[data['Gender'].isnull()==True]"
   ]
  },
  {
   "cell_type": "code",
   "execution_count": null,
   "metadata": {
    "id": "64rwMCdNtV5n"
   },
   "outputs": [],
   "source": [
    "## Imputing the missing values with mode\n",
    "data.loc[data['Gender'].isnull()==True,'Gender']='Male'"
   ]
  },
  {
   "cell_type": "code",
   "execution_count": null,
   "metadata": {
    "id": "iT4YRcaNtV5n",
    "outputId": "04eddfb0-9714-4cac-b796-a6b686168def"
   },
   "outputs": [],
   "source": [
    "data.Gender.isnull().sum()"
   ]
  },
  {
   "cell_type": "code",
   "execution_count": null,
   "metadata": {},
   "outputs": [],
   "source": [
    "sns.countplot(data=data,x='Gender',hue='Loan_Status')"
   ]
  },
  {
   "cell_type": "code",
   "execution_count": null,
   "metadata": {},
   "outputs": [],
   "source": [
    "data.Dependents.dtypes"
   ]
  },
  {
   "cell_type": "code",
   "execution_count": null,
   "metadata": {},
   "outputs": [],
   "source": [
    "data['Dependents'].mode()"
   ]
  },
  {
   "cell_type": "code",
   "execution_count": null,
   "metadata": {
    "id": "sFVq0iwutV5o",
    "outputId": "21d988c2-b22f-4d72-9b4c-a69a5d276b78"
   },
   "outputs": [],
   "source": [
    "## Getting the values in Dependents\n",
    "data.loc[data['Dependents'].isnull()==True]"
   ]
  },
  {
   "cell_type": "code",
   "execution_count": null,
   "metadata": {},
   "outputs": [],
   "source": [
    "sns.countplot(data=data,x='Dependents',hue='Loan_Status')"
   ]
  },
  {
   "cell_type": "code",
   "execution_count": null,
   "metadata": {
    "id": "NMA2PUnitV5r"
   },
   "outputs": [],
   "source": [
    "# From the graphical representation it can be seen that as the number of dependents\n",
    "#getting increased,the chances of approval is less, since we have missing values and if we approve\n",
    "# loan for them who has 0 dependent it can turn into major loss(high chance).Hence we will substitue missing values\n",
    "#by 3+ for possible rejection.\n",
    "data.loc[data['Dependents'].isnull()==True,'Dependents']='3+'"
   ]
  },
  {
   "cell_type": "code",
   "execution_count": null,
   "metadata": {},
   "outputs": [],
   "source": [
    "data.Dependents.isnull().sum()"
   ]
  },
  {
   "cell_type": "code",
   "execution_count": null,
   "metadata": {},
   "outputs": [],
   "source": [
    "data.Married.dtypes"
   ]
  },
  {
   "cell_type": "code",
   "execution_count": null,
   "metadata": {},
   "outputs": [],
   "source": [
    "data.Married.mode()"
   ]
  },
  {
   "cell_type": "code",
   "execution_count": null,
   "metadata": {
    "id": "C_XIaBedtV5v"
   },
   "outputs": [],
   "source": [
    "## For married feature\n",
    "data.loc[data['Married'].isnull()==True]"
   ]
  },
  {
   "cell_type": "code",
   "execution_count": null,
   "metadata": {
    "id": "HfPxbEXStV5w"
   },
   "outputs": [],
   "source": [
    "## Imputing with yes i.e mode\n",
    "data.loc[data['Married'].isnull()==True,'Married']='Yes'"
   ]
  },
  {
   "cell_type": "code",
   "execution_count": null,
   "metadata": {},
   "outputs": [],
   "source": [
    "data.Married.isnull().sum()"
   ]
  },
  {
   "cell_type": "code",
   "execution_count": null,
   "metadata": {},
   "outputs": [],
   "source": [
    "data.Self_Employed.dtypes"
   ]
  },
  {
   "cell_type": "code",
   "execution_count": null,
   "metadata": {},
   "outputs": [],
   "source": [
    "## selfemployed column\n",
    "data.Self_Employed.mode()"
   ]
  },
  {
   "cell_type": "code",
   "execution_count": null,
   "metadata": {},
   "outputs": [],
   "source": []
  },
  {
   "cell_type": "code",
   "execution_count": null,
   "metadata": {
    "id": "YiofCYcftV5z"
   },
   "outputs": [],
   "source": [
    "## Checking Self_Employed\n",
    "data.loc[data['Self_Employed'].isnull()==True]\n",
    "#data.loc[data['Self_Employed']=='No']"
   ]
  },
  {
   "cell_type": "code",
   "execution_count": null,
   "metadata": {},
   "outputs": [],
   "source": [
    "data.loc[data['Self_Employed'].isnull()==True,'Self_Employed']='No'"
   ]
  },
  {
   "cell_type": "code",
   "execution_count": null,
   "metadata": {
    "id": "Z8dyazLOtV5t"
   },
   "outputs": [],
   "source": [
    "data.Self_Employed.isnull().sum()"
   ]
  },
  {
   "cell_type": "code",
   "execution_count": null,
   "metadata": {},
   "outputs": [],
   "source": [
    "data.isnull().sum()"
   ]
  },
  {
   "cell_type": "code",
   "execution_count": null,
   "metadata": {},
   "outputs": [],
   "source": [
    "data.LoanAmount.dtypes"
   ]
  },
  {
   "cell_type": "code",
   "execution_count": null,
   "metadata": {
    "id": "5izFJ2GdtV56"
   },
   "outputs": [],
   "source": [
    "## Histogram since it has numerical value\n",
    "plt.figure(figsize=(4,3))\n",
    "sns.histplot(data=data,x='LoanAmount')\n",
    "plt.show()"
   ]
  },
  {
   "cell_type": "markdown",
   "metadata": {
    "id": "G96K4wgQtV58"
   },
   "source": [
    "Since data is skewed, we can use median to replace the nan value. It is recommended to use mean only for symmetric data distribution."
   ]
  },
  {
   "cell_type": "code",
   "execution_count": null,
   "metadata": {
    "id": "Qabd6-ZXtV59"
   },
   "outputs": [],
   "source": [
    "# Check median for LoanAmount column\n",
    "data['LoanAmount'].median()"
   ]
  },
  {
   "cell_type": "code",
   "execution_count": null,
   "metadata": {
    "id": "nDBx-pKbtV5-"
   },
   "outputs": [],
   "source": [
    "# Replace the nan values in LoanAmount column with median value\n",
    "data.loc[data['LoanAmount'].isnull()==True,'LoanAmount']=data['LoanAmount'].median()"
   ]
  },
  {
   "cell_type": "code",
   "execution_count": null,
   "metadata": {
    "id": "KG_rfHOLtV5_"
   },
   "outputs": [],
   "source": [
    "data.LoanAmount.isnull().sum()"
   ]
  },
  {
   "cell_type": "markdown",
   "metadata": {
    "id": "KhvFFjzl9gBo"
   },
   "source": [
    "### Loan amount term"
   ]
  },
  {
   "cell_type": "code",
   "execution_count": null,
   "metadata": {},
   "outputs": [],
   "source": [
    "data.Loan_Amount_Term.dtypes"
   ]
  },
  {
   "cell_type": "code",
   "execution_count": null,
   "metadata": {},
   "outputs": [],
   "source": [
    "sns.histplot(data=data,x='Loan_Amount_Term',kde=True)"
   ]
  },
  {
   "cell_type": "code",
   "execution_count": null,
   "metadata": {
    "id": "3DQYOjyC9gBp"
   },
   "outputs": [],
   "source": [
    "data.Loan_Amount_Term.median()"
   ]
  },
  {
   "cell_type": "code",
   "execution_count": null,
   "metadata": {
    "id": "sGOHuoIp9gBq"
   },
   "outputs": [],
   "source": [
    "# replace the nan values in Loan_Amount_Term with the median value\n",
    "data.loc[data['Loan_Amount_Term'].isnull()==True,'Loan_Amount_Term']=data.Loan_Amount_Term.median()"
   ]
  },
  {
   "cell_type": "code",
   "execution_count": null,
   "metadata": {
    "id": "d4B9iN_mtV6A"
   },
   "outputs": [],
   "source": [
    "data.Loan_Amount_Term.isnull().sum()"
   ]
  },
  {
   "cell_type": "code",
   "execution_count": null,
   "metadata": {
    "id": "lNUVAbDYtV6B"
   },
   "outputs": [],
   "source": [
    "# Credit_History\n",
    "data.Credit_History.dtypes"
   ]
  },
  {
   "cell_type": "code",
   "execution_count": null,
   "metadata": {},
   "outputs": [],
   "source": [
    "data.Credit_History.value_counts()"
   ]
  },
  {
   "cell_type": "code",
   "execution_count": null,
   "metadata": {},
   "outputs": [],
   "source": [
    "data.Credit_History.median()"
   ]
  },
  {
   "cell_type": "code",
   "execution_count": null,
   "metadata": {
    "id": "TzcKk4rxtV6C"
   },
   "outputs": [],
   "source": [
    "sns.countplot(x='Credit_History',data=data,hue='Loan_Status')"
   ]
  },
  {
   "cell_type": "code",
   "execution_count": null,
   "metadata": {},
   "outputs": [],
   "source": [
    "data.Credit_History.value_counts()"
   ]
  },
  {
   "cell_type": "code",
   "execution_count": null,
   "metadata": {
    "id": "V5ag-1LftV6C"
   },
   "outputs": [],
   "source": [
    "data.loc[data['Credit_History'].isnull()==True,'Credit_History']=0.0"
   ]
  },
  {
   "cell_type": "code",
   "execution_count": null,
   "metadata": {
    "id": "bMW8fLFDtV6D",
    "outputId": "a51f36b7-418e-4a75-a50b-ab0413b78fef"
   },
   "outputs": [],
   "source": [
    "data.isnull().sum()"
   ]
  },
  {
   "cell_type": "code",
   "execution_count": null,
   "metadata": {},
   "outputs": [],
   "source": [
    "# Check for duplicates\n",
    "data.duplicated().sum()"
   ]
  },
  {
   "cell_type": "markdown",
   "metadata": {},
   "source": [
    "### Handling outliers"
   ]
  },
  {
   "cell_type": "code",
   "execution_count": null,
   "metadata": {},
   "outputs": [],
   "source": [
    "num_col\n"
   ]
  },
  {
   "cell_type": "code",
   "execution_count": null,
   "metadata": {},
   "outputs": [],
   "source": [
    "plt.figure(figsize=(10,5),facecolor='white')\n",
    "plotnumber=1\n",
    "for column in num_col:\n",
    "    if plotnumber<9:\n",
    "        ax=plt.subplot(3,3,plotnumber)\n",
    "        sns.boxplot(x=data[column])\n",
    "        plt.xlabel(column,fontsize=10)\n",
    "        plt.ylabel('Count',fontsize=10)\n",
    "    plotnumber+=1\n",
    "plt.tight_layout()"
   ]
  },
  {
   "cell_type": "markdown",
   "metadata": {},
   "source": [
    "### Scaling"
   ]
  },
  {
   "cell_type": "code",
   "execution_count": null,
   "metadata": {},
   "outputs": [],
   "source": [
    "data.head(3)"
   ]
  },
  {
   "cell_type": "code",
   "execution_count": null,
   "metadata": {
    "id": "GX3Zle-rtV6R"
   },
   "outputs": [],
   "source": [
    "## scaling data\n",
    "from sklearn.preprocessing import MinMaxScaler\n",
    "scale=MinMaxScaler()\n",
    "data[['ApplicantIncome','CoapplicantIncome','LoanAmount']]=scale.fit_transform(data[['ApplicantIncome','CoapplicantIncome',\n",
    "                          'LoanAmount']])\n",
    "\n"
   ]
  },
  {
   "cell_type": "code",
   "execution_count": null,
   "metadata": {},
   "outputs": [],
   "source": [
    "data.head()"
   ]
  },
  {
   "cell_type": "code",
   "execution_count": null,
   "metadata": {
    "id": "DTKTxzOqtV6D",
    "outputId": "364b3faa-70b6-4244-f34d-539150a73477"
   },
   "outputs": [],
   "source": [
    "## Step 2 Handling the categorical data\n",
    "data.info()"
   ]
  },
  {
   "cell_type": "code",
   "execution_count": null,
   "metadata": {
    "id": "-1RlAuPvtV6F"
   },
   "outputs": [],
   "source": [
    "data1=data.copy()"
   ]
  },
  {
   "cell_type": "code",
   "execution_count": null,
   "metadata": {},
   "outputs": [],
   "source": [
    "data1"
   ]
  },
  {
   "cell_type": "code",
   "execution_count": null,
   "metadata": {
    "id": "BYIDkbQQtV6N"
   },
   "outputs": [],
   "source": [
    "## Using label encoder to convert the categorical data to numerical data\n",
    "## Donot run this code.This is just implementation of label encoder.This dataset have lots relationship with target.\n",
    "from sklearn.preprocessing import LabelEncoder\n",
    "lc=LabelEncoder() # object creation\n",
    "\n",
    "data1.Gender=lc.fit_transform(data1.Gender)\n",
    "data1.Married=lc.fit_transform(data1.Married)\n",
    "#data1.Education=lc.fit_transform(data1.Education)\n",
    "#data1.Property_Area=lc.fit_transform(data1.Property_Area)\n",
    "#data1.Loan_Status=lc.fit_transform(data1.Loan_Status)\n",
    "#data1.Dependents=lc.fit_transform(data1.Dependents)\n",
    "#data1.Self_Employed=lc.fit_transform(data1.Self_Employed)"
   ]
  },
  {
   "cell_type": "code",
   "execution_count": null,
   "metadata": {},
   "outputs": [],
   "source": [
    "data1.head(3)"
   ]
  },
  {
   "cell_type": "code",
   "execution_count": null,
   "metadata": {},
   "outputs": [],
   "source": [
    "data.head(3)"
   ]
  },
  {
   "cell_type": "markdown",
   "metadata": {},
   "source": [
    "### Get dummies"
   ]
  },
  {
   "cell_type": "code",
   "execution_count": null,
   "metadata": {},
   "outputs": [],
   "source": [
    "data2=data.copy()"
   ]
  },
  {
   "cell_type": "code",
   "execution_count": null,
   "metadata": {},
   "outputs": [],
   "source": [
    "data2"
   ]
  },
  {
   "cell_type": "code",
   "execution_count": null,
   "metadata": {},
   "outputs": [],
   "source": [
    "#data['Gender'] = data['Gender'].astype('category')\n"
   ]
  },
  {
   "cell_type": "code",
   "execution_count": null,
   "metadata": {
    "id": "Ed0yA-oi9gBz",
    "outputId": "a4de9f83-9ce3-405c-abc1-7b7df7e8a651"
   },
   "outputs": [],
   "source": [
    "pd.get_dummies(data['Gender'],prefix='Gender',dtype='int')"
   ]
  },
  {
   "cell_type": "code",
   "execution_count": null,
   "metadata": {},
   "outputs": [],
   "source": [
    "data.info()"
   ]
  },
  {
   "cell_type": "code",
   "execution_count": null,
   "metadata": {},
   "outputs": [],
   "source": [
    "#data['Gender'] = data['Gender'].astype('category')\n"
   ]
  },
  {
   "cell_type": "code",
   "execution_count": null,
   "metadata": {},
   "outputs": [],
   "source": [
    "data.info()"
   ]
  },
  {
   "cell_type": "code",
   "execution_count": null,
   "metadata": {},
   "outputs": [],
   "source": [
    "data.head()"
   ]
  },
  {
   "cell_type": "code",
   "execution_count": null,
   "metadata": {
    "id": "th64Fx6P9gB0"
   },
   "outputs": [],
   "source": [
    "## One hot encoding\n",
    "df1=pd.get_dummies(data2['Gender'],prefix='Gender',drop_first=True,dtype='int')\n",
    "data2=pd.concat([data2,df1],axis=1).drop(['Gender'],axis=1)"
   ]
  },
  {
   "cell_type": "code",
   "execution_count": null,
   "metadata": {},
   "outputs": [],
   "source": [
    "df1"
   ]
  },
  {
   "cell_type": "code",
   "execution_count": null,
   "metadata": {},
   "outputs": [],
   "source": [
    "data2.head()"
   ]
  },
  {
   "cell_type": "code",
   "execution_count": null,
   "metadata": {},
   "outputs": [],
   "source": [
    "data.Married.value_counts()"
   ]
  },
  {
   "cell_type": "code",
   "execution_count": null,
   "metadata": {
    "id": "-ttppAv09gB1"
   },
   "outputs": [],
   "source": [
    "df1=pd.get_dummies(data2['Married'],prefix='Married',drop_first=True,dtype='int')\n",
    "data2=pd.concat([data2,df1],axis=1).drop(['Married'],axis=1)"
   ]
  },
  {
   "cell_type": "code",
   "execution_count": null,
   "metadata": {},
   "outputs": [],
   "source": [
    "data2.head(3)"
   ]
  },
  {
   "cell_type": "code",
   "execution_count": null,
   "metadata": {
    "id": "rx0PMtVy9gB1"
   },
   "outputs": [],
   "source": [
    "df1=pd.get_dummies(data['Education'],prefix='Education',drop_first=True,dtype='int')\n",
    "data2=pd.concat([data2,df1],axis=1).drop(['Education'],axis=1)"
   ]
  },
  {
   "cell_type": "code",
   "execution_count": null,
   "metadata": {},
   "outputs": [],
   "source": [
    "data2.head(1)"
   ]
  },
  {
   "cell_type": "code",
   "execution_count": null,
   "metadata": {
    "id": "nawuGLXx9gB2"
   },
   "outputs": [],
   "source": [
    "df1=pd.get_dummies(data['Property_Area'],prefix='Property_Area',drop_first=True,dtype='int')\n",
    "data2=pd.concat([data2,df1],axis=1).drop(['Property_Area'],axis=1)"
   ]
  },
  {
   "cell_type": "code",
   "execution_count": null,
   "metadata": {},
   "outputs": [],
   "source": [
    "data2.head()"
   ]
  },
  {
   "cell_type": "code",
   "execution_count": null,
   "metadata": {
    "id": "f7DKtXvy9gB2"
   },
   "outputs": [],
   "source": [
    "df1=pd.get_dummies(data['Dependents'],prefix='Dependents',drop_first=True,dtype='int')\n",
    "data2=pd.concat([data2,df1],axis=1).drop(['Dependents'],axis=1)"
   ]
  },
  {
   "cell_type": "code",
   "execution_count": null,
   "metadata": {
    "id": "DEeZp8Ac9gB2"
   },
   "outputs": [],
   "source": [
    "df1=pd.get_dummies(data['Self_Employed'],prefix='Self_Employed',drop_first=True,dtype='int')\n",
    "data2=pd.concat([data2,df1],axis=1).drop(['Self_Employed'],axis=1)"
   ]
  },
  {
   "cell_type": "code",
   "execution_count": null,
   "metadata": {},
   "outputs": [],
   "source": [
    "data2.head()"
   ]
  },
  {
   "cell_type": "code",
   "execution_count": null,
   "metadata": {
    "id": "Cdn6ubxq9gB5"
   },
   "outputs": [],
   "source": [
    "## Saving the preprocessed data.\n",
    "data2.to_csv('Preprocessed_data.csv')"
   ]
  },
  {
   "cell_type": "code",
   "execution_count": 2,
   "metadata": {
    "id": "QqqanZMM9gB5"
   },
   "outputs": [],
   "source": [
    "## Loading the data\n",
    "pre_data=pd.read_csv('Preprocessed_data.csv')"
   ]
  },
  {
   "cell_type": "code",
   "execution_count": 3,
   "metadata": {
    "id": "pxPDKGQx9gB6",
    "outputId": "d156f54b-5479-4e45-dfa8-d76fcad144aa"
   },
   "outputs": [
    {
     "data": {
      "text/html": [
       "<div>\n",
       "<style scoped>\n",
       "    .dataframe tbody tr th:only-of-type {\n",
       "        vertical-align: middle;\n",
       "    }\n",
       "\n",
       "    .dataframe tbody tr th {\n",
       "        vertical-align: top;\n",
       "    }\n",
       "\n",
       "    .dataframe thead th {\n",
       "        text-align: right;\n",
       "    }\n",
       "</style>\n",
       "<table border=\"1\" class=\"dataframe\">\n",
       "  <thead>\n",
       "    <tr style=\"text-align: right;\">\n",
       "      <th></th>\n",
       "      <th>Unnamed: 0</th>\n",
       "      <th>Loan_ID</th>\n",
       "      <th>ApplicantIncome</th>\n",
       "      <th>CoapplicantIncome</th>\n",
       "      <th>LoanAmount</th>\n",
       "      <th>Loan_Amount_Term</th>\n",
       "      <th>Credit_History</th>\n",
       "      <th>Loan_Status</th>\n",
       "      <th>Gender_Male</th>\n",
       "      <th>Married_Yes</th>\n",
       "      <th>Education_Not Graduate</th>\n",
       "      <th>Property_Area_Semiurban</th>\n",
       "      <th>Property_Area_Urban</th>\n",
       "      <th>Dependents_1</th>\n",
       "      <th>Dependents_2</th>\n",
       "      <th>Dependents_3+</th>\n",
       "      <th>Self_Employed_Yes</th>\n",
       "    </tr>\n",
       "  </thead>\n",
       "  <tbody>\n",
       "    <tr>\n",
       "      <th>0</th>\n",
       "      <td>0</td>\n",
       "      <td>LP001002</td>\n",
       "      <td>0.070489</td>\n",
       "      <td>0.000000</td>\n",
       "      <td>0.172214</td>\n",
       "      <td>360.0</td>\n",
       "      <td>1.0</td>\n",
       "      <td>Y</td>\n",
       "      <td>1</td>\n",
       "      <td>0</td>\n",
       "      <td>0</td>\n",
       "      <td>0</td>\n",
       "      <td>1</td>\n",
       "      <td>0</td>\n",
       "      <td>0</td>\n",
       "      <td>0</td>\n",
       "      <td>0</td>\n",
       "    </tr>\n",
       "    <tr>\n",
       "      <th>1</th>\n",
       "      <td>1</td>\n",
       "      <td>LP001003</td>\n",
       "      <td>0.054830</td>\n",
       "      <td>0.036192</td>\n",
       "      <td>0.172214</td>\n",
       "      <td>360.0</td>\n",
       "      <td>1.0</td>\n",
       "      <td>N</td>\n",
       "      <td>1</td>\n",
       "      <td>1</td>\n",
       "      <td>0</td>\n",
       "      <td>0</td>\n",
       "      <td>0</td>\n",
       "      <td>1</td>\n",
       "      <td>0</td>\n",
       "      <td>0</td>\n",
       "      <td>0</td>\n",
       "    </tr>\n",
       "    <tr>\n",
       "      <th>2</th>\n",
       "      <td>2</td>\n",
       "      <td>LP001005</td>\n",
       "      <td>0.035250</td>\n",
       "      <td>0.000000</td>\n",
       "      <td>0.082489</td>\n",
       "      <td>360.0</td>\n",
       "      <td>1.0</td>\n",
       "      <td>Y</td>\n",
       "      <td>1</td>\n",
       "      <td>1</td>\n",
       "      <td>0</td>\n",
       "      <td>0</td>\n",
       "      <td>1</td>\n",
       "      <td>0</td>\n",
       "      <td>0</td>\n",
       "      <td>0</td>\n",
       "      <td>1</td>\n",
       "    </tr>\n",
       "    <tr>\n",
       "      <th>3</th>\n",
       "      <td>3</td>\n",
       "      <td>LP001006</td>\n",
       "      <td>0.030093</td>\n",
       "      <td>0.056592</td>\n",
       "      <td>0.160637</td>\n",
       "      <td>360.0</td>\n",
       "      <td>1.0</td>\n",
       "      <td>Y</td>\n",
       "      <td>1</td>\n",
       "      <td>1</td>\n",
       "      <td>1</td>\n",
       "      <td>0</td>\n",
       "      <td>1</td>\n",
       "      <td>0</td>\n",
       "      <td>0</td>\n",
       "      <td>0</td>\n",
       "      <td>0</td>\n",
       "    </tr>\n",
       "    <tr>\n",
       "      <th>4</th>\n",
       "      <td>4</td>\n",
       "      <td>LP001008</td>\n",
       "      <td>0.072356</td>\n",
       "      <td>0.000000</td>\n",
       "      <td>0.191027</td>\n",
       "      <td>360.0</td>\n",
       "      <td>1.0</td>\n",
       "      <td>Y</td>\n",
       "      <td>1</td>\n",
       "      <td>0</td>\n",
       "      <td>0</td>\n",
       "      <td>0</td>\n",
       "      <td>1</td>\n",
       "      <td>0</td>\n",
       "      <td>0</td>\n",
       "      <td>0</td>\n",
       "      <td>0</td>\n",
       "    </tr>\n",
       "    <tr>\n",
       "      <th>...</th>\n",
       "      <td>...</td>\n",
       "      <td>...</td>\n",
       "      <td>...</td>\n",
       "      <td>...</td>\n",
       "      <td>...</td>\n",
       "      <td>...</td>\n",
       "      <td>...</td>\n",
       "      <td>...</td>\n",
       "      <td>...</td>\n",
       "      <td>...</td>\n",
       "      <td>...</td>\n",
       "      <td>...</td>\n",
       "      <td>...</td>\n",
       "      <td>...</td>\n",
       "      <td>...</td>\n",
       "      <td>...</td>\n",
       "      <td>...</td>\n",
       "    </tr>\n",
       "    <tr>\n",
       "      <th>609</th>\n",
       "      <td>609</td>\n",
       "      <td>LP002978</td>\n",
       "      <td>0.034014</td>\n",
       "      <td>0.000000</td>\n",
       "      <td>0.089725</td>\n",
       "      <td>360.0</td>\n",
       "      <td>1.0</td>\n",
       "      <td>Y</td>\n",
       "      <td>0</td>\n",
       "      <td>0</td>\n",
       "      <td>0</td>\n",
       "      <td>0</td>\n",
       "      <td>0</td>\n",
       "      <td>0</td>\n",
       "      <td>0</td>\n",
       "      <td>0</td>\n",
       "      <td>0</td>\n",
       "    </tr>\n",
       "    <tr>\n",
       "      <th>610</th>\n",
       "      <td>610</td>\n",
       "      <td>LP002979</td>\n",
       "      <td>0.048930</td>\n",
       "      <td>0.000000</td>\n",
       "      <td>0.044863</td>\n",
       "      <td>180.0</td>\n",
       "      <td>1.0</td>\n",
       "      <td>Y</td>\n",
       "      <td>1</td>\n",
       "      <td>1</td>\n",
       "      <td>0</td>\n",
       "      <td>0</td>\n",
       "      <td>0</td>\n",
       "      <td>0</td>\n",
       "      <td>0</td>\n",
       "      <td>1</td>\n",
       "      <td>0</td>\n",
       "    </tr>\n",
       "    <tr>\n",
       "      <th>611</th>\n",
       "      <td>611</td>\n",
       "      <td>LP002983</td>\n",
       "      <td>0.097984</td>\n",
       "      <td>0.005760</td>\n",
       "      <td>0.353111</td>\n",
       "      <td>360.0</td>\n",
       "      <td>1.0</td>\n",
       "      <td>Y</td>\n",
       "      <td>1</td>\n",
       "      <td>1</td>\n",
       "      <td>0</td>\n",
       "      <td>0</td>\n",
       "      <td>1</td>\n",
       "      <td>1</td>\n",
       "      <td>0</td>\n",
       "      <td>0</td>\n",
       "      <td>0</td>\n",
       "    </tr>\n",
       "    <tr>\n",
       "      <th>612</th>\n",
       "      <td>612</td>\n",
       "      <td>LP002984</td>\n",
       "      <td>0.091936</td>\n",
       "      <td>0.000000</td>\n",
       "      <td>0.257598</td>\n",
       "      <td>360.0</td>\n",
       "      <td>1.0</td>\n",
       "      <td>Y</td>\n",
       "      <td>1</td>\n",
       "      <td>1</td>\n",
       "      <td>0</td>\n",
       "      <td>0</td>\n",
       "      <td>1</td>\n",
       "      <td>0</td>\n",
       "      <td>1</td>\n",
       "      <td>0</td>\n",
       "      <td>0</td>\n",
       "    </tr>\n",
       "    <tr>\n",
       "      <th>613</th>\n",
       "      <td>613</td>\n",
       "      <td>LP002990</td>\n",
       "      <td>0.054830</td>\n",
       "      <td>0.000000</td>\n",
       "      <td>0.179450</td>\n",
       "      <td>360.0</td>\n",
       "      <td>0.0</td>\n",
       "      <td>N</td>\n",
       "      <td>0</td>\n",
       "      <td>0</td>\n",
       "      <td>0</td>\n",
       "      <td>1</td>\n",
       "      <td>0</td>\n",
       "      <td>0</td>\n",
       "      <td>0</td>\n",
       "      <td>0</td>\n",
       "      <td>1</td>\n",
       "    </tr>\n",
       "  </tbody>\n",
       "</table>\n",
       "<p>614 rows × 17 columns</p>\n",
       "</div>"
      ],
      "text/plain": [
       "     Unnamed: 0   Loan_ID  ApplicantIncome  CoapplicantIncome  LoanAmount  \\\n",
       "0             0  LP001002         0.070489           0.000000    0.172214   \n",
       "1             1  LP001003         0.054830           0.036192    0.172214   \n",
       "2             2  LP001005         0.035250           0.000000    0.082489   \n",
       "3             3  LP001006         0.030093           0.056592    0.160637   \n",
       "4             4  LP001008         0.072356           0.000000    0.191027   \n",
       "..          ...       ...              ...                ...         ...   \n",
       "609         609  LP002978         0.034014           0.000000    0.089725   \n",
       "610         610  LP002979         0.048930           0.000000    0.044863   \n",
       "611         611  LP002983         0.097984           0.005760    0.353111   \n",
       "612         612  LP002984         0.091936           0.000000    0.257598   \n",
       "613         613  LP002990         0.054830           0.000000    0.179450   \n",
       "\n",
       "     Loan_Amount_Term  Credit_History Loan_Status  Gender_Male  Married_Yes  \\\n",
       "0               360.0             1.0           Y            1            0   \n",
       "1               360.0             1.0           N            1            1   \n",
       "2               360.0             1.0           Y            1            1   \n",
       "3               360.0             1.0           Y            1            1   \n",
       "4               360.0             1.0           Y            1            0   \n",
       "..                ...             ...         ...          ...          ...   \n",
       "609             360.0             1.0           Y            0            0   \n",
       "610             180.0             1.0           Y            1            1   \n",
       "611             360.0             1.0           Y            1            1   \n",
       "612             360.0             1.0           Y            1            1   \n",
       "613             360.0             0.0           N            0            0   \n",
       "\n",
       "     Education_Not Graduate  Property_Area_Semiurban  Property_Area_Urban  \\\n",
       "0                         0                        0                    1   \n",
       "1                         0                        0                    0   \n",
       "2                         0                        0                    1   \n",
       "3                         1                        0                    1   \n",
       "4                         0                        0                    1   \n",
       "..                      ...                      ...                  ...   \n",
       "609                       0                        0                    0   \n",
       "610                       0                        0                    0   \n",
       "611                       0                        0                    1   \n",
       "612                       0                        0                    1   \n",
       "613                       0                        1                    0   \n",
       "\n",
       "     Dependents_1  Dependents_2  Dependents_3+  Self_Employed_Yes  \n",
       "0               0             0              0                  0  \n",
       "1               1             0              0                  0  \n",
       "2               0             0              0                  1  \n",
       "3               0             0              0                  0  \n",
       "4               0             0              0                  0  \n",
       "..            ...           ...            ...                ...  \n",
       "609             0             0              0                  0  \n",
       "610             0             0              1                  0  \n",
       "611             1             0              0                  0  \n",
       "612             0             1              0                  0  \n",
       "613             0             0              0                  1  \n",
       "\n",
       "[614 rows x 17 columns]"
      ]
     },
     "execution_count": 3,
     "metadata": {},
     "output_type": "execute_result"
    }
   ],
   "source": [
    "pre_data"
   ]
  },
  {
   "cell_type": "markdown",
   "metadata": {
    "id": "e2gkrDzztV6T"
   },
   "source": [
    "## Feature Selection"
   ]
  },
  {
   "cell_type": "code",
   "execution_count": null,
   "metadata": {},
   "outputs": [],
   "source": [
    "!pip install seaborn --upgrade"
   ]
  },
  {
   "cell_type": "code",
   "execution_count": 4,
   "metadata": {},
   "outputs": [
    {
     "data": {
      "text/html": [
       "<div>\n",
       "<style scoped>\n",
       "    .dataframe tbody tr th:only-of-type {\n",
       "        vertical-align: middle;\n",
       "    }\n",
       "\n",
       "    .dataframe tbody tr th {\n",
       "        vertical-align: top;\n",
       "    }\n",
       "\n",
       "    .dataframe thead th {\n",
       "        text-align: right;\n",
       "    }\n",
       "</style>\n",
       "<table border=\"1\" class=\"dataframe\">\n",
       "  <thead>\n",
       "    <tr style=\"text-align: right;\">\n",
       "      <th></th>\n",
       "      <th>Unnamed: 0</th>\n",
       "      <th>Loan_ID</th>\n",
       "      <th>ApplicantIncome</th>\n",
       "      <th>CoapplicantIncome</th>\n",
       "      <th>LoanAmount</th>\n",
       "      <th>Loan_Amount_Term</th>\n",
       "      <th>Credit_History</th>\n",
       "      <th>Loan_Status</th>\n",
       "      <th>Gender_Male</th>\n",
       "      <th>Married_Yes</th>\n",
       "      <th>Education_Not Graduate</th>\n",
       "      <th>Property_Area_Semiurban</th>\n",
       "      <th>Property_Area_Urban</th>\n",
       "      <th>Dependents_1</th>\n",
       "      <th>Dependents_2</th>\n",
       "      <th>Dependents_3+</th>\n",
       "      <th>Self_Employed_Yes</th>\n",
       "    </tr>\n",
       "  </thead>\n",
       "  <tbody>\n",
       "    <tr>\n",
       "      <th>0</th>\n",
       "      <td>0</td>\n",
       "      <td>LP001002</td>\n",
       "      <td>0.070489</td>\n",
       "      <td>0.000000</td>\n",
       "      <td>0.172214</td>\n",
       "      <td>360.0</td>\n",
       "      <td>1.0</td>\n",
       "      <td>Y</td>\n",
       "      <td>1</td>\n",
       "      <td>0</td>\n",
       "      <td>0</td>\n",
       "      <td>0</td>\n",
       "      <td>1</td>\n",
       "      <td>0</td>\n",
       "      <td>0</td>\n",
       "      <td>0</td>\n",
       "      <td>0</td>\n",
       "    </tr>\n",
       "    <tr>\n",
       "      <th>1</th>\n",
       "      <td>1</td>\n",
       "      <td>LP001003</td>\n",
       "      <td>0.054830</td>\n",
       "      <td>0.036192</td>\n",
       "      <td>0.172214</td>\n",
       "      <td>360.0</td>\n",
       "      <td>1.0</td>\n",
       "      <td>N</td>\n",
       "      <td>1</td>\n",
       "      <td>1</td>\n",
       "      <td>0</td>\n",
       "      <td>0</td>\n",
       "      <td>0</td>\n",
       "      <td>1</td>\n",
       "      <td>0</td>\n",
       "      <td>0</td>\n",
       "      <td>0</td>\n",
       "    </tr>\n",
       "    <tr>\n",
       "      <th>2</th>\n",
       "      <td>2</td>\n",
       "      <td>LP001005</td>\n",
       "      <td>0.035250</td>\n",
       "      <td>0.000000</td>\n",
       "      <td>0.082489</td>\n",
       "      <td>360.0</td>\n",
       "      <td>1.0</td>\n",
       "      <td>Y</td>\n",
       "      <td>1</td>\n",
       "      <td>1</td>\n",
       "      <td>0</td>\n",
       "      <td>0</td>\n",
       "      <td>1</td>\n",
       "      <td>0</td>\n",
       "      <td>0</td>\n",
       "      <td>0</td>\n",
       "      <td>1</td>\n",
       "    </tr>\n",
       "    <tr>\n",
       "      <th>3</th>\n",
       "      <td>3</td>\n",
       "      <td>LP001006</td>\n",
       "      <td>0.030093</td>\n",
       "      <td>0.056592</td>\n",
       "      <td>0.160637</td>\n",
       "      <td>360.0</td>\n",
       "      <td>1.0</td>\n",
       "      <td>Y</td>\n",
       "      <td>1</td>\n",
       "      <td>1</td>\n",
       "      <td>1</td>\n",
       "      <td>0</td>\n",
       "      <td>1</td>\n",
       "      <td>0</td>\n",
       "      <td>0</td>\n",
       "      <td>0</td>\n",
       "      <td>0</td>\n",
       "    </tr>\n",
       "    <tr>\n",
       "      <th>4</th>\n",
       "      <td>4</td>\n",
       "      <td>LP001008</td>\n",
       "      <td>0.072356</td>\n",
       "      <td>0.000000</td>\n",
       "      <td>0.191027</td>\n",
       "      <td>360.0</td>\n",
       "      <td>1.0</td>\n",
       "      <td>Y</td>\n",
       "      <td>1</td>\n",
       "      <td>0</td>\n",
       "      <td>0</td>\n",
       "      <td>0</td>\n",
       "      <td>1</td>\n",
       "      <td>0</td>\n",
       "      <td>0</td>\n",
       "      <td>0</td>\n",
       "      <td>0</td>\n",
       "    </tr>\n",
       "  </tbody>\n",
       "</table>\n",
       "</div>"
      ],
      "text/plain": [
       "   Unnamed: 0   Loan_ID  ApplicantIncome  CoapplicantIncome  LoanAmount  \\\n",
       "0           0  LP001002         0.070489           0.000000    0.172214   \n",
       "1           1  LP001003         0.054830           0.036192    0.172214   \n",
       "2           2  LP001005         0.035250           0.000000    0.082489   \n",
       "3           3  LP001006         0.030093           0.056592    0.160637   \n",
       "4           4  LP001008         0.072356           0.000000    0.191027   \n",
       "\n",
       "   Loan_Amount_Term  Credit_History Loan_Status  Gender_Male  Married_Yes  \\\n",
       "0             360.0             1.0           Y            1            0   \n",
       "1             360.0             1.0           N            1            1   \n",
       "2             360.0             1.0           Y            1            1   \n",
       "3             360.0             1.0           Y            1            1   \n",
       "4             360.0             1.0           Y            1            0   \n",
       "\n",
       "   Education_Not Graduate  Property_Area_Semiurban  Property_Area_Urban  \\\n",
       "0                       0                        0                    1   \n",
       "1                       0                        0                    0   \n",
       "2                       0                        0                    1   \n",
       "3                       1                        0                    1   \n",
       "4                       0                        0                    1   \n",
       "\n",
       "   Dependents_1  Dependents_2  Dependents_3+  Self_Employed_Yes  \n",
       "0             0             0              0                  0  \n",
       "1             1             0              0                  0  \n",
       "2             0             0              0                  1  \n",
       "3             0             0              0                  0  \n",
       "4             0             0              0                  0  "
      ]
     },
     "execution_count": 4,
     "metadata": {},
     "output_type": "execute_result"
    }
   ],
   "source": [
    "pre_data.head()"
   ]
  },
  {
   "cell_type": "code",
   "execution_count": 5,
   "metadata": {
    "id": "BXfJzwqY9gB7",
    "scrolled": true
   },
   "outputs": [],
   "source": [
    "# Removing redundant columns\n",
    "#We can drop loan id.\n",
    "l1=['Unnamed: 0','Loan_ID']\n",
    "pre_data.drop(l1,axis=1,inplace=True)"
   ]
  },
  {
   "cell_type": "code",
   "execution_count": 6,
   "metadata": {
    "id": "P9Pd_wPA9gB7",
    "outputId": "ac1e0477-5df6-43aa-80e5-f21fda4b3fbd"
   },
   "outputs": [
    {
     "data": {
      "text/html": [
       "<div>\n",
       "<style scoped>\n",
       "    .dataframe tbody tr th:only-of-type {\n",
       "        vertical-align: middle;\n",
       "    }\n",
       "\n",
       "    .dataframe tbody tr th {\n",
       "        vertical-align: top;\n",
       "    }\n",
       "\n",
       "    .dataframe thead th {\n",
       "        text-align: right;\n",
       "    }\n",
       "</style>\n",
       "<table border=\"1\" class=\"dataframe\">\n",
       "  <thead>\n",
       "    <tr style=\"text-align: right;\">\n",
       "      <th></th>\n",
       "      <th>ApplicantIncome</th>\n",
       "      <th>CoapplicantIncome</th>\n",
       "      <th>LoanAmount</th>\n",
       "      <th>Loan_Amount_Term</th>\n",
       "      <th>Credit_History</th>\n",
       "      <th>Loan_Status</th>\n",
       "      <th>Gender_Male</th>\n",
       "      <th>Married_Yes</th>\n",
       "      <th>Education_Not Graduate</th>\n",
       "      <th>Property_Area_Semiurban</th>\n",
       "      <th>Property_Area_Urban</th>\n",
       "      <th>Dependents_1</th>\n",
       "      <th>Dependents_2</th>\n",
       "      <th>Dependents_3+</th>\n",
       "      <th>Self_Employed_Yes</th>\n",
       "    </tr>\n",
       "  </thead>\n",
       "  <tbody>\n",
       "    <tr>\n",
       "      <th>0</th>\n",
       "      <td>0.070489</td>\n",
       "      <td>0.000000</td>\n",
       "      <td>0.172214</td>\n",
       "      <td>360.0</td>\n",
       "      <td>1.0</td>\n",
       "      <td>Y</td>\n",
       "      <td>1</td>\n",
       "      <td>0</td>\n",
       "      <td>0</td>\n",
       "      <td>0</td>\n",
       "      <td>1</td>\n",
       "      <td>0</td>\n",
       "      <td>0</td>\n",
       "      <td>0</td>\n",
       "      <td>0</td>\n",
       "    </tr>\n",
       "    <tr>\n",
       "      <th>1</th>\n",
       "      <td>0.054830</td>\n",
       "      <td>0.036192</td>\n",
       "      <td>0.172214</td>\n",
       "      <td>360.0</td>\n",
       "      <td>1.0</td>\n",
       "      <td>N</td>\n",
       "      <td>1</td>\n",
       "      <td>1</td>\n",
       "      <td>0</td>\n",
       "      <td>0</td>\n",
       "      <td>0</td>\n",
       "      <td>1</td>\n",
       "      <td>0</td>\n",
       "      <td>0</td>\n",
       "      <td>0</td>\n",
       "    </tr>\n",
       "    <tr>\n",
       "      <th>2</th>\n",
       "      <td>0.035250</td>\n",
       "      <td>0.000000</td>\n",
       "      <td>0.082489</td>\n",
       "      <td>360.0</td>\n",
       "      <td>1.0</td>\n",
       "      <td>Y</td>\n",
       "      <td>1</td>\n",
       "      <td>1</td>\n",
       "      <td>0</td>\n",
       "      <td>0</td>\n",
       "      <td>1</td>\n",
       "      <td>0</td>\n",
       "      <td>0</td>\n",
       "      <td>0</td>\n",
       "      <td>1</td>\n",
       "    </tr>\n",
       "    <tr>\n",
       "      <th>3</th>\n",
       "      <td>0.030093</td>\n",
       "      <td>0.056592</td>\n",
       "      <td>0.160637</td>\n",
       "      <td>360.0</td>\n",
       "      <td>1.0</td>\n",
       "      <td>Y</td>\n",
       "      <td>1</td>\n",
       "      <td>1</td>\n",
       "      <td>1</td>\n",
       "      <td>0</td>\n",
       "      <td>1</td>\n",
       "      <td>0</td>\n",
       "      <td>0</td>\n",
       "      <td>0</td>\n",
       "      <td>0</td>\n",
       "    </tr>\n",
       "    <tr>\n",
       "      <th>4</th>\n",
       "      <td>0.072356</td>\n",
       "      <td>0.000000</td>\n",
       "      <td>0.191027</td>\n",
       "      <td>360.0</td>\n",
       "      <td>1.0</td>\n",
       "      <td>Y</td>\n",
       "      <td>1</td>\n",
       "      <td>0</td>\n",
       "      <td>0</td>\n",
       "      <td>0</td>\n",
       "      <td>1</td>\n",
       "      <td>0</td>\n",
       "      <td>0</td>\n",
       "      <td>0</td>\n",
       "      <td>0</td>\n",
       "    </tr>\n",
       "    <tr>\n",
       "      <th>...</th>\n",
       "      <td>...</td>\n",
       "      <td>...</td>\n",
       "      <td>...</td>\n",
       "      <td>...</td>\n",
       "      <td>...</td>\n",
       "      <td>...</td>\n",
       "      <td>...</td>\n",
       "      <td>...</td>\n",
       "      <td>...</td>\n",
       "      <td>...</td>\n",
       "      <td>...</td>\n",
       "      <td>...</td>\n",
       "      <td>...</td>\n",
       "      <td>...</td>\n",
       "      <td>...</td>\n",
       "    </tr>\n",
       "    <tr>\n",
       "      <th>609</th>\n",
       "      <td>0.034014</td>\n",
       "      <td>0.000000</td>\n",
       "      <td>0.089725</td>\n",
       "      <td>360.0</td>\n",
       "      <td>1.0</td>\n",
       "      <td>Y</td>\n",
       "      <td>0</td>\n",
       "      <td>0</td>\n",
       "      <td>0</td>\n",
       "      <td>0</td>\n",
       "      <td>0</td>\n",
       "      <td>0</td>\n",
       "      <td>0</td>\n",
       "      <td>0</td>\n",
       "      <td>0</td>\n",
       "    </tr>\n",
       "    <tr>\n",
       "      <th>610</th>\n",
       "      <td>0.048930</td>\n",
       "      <td>0.000000</td>\n",
       "      <td>0.044863</td>\n",
       "      <td>180.0</td>\n",
       "      <td>1.0</td>\n",
       "      <td>Y</td>\n",
       "      <td>1</td>\n",
       "      <td>1</td>\n",
       "      <td>0</td>\n",
       "      <td>0</td>\n",
       "      <td>0</td>\n",
       "      <td>0</td>\n",
       "      <td>0</td>\n",
       "      <td>1</td>\n",
       "      <td>0</td>\n",
       "    </tr>\n",
       "    <tr>\n",
       "      <th>611</th>\n",
       "      <td>0.097984</td>\n",
       "      <td>0.005760</td>\n",
       "      <td>0.353111</td>\n",
       "      <td>360.0</td>\n",
       "      <td>1.0</td>\n",
       "      <td>Y</td>\n",
       "      <td>1</td>\n",
       "      <td>1</td>\n",
       "      <td>0</td>\n",
       "      <td>0</td>\n",
       "      <td>1</td>\n",
       "      <td>1</td>\n",
       "      <td>0</td>\n",
       "      <td>0</td>\n",
       "      <td>0</td>\n",
       "    </tr>\n",
       "    <tr>\n",
       "      <th>612</th>\n",
       "      <td>0.091936</td>\n",
       "      <td>0.000000</td>\n",
       "      <td>0.257598</td>\n",
       "      <td>360.0</td>\n",
       "      <td>1.0</td>\n",
       "      <td>Y</td>\n",
       "      <td>1</td>\n",
       "      <td>1</td>\n",
       "      <td>0</td>\n",
       "      <td>0</td>\n",
       "      <td>1</td>\n",
       "      <td>0</td>\n",
       "      <td>1</td>\n",
       "      <td>0</td>\n",
       "      <td>0</td>\n",
       "    </tr>\n",
       "    <tr>\n",
       "      <th>613</th>\n",
       "      <td>0.054830</td>\n",
       "      <td>0.000000</td>\n",
       "      <td>0.179450</td>\n",
       "      <td>360.0</td>\n",
       "      <td>0.0</td>\n",
       "      <td>N</td>\n",
       "      <td>0</td>\n",
       "      <td>0</td>\n",
       "      <td>0</td>\n",
       "      <td>1</td>\n",
       "      <td>0</td>\n",
       "      <td>0</td>\n",
       "      <td>0</td>\n",
       "      <td>0</td>\n",
       "      <td>1</td>\n",
       "    </tr>\n",
       "  </tbody>\n",
       "</table>\n",
       "<p>614 rows × 15 columns</p>\n",
       "</div>"
      ],
      "text/plain": [
       "     ApplicantIncome  CoapplicantIncome  LoanAmount  Loan_Amount_Term  \\\n",
       "0           0.070489           0.000000    0.172214             360.0   \n",
       "1           0.054830           0.036192    0.172214             360.0   \n",
       "2           0.035250           0.000000    0.082489             360.0   \n",
       "3           0.030093           0.056592    0.160637             360.0   \n",
       "4           0.072356           0.000000    0.191027             360.0   \n",
       "..               ...                ...         ...               ...   \n",
       "609         0.034014           0.000000    0.089725             360.0   \n",
       "610         0.048930           0.000000    0.044863             180.0   \n",
       "611         0.097984           0.005760    0.353111             360.0   \n",
       "612         0.091936           0.000000    0.257598             360.0   \n",
       "613         0.054830           0.000000    0.179450             360.0   \n",
       "\n",
       "     Credit_History Loan_Status  Gender_Male  Married_Yes  \\\n",
       "0               1.0           Y            1            0   \n",
       "1               1.0           N            1            1   \n",
       "2               1.0           Y            1            1   \n",
       "3               1.0           Y            1            1   \n",
       "4               1.0           Y            1            0   \n",
       "..              ...         ...          ...          ...   \n",
       "609             1.0           Y            0            0   \n",
       "610             1.0           Y            1            1   \n",
       "611             1.0           Y            1            1   \n",
       "612             1.0           Y            1            1   \n",
       "613             0.0           N            0            0   \n",
       "\n",
       "     Education_Not Graduate  Property_Area_Semiurban  Property_Area_Urban  \\\n",
       "0                         0                        0                    1   \n",
       "1                         0                        0                    0   \n",
       "2                         0                        0                    1   \n",
       "3                         1                        0                    1   \n",
       "4                         0                        0                    1   \n",
       "..                      ...                      ...                  ...   \n",
       "609                       0                        0                    0   \n",
       "610                       0                        0                    0   \n",
       "611                       0                        0                    1   \n",
       "612                       0                        0                    1   \n",
       "613                       0                        1                    0   \n",
       "\n",
       "     Dependents_1  Dependents_2  Dependents_3+  Self_Employed_Yes  \n",
       "0               0             0              0                  0  \n",
       "1               1             0              0                  0  \n",
       "2               0             0              0                  1  \n",
       "3               0             0              0                  0  \n",
       "4               0             0              0                  0  \n",
       "..            ...           ...            ...                ...  \n",
       "609             0             0              0                  0  \n",
       "610             0             0              1                  0  \n",
       "611             1             0              0                  0  \n",
       "612             0             1              0                  0  \n",
       "613             0             0              0                  1  \n",
       "\n",
       "[614 rows x 15 columns]"
      ]
     },
     "execution_count": 6,
     "metadata": {},
     "output_type": "execute_result"
    }
   ],
   "source": [
    "pre_data"
   ]
  },
  {
   "cell_type": "code",
   "execution_count": 7,
   "metadata": {
    "id": "kNDP24i4tV6T"
   },
   "outputs": [],
   "source": [
    "## checking correlation\n",
    "corr_data=pre_data[['ApplicantIncome','CoapplicantIncome','LoanAmount']]"
   ]
  },
  {
   "cell_type": "code",
   "execution_count": 8,
   "metadata": {},
   "outputs": [
    {
     "data": {
      "text/html": [
       "<div>\n",
       "<style scoped>\n",
       "    .dataframe tbody tr th:only-of-type {\n",
       "        vertical-align: middle;\n",
       "    }\n",
       "\n",
       "    .dataframe tbody tr th {\n",
       "        vertical-align: top;\n",
       "    }\n",
       "\n",
       "    .dataframe thead th {\n",
       "        text-align: right;\n",
       "    }\n",
       "</style>\n",
       "<table border=\"1\" class=\"dataframe\">\n",
       "  <thead>\n",
       "    <tr style=\"text-align: right;\">\n",
       "      <th></th>\n",
       "      <th>ApplicantIncome</th>\n",
       "      <th>CoapplicantIncome</th>\n",
       "      <th>LoanAmount</th>\n",
       "    </tr>\n",
       "  </thead>\n",
       "  <tbody>\n",
       "    <tr>\n",
       "      <th>0</th>\n",
       "      <td>0.070489</td>\n",
       "      <td>0.000000</td>\n",
       "      <td>0.172214</td>\n",
       "    </tr>\n",
       "    <tr>\n",
       "      <th>1</th>\n",
       "      <td>0.054830</td>\n",
       "      <td>0.036192</td>\n",
       "      <td>0.172214</td>\n",
       "    </tr>\n",
       "    <tr>\n",
       "      <th>2</th>\n",
       "      <td>0.035250</td>\n",
       "      <td>0.000000</td>\n",
       "      <td>0.082489</td>\n",
       "    </tr>\n",
       "    <tr>\n",
       "      <th>3</th>\n",
       "      <td>0.030093</td>\n",
       "      <td>0.056592</td>\n",
       "      <td>0.160637</td>\n",
       "    </tr>\n",
       "    <tr>\n",
       "      <th>4</th>\n",
       "      <td>0.072356</td>\n",
       "      <td>0.000000</td>\n",
       "      <td>0.191027</td>\n",
       "    </tr>\n",
       "    <tr>\n",
       "      <th>...</th>\n",
       "      <td>...</td>\n",
       "      <td>...</td>\n",
       "      <td>...</td>\n",
       "    </tr>\n",
       "    <tr>\n",
       "      <th>609</th>\n",
       "      <td>0.034014</td>\n",
       "      <td>0.000000</td>\n",
       "      <td>0.089725</td>\n",
       "    </tr>\n",
       "    <tr>\n",
       "      <th>610</th>\n",
       "      <td>0.048930</td>\n",
       "      <td>0.000000</td>\n",
       "      <td>0.044863</td>\n",
       "    </tr>\n",
       "    <tr>\n",
       "      <th>611</th>\n",
       "      <td>0.097984</td>\n",
       "      <td>0.005760</td>\n",
       "      <td>0.353111</td>\n",
       "    </tr>\n",
       "    <tr>\n",
       "      <th>612</th>\n",
       "      <td>0.091936</td>\n",
       "      <td>0.000000</td>\n",
       "      <td>0.257598</td>\n",
       "    </tr>\n",
       "    <tr>\n",
       "      <th>613</th>\n",
       "      <td>0.054830</td>\n",
       "      <td>0.000000</td>\n",
       "      <td>0.179450</td>\n",
       "    </tr>\n",
       "  </tbody>\n",
       "</table>\n",
       "<p>614 rows × 3 columns</p>\n",
       "</div>"
      ],
      "text/plain": [
       "     ApplicantIncome  CoapplicantIncome  LoanAmount\n",
       "0           0.070489           0.000000    0.172214\n",
       "1           0.054830           0.036192    0.172214\n",
       "2           0.035250           0.000000    0.082489\n",
       "3           0.030093           0.056592    0.160637\n",
       "4           0.072356           0.000000    0.191027\n",
       "..               ...                ...         ...\n",
       "609         0.034014           0.000000    0.089725\n",
       "610         0.048930           0.000000    0.044863\n",
       "611         0.097984           0.005760    0.353111\n",
       "612         0.091936           0.000000    0.257598\n",
       "613         0.054830           0.000000    0.179450\n",
       "\n",
       "[614 rows x 3 columns]"
      ]
     },
     "execution_count": 8,
     "metadata": {},
     "output_type": "execute_result"
    }
   ],
   "source": [
    "corr_data"
   ]
  },
  {
   "cell_type": "code",
   "execution_count": 9,
   "metadata": {
    "id": "Ba0SeqEXtV6U",
    "outputId": "e7dfdde7-c543-471e-d9dd-3d1ae7ea1a6b"
   },
   "outputs": [
    {
     "data": {
      "text/plain": [
       "<AxesSubplot:>"
      ]
     },
     "execution_count": 9,
     "metadata": {},
     "output_type": "execute_result"
    },
    {
     "data": {
      "image/png": "[encoded data removed]",
      "text/plain": [
       "<Figure size 640x480 with 2 Axes>"
      ]
     },
     "metadata": {},
     "output_type": "display_data"
    }
   ],
   "source": [
    "sns.heatmap(corr_data.corr(),annot=True)"
   ]
  },
  {
   "cell_type": "code",
   "execution_count": null,
   "metadata": {
    "id": "Uetbf3HMtV6V"
   },
   "outputs": [],
   "source": [
    "## There is no relationship among the numerical data"
   ]
  },
  {
   "cell_type": "code",
   "execution_count": 10,
   "metadata": {},
   "outputs": [
    {
     "data": {
      "text/html": [
       "<div>\n",
       "<style scoped>\n",
       "    .dataframe tbody tr th:only-of-type {\n",
       "        vertical-align: middle;\n",
       "    }\n",
       "\n",
       "    .dataframe tbody tr th {\n",
       "        vertical-align: top;\n",
       "    }\n",
       "\n",
       "    .dataframe thead th {\n",
       "        text-align: right;\n",
       "    }\n",
       "</style>\n",
       "<table border=\"1\" class=\"dataframe\">\n",
       "  <thead>\n",
       "    <tr style=\"text-align: right;\">\n",
       "      <th></th>\n",
       "      <th>ApplicantIncome</th>\n",
       "      <th>CoapplicantIncome</th>\n",
       "      <th>LoanAmount</th>\n",
       "      <th>Loan_Amount_Term</th>\n",
       "      <th>Credit_History</th>\n",
       "      <th>Loan_Status</th>\n",
       "      <th>Gender_Male</th>\n",
       "      <th>Married_Yes</th>\n",
       "      <th>Education_Not Graduate</th>\n",
       "      <th>Property_Area_Semiurban</th>\n",
       "      <th>Property_Area_Urban</th>\n",
       "      <th>Dependents_1</th>\n",
       "      <th>Dependents_2</th>\n",
       "      <th>Dependents_3+</th>\n",
       "      <th>Self_Employed_Yes</th>\n",
       "    </tr>\n",
       "  </thead>\n",
       "  <tbody>\n",
       "    <tr>\n",
       "      <th>0</th>\n",
       "      <td>0.070489</td>\n",
       "      <td>0.000000</td>\n",
       "      <td>0.172214</td>\n",
       "      <td>360.0</td>\n",
       "      <td>1.0</td>\n",
       "      <td>Y</td>\n",
       "      <td>1</td>\n",
       "      <td>0</td>\n",
       "      <td>0</td>\n",
       "      <td>0</td>\n",
       "      <td>1</td>\n",
       "      <td>0</td>\n",
       "      <td>0</td>\n",
       "      <td>0</td>\n",
       "      <td>0</td>\n",
       "    </tr>\n",
       "    <tr>\n",
       "      <th>1</th>\n",
       "      <td>0.054830</td>\n",
       "      <td>0.036192</td>\n",
       "      <td>0.172214</td>\n",
       "      <td>360.0</td>\n",
       "      <td>1.0</td>\n",
       "      <td>N</td>\n",
       "      <td>1</td>\n",
       "      <td>1</td>\n",
       "      <td>0</td>\n",
       "      <td>0</td>\n",
       "      <td>0</td>\n",
       "      <td>1</td>\n",
       "      <td>0</td>\n",
       "      <td>0</td>\n",
       "      <td>0</td>\n",
       "    </tr>\n",
       "    <tr>\n",
       "      <th>2</th>\n",
       "      <td>0.035250</td>\n",
       "      <td>0.000000</td>\n",
       "      <td>0.082489</td>\n",
       "      <td>360.0</td>\n",
       "      <td>1.0</td>\n",
       "      <td>Y</td>\n",
       "      <td>1</td>\n",
       "      <td>1</td>\n",
       "      <td>0</td>\n",
       "      <td>0</td>\n",
       "      <td>1</td>\n",
       "      <td>0</td>\n",
       "      <td>0</td>\n",
       "      <td>0</td>\n",
       "      <td>1</td>\n",
       "    </tr>\n",
       "    <tr>\n",
       "      <th>3</th>\n",
       "      <td>0.030093</td>\n",
       "      <td>0.056592</td>\n",
       "      <td>0.160637</td>\n",
       "      <td>360.0</td>\n",
       "      <td>1.0</td>\n",
       "      <td>Y</td>\n",
       "      <td>1</td>\n",
       "      <td>1</td>\n",
       "      <td>1</td>\n",
       "      <td>0</td>\n",
       "      <td>1</td>\n",
       "      <td>0</td>\n",
       "      <td>0</td>\n",
       "      <td>0</td>\n",
       "      <td>0</td>\n",
       "    </tr>\n",
       "    <tr>\n",
       "      <th>4</th>\n",
       "      <td>0.072356</td>\n",
       "      <td>0.000000</td>\n",
       "      <td>0.191027</td>\n",
       "      <td>360.0</td>\n",
       "      <td>1.0</td>\n",
       "      <td>Y</td>\n",
       "      <td>1</td>\n",
       "      <td>0</td>\n",
       "      <td>0</td>\n",
       "      <td>0</td>\n",
       "      <td>1</td>\n",
       "      <td>0</td>\n",
       "      <td>0</td>\n",
       "      <td>0</td>\n",
       "      <td>0</td>\n",
       "    </tr>\n",
       "  </tbody>\n",
       "</table>\n",
       "</div>"
      ],
      "text/plain": [
       "   ApplicantIncome  CoapplicantIncome  LoanAmount  Loan_Amount_Term  \\\n",
       "0         0.070489           0.000000    0.172214             360.0   \n",
       "1         0.054830           0.036192    0.172214             360.0   \n",
       "2         0.035250           0.000000    0.082489             360.0   \n",
       "3         0.030093           0.056592    0.160637             360.0   \n",
       "4         0.072356           0.000000    0.191027             360.0   \n",
       "\n",
       "   Credit_History Loan_Status  Gender_Male  Married_Yes  \\\n",
       "0             1.0           Y            1            0   \n",
       "1             1.0           N            1            1   \n",
       "2             1.0           Y            1            1   \n",
       "3             1.0           Y            1            1   \n",
       "4             1.0           Y            1            0   \n",
       "\n",
       "   Education_Not Graduate  Property_Area_Semiurban  Property_Area_Urban  \\\n",
       "0                       0                        0                    1   \n",
       "1                       0                        0                    0   \n",
       "2                       0                        0                    1   \n",
       "3                       1                        0                    1   \n",
       "4                       0                        0                    1   \n",
       "\n",
       "   Dependents_1  Dependents_2  Dependents_3+  Self_Employed_Yes  \n",
       "0             0             0              0                  0  \n",
       "1             1             0              0                  0  \n",
       "2             0             0              0                  1  \n",
       "3             0             0              0                  0  \n",
       "4             0             0              0                  0  "
      ]
     },
     "execution_count": 10,
     "metadata": {},
     "output_type": "execute_result"
    }
   ],
   "source": [
    "pre_data.head()"
   ]
  },
  {
   "cell_type": "code",
   "execution_count": 11,
   "metadata": {
    "id": "9oS7kb5p9gB-"
   },
   "outputs": [],
   "source": [
    "pre_data.Loan_Status=pre_data.Loan_Status.map({'Y':1,'N':0})"
   ]
  },
  {
   "cell_type": "code",
   "execution_count": 12,
   "metadata": {
    "id": "ka5HXtV7tV6Z"
   },
   "outputs": [
    {
     "data": {
      "text/html": [
       "<div>\n",
       "<style scoped>\n",
       "    .dataframe tbody tr th:only-of-type {\n",
       "        vertical-align: middle;\n",
       "    }\n",
       "\n",
       "    .dataframe tbody tr th {\n",
       "        vertical-align: top;\n",
       "    }\n",
       "\n",
       "    .dataframe thead th {\n",
       "        text-align: right;\n",
       "    }\n",
       "</style>\n",
       "<table border=\"1\" class=\"dataframe\">\n",
       "  <thead>\n",
       "    <tr style=\"text-align: right;\">\n",
       "      <th></th>\n",
       "      <th>ApplicantIncome</th>\n",
       "      <th>CoapplicantIncome</th>\n",
       "      <th>LoanAmount</th>\n",
       "      <th>Loan_Amount_Term</th>\n",
       "      <th>Credit_History</th>\n",
       "      <th>Loan_Status</th>\n",
       "      <th>Gender_Male</th>\n",
       "      <th>Married_Yes</th>\n",
       "      <th>Education_Not Graduate</th>\n",
       "      <th>Property_Area_Semiurban</th>\n",
       "      <th>Property_Area_Urban</th>\n",
       "      <th>Dependents_1</th>\n",
       "      <th>Dependents_2</th>\n",
       "      <th>Dependents_3+</th>\n",
       "      <th>Self_Employed_Yes</th>\n",
       "    </tr>\n",
       "  </thead>\n",
       "  <tbody>\n",
       "    <tr>\n",
       "      <th>0</th>\n",
       "      <td>0.070489</td>\n",
       "      <td>0.000000</td>\n",
       "      <td>0.172214</td>\n",
       "      <td>360.0</td>\n",
       "      <td>1.0</td>\n",
       "      <td>1</td>\n",
       "      <td>1</td>\n",
       "      <td>0</td>\n",
       "      <td>0</td>\n",
       "      <td>0</td>\n",
       "      <td>1</td>\n",
       "      <td>0</td>\n",
       "      <td>0</td>\n",
       "      <td>0</td>\n",
       "      <td>0</td>\n",
       "    </tr>\n",
       "    <tr>\n",
       "      <th>1</th>\n",
       "      <td>0.054830</td>\n",
       "      <td>0.036192</td>\n",
       "      <td>0.172214</td>\n",
       "      <td>360.0</td>\n",
       "      <td>1.0</td>\n",
       "      <td>0</td>\n",
       "      <td>1</td>\n",
       "      <td>1</td>\n",
       "      <td>0</td>\n",
       "      <td>0</td>\n",
       "      <td>0</td>\n",
       "      <td>1</td>\n",
       "      <td>0</td>\n",
       "      <td>0</td>\n",
       "      <td>0</td>\n",
       "    </tr>\n",
       "    <tr>\n",
       "      <th>2</th>\n",
       "      <td>0.035250</td>\n",
       "      <td>0.000000</td>\n",
       "      <td>0.082489</td>\n",
       "      <td>360.0</td>\n",
       "      <td>1.0</td>\n",
       "      <td>1</td>\n",
       "      <td>1</td>\n",
       "      <td>1</td>\n",
       "      <td>0</td>\n",
       "      <td>0</td>\n",
       "      <td>1</td>\n",
       "      <td>0</td>\n",
       "      <td>0</td>\n",
       "      <td>0</td>\n",
       "      <td>1</td>\n",
       "    </tr>\n",
       "    <tr>\n",
       "      <th>3</th>\n",
       "      <td>0.030093</td>\n",
       "      <td>0.056592</td>\n",
       "      <td>0.160637</td>\n",
       "      <td>360.0</td>\n",
       "      <td>1.0</td>\n",
       "      <td>1</td>\n",
       "      <td>1</td>\n",
       "      <td>1</td>\n",
       "      <td>1</td>\n",
       "      <td>0</td>\n",
       "      <td>1</td>\n",
       "      <td>0</td>\n",
       "      <td>0</td>\n",
       "      <td>0</td>\n",
       "      <td>0</td>\n",
       "    </tr>\n",
       "    <tr>\n",
       "      <th>4</th>\n",
       "      <td>0.072356</td>\n",
       "      <td>0.000000</td>\n",
       "      <td>0.191027</td>\n",
       "      <td>360.0</td>\n",
       "      <td>1.0</td>\n",
       "      <td>1</td>\n",
       "      <td>1</td>\n",
       "      <td>0</td>\n",
       "      <td>0</td>\n",
       "      <td>0</td>\n",
       "      <td>1</td>\n",
       "      <td>0</td>\n",
       "      <td>0</td>\n",
       "      <td>0</td>\n",
       "      <td>0</td>\n",
       "    </tr>\n",
       "  </tbody>\n",
       "</table>\n",
       "</div>"
      ],
      "text/plain": [
       "   ApplicantIncome  CoapplicantIncome  LoanAmount  Loan_Amount_Term  \\\n",
       "0         0.070489           0.000000    0.172214             360.0   \n",
       "1         0.054830           0.036192    0.172214             360.0   \n",
       "2         0.035250           0.000000    0.082489             360.0   \n",
       "3         0.030093           0.056592    0.160637             360.0   \n",
       "4         0.072356           0.000000    0.191027             360.0   \n",
       "\n",
       "   Credit_History  Loan_Status  Gender_Male  Married_Yes  \\\n",
       "0             1.0            1            1            0   \n",
       "1             1.0            0            1            1   \n",
       "2             1.0            1            1            1   \n",
       "3             1.0            1            1            1   \n",
       "4             1.0            1            1            0   \n",
       "\n",
       "   Education_Not Graduate  Property_Area_Semiurban  Property_Area_Urban  \\\n",
       "0                       0                        0                    1   \n",
       "1                       0                        0                    0   \n",
       "2                       0                        0                    1   \n",
       "3                       1                        0                    1   \n",
       "4                       0                        0                    1   \n",
       "\n",
       "   Dependents_1  Dependents_2  Dependents_3+  Self_Employed_Yes  \n",
       "0             0             0              0                  0  \n",
       "1             1             0              0                  0  \n",
       "2             0             0              0                  1  \n",
       "3             0             0              0                  0  \n",
       "4             0             0              0                  0  "
      ]
     },
     "execution_count": 12,
     "metadata": {},
     "output_type": "execute_result"
    }
   ],
   "source": [
    "pre_data.head()"
   ]
  },
  {
   "cell_type": "markdown",
   "metadata": {
    "id": "gDukLSkotV6a"
   },
   "source": [
    "## Model Creation"
   ]
  },
  {
   "cell_type": "code",
   "execution_count": null,
   "metadata": {
    "id": "AJi9Zfrx9gB_",
    "outputId": "1a8108af-5f2d-406d-ee49-7e984a69fc29"
   },
   "outputs": [],
   "source": [
    "pre_data.head(1)"
   ]
  },
  {
   "cell_type": "code",
   "execution_count": null,
   "metadata": {
    "id": "Q4vWEoMU9gCA",
    "outputId": "6685ea22-aae9-4db4-81e1-239eb36d8848"
   },
   "outputs": [],
   "source": [
    "pre_data.columns"
   ]
  },
  {
   "cell_type": "code",
   "execution_count": 13,
   "metadata": {
    "id": "98a1xUdntV6a"
   },
   "outputs": [],
   "source": [
    "## defining X and y\n",
    "X=pre_data.loc[:,['ApplicantIncome', 'CoapplicantIncome', 'LoanAmount',\n",
    "       'Loan_Amount_Term', 'Credit_History','Gender_Male',\n",
    "       'Married_Yes', 'Education_Not Graduate', 'Property_Area_Semiurban',\n",
    "       'Property_Area_Urban', 'Dependents_1', 'Dependents_2', 'Dependents_3+',\n",
    "       'Self_Employed_Yes']]\n",
    "y=pre_data.Loan_Status"
   ]
  },
  {
   "cell_type": "code",
   "execution_count": 14,
   "metadata": {
    "id": "mg5boTPW9gCC",
    "outputId": "2b793868-a9a8-47e7-a7cd-93fe19305041"
   },
   "outputs": [
    {
     "data": {
      "text/html": [
       "<div>\n",
       "<style scoped>\n",
       "    .dataframe tbody tr th:only-of-type {\n",
       "        vertical-align: middle;\n",
       "    }\n",
       "\n",
       "    .dataframe tbody tr th {\n",
       "        vertical-align: top;\n",
       "    }\n",
       "\n",
       "    .dataframe thead th {\n",
       "        text-align: right;\n",
       "    }\n",
       "</style>\n",
       "<table border=\"1\" class=\"dataframe\">\n",
       "  <thead>\n",
       "    <tr style=\"text-align: right;\">\n",
       "      <th></th>\n",
       "      <th>ApplicantIncome</th>\n",
       "      <th>CoapplicantIncome</th>\n",
       "      <th>LoanAmount</th>\n",
       "      <th>Loan_Amount_Term</th>\n",
       "      <th>Credit_History</th>\n",
       "      <th>Gender_Male</th>\n",
       "      <th>Married_Yes</th>\n",
       "      <th>Education_Not Graduate</th>\n",
       "      <th>Property_Area_Semiurban</th>\n",
       "      <th>Property_Area_Urban</th>\n",
       "      <th>Dependents_1</th>\n",
       "      <th>Dependents_2</th>\n",
       "      <th>Dependents_3+</th>\n",
       "      <th>Self_Employed_Yes</th>\n",
       "    </tr>\n",
       "  </thead>\n",
       "  <tbody>\n",
       "    <tr>\n",
       "      <th>0</th>\n",
       "      <td>0.070489</td>\n",
       "      <td>0.000000</td>\n",
       "      <td>0.172214</td>\n",
       "      <td>360.0</td>\n",
       "      <td>1.0</td>\n",
       "      <td>1</td>\n",
       "      <td>0</td>\n",
       "      <td>0</td>\n",
       "      <td>0</td>\n",
       "      <td>1</td>\n",
       "      <td>0</td>\n",
       "      <td>0</td>\n",
       "      <td>0</td>\n",
       "      <td>0</td>\n",
       "    </tr>\n",
       "    <tr>\n",
       "      <th>1</th>\n",
       "      <td>0.054830</td>\n",
       "      <td>0.036192</td>\n",
       "      <td>0.172214</td>\n",
       "      <td>360.0</td>\n",
       "      <td>1.0</td>\n",
       "      <td>1</td>\n",
       "      <td>1</td>\n",
       "      <td>0</td>\n",
       "      <td>0</td>\n",
       "      <td>0</td>\n",
       "      <td>1</td>\n",
       "      <td>0</td>\n",
       "      <td>0</td>\n",
       "      <td>0</td>\n",
       "    </tr>\n",
       "    <tr>\n",
       "      <th>2</th>\n",
       "      <td>0.035250</td>\n",
       "      <td>0.000000</td>\n",
       "      <td>0.082489</td>\n",
       "      <td>360.0</td>\n",
       "      <td>1.0</td>\n",
       "      <td>1</td>\n",
       "      <td>1</td>\n",
       "      <td>0</td>\n",
       "      <td>0</td>\n",
       "      <td>1</td>\n",
       "      <td>0</td>\n",
       "      <td>0</td>\n",
       "      <td>0</td>\n",
       "      <td>1</td>\n",
       "    </tr>\n",
       "    <tr>\n",
       "      <th>3</th>\n",
       "      <td>0.030093</td>\n",
       "      <td>0.056592</td>\n",
       "      <td>0.160637</td>\n",
       "      <td>360.0</td>\n",
       "      <td>1.0</td>\n",
       "      <td>1</td>\n",
       "      <td>1</td>\n",
       "      <td>1</td>\n",
       "      <td>0</td>\n",
       "      <td>1</td>\n",
       "      <td>0</td>\n",
       "      <td>0</td>\n",
       "      <td>0</td>\n",
       "      <td>0</td>\n",
       "    </tr>\n",
       "    <tr>\n",
       "      <th>4</th>\n",
       "      <td>0.072356</td>\n",
       "      <td>0.000000</td>\n",
       "      <td>0.191027</td>\n",
       "      <td>360.0</td>\n",
       "      <td>1.0</td>\n",
       "      <td>1</td>\n",
       "      <td>0</td>\n",
       "      <td>0</td>\n",
       "      <td>0</td>\n",
       "      <td>1</td>\n",
       "      <td>0</td>\n",
       "      <td>0</td>\n",
       "      <td>0</td>\n",
       "      <td>0</td>\n",
       "    </tr>\n",
       "  </tbody>\n",
       "</table>\n",
       "</div>"
      ],
      "text/plain": [
       "   ApplicantIncome  CoapplicantIncome  LoanAmount  Loan_Amount_Term  \\\n",
       "0         0.070489           0.000000    0.172214             360.0   \n",
       "1         0.054830           0.036192    0.172214             360.0   \n",
       "2         0.035250           0.000000    0.082489             360.0   \n",
       "3         0.030093           0.056592    0.160637             360.0   \n",
       "4         0.072356           0.000000    0.191027             360.0   \n",
       "\n",
       "   Credit_History  Gender_Male  Married_Yes  Education_Not Graduate  \\\n",
       "0             1.0            1            0                       0   \n",
       "1             1.0            1            1                       0   \n",
       "2             1.0            1            1                       0   \n",
       "3             1.0            1            1                       1   \n",
       "4             1.0            1            0                       0   \n",
       "\n",
       "   Property_Area_Semiurban  Property_Area_Urban  Dependents_1  Dependents_2  \\\n",
       "0                        0                    1             0             0   \n",
       "1                        0                    0             1             0   \n",
       "2                        0                    1             0             0   \n",
       "3                        0                    1             0             0   \n",
       "4                        0                    1             0             0   \n",
       "\n",
       "   Dependents_3+  Self_Employed_Yes  \n",
       "0              0                  0  \n",
       "1              0                  0  \n",
       "2              0                  1  \n",
       "3              0                  0  \n",
       "4              0                  0  "
      ]
     },
     "execution_count": 14,
     "metadata": {},
     "output_type": "execute_result"
    }
   ],
   "source": [
    "X.head()"
   ]
  },
  {
   "cell_type": "code",
   "execution_count": 15,
   "metadata": {
    "id": "zdSoKVZ99gCC",
    "outputId": "ea5b3de6-a353-475f-d8e8-f855385c26e4"
   },
   "outputs": [
    {
     "data": {
      "text/plain": [
       "0      1\n",
       "1      0\n",
       "2      1\n",
       "3      1\n",
       "4      1\n",
       "      ..\n",
       "609    1\n",
       "610    1\n",
       "611    1\n",
       "612    1\n",
       "613    0\n",
       "Name: Loan_Status, Length: 614, dtype: int64"
      ]
     },
     "execution_count": 15,
     "metadata": {},
     "output_type": "execute_result"
    }
   ],
   "source": [
    "y"
   ]
  },
  {
   "cell_type": "code",
   "execution_count": 16,
   "metadata": {
    "id": "0mPjsfhJYJ2c"
   },
   "outputs": [],
   "source": [
    "## creating training and testing data\n",
    "from sklearn.model_selection import train_test_split\n",
    "X_train,X_test,y_train,y_test=train_test_split(X, y,test_size=0.20,random_state=3)"
   ]
  },
  {
   "cell_type": "code",
   "execution_count": 17,
   "metadata": {},
   "outputs": [
    {
     "data": {
      "text/plain": [
       "(491, 14)"
      ]
     },
     "execution_count": 17,
     "metadata": {},
     "output_type": "execute_result"
    }
   ],
   "source": [
    "X_train.shape"
   ]
  },
  {
   "cell_type": "code",
   "execution_count": 18,
   "metadata": {
    "id": "U-uyq0DH9gCD"
   },
   "outputs": [
    {
     "data": {
      "text/plain": [
       "1    422\n",
       "0    192\n",
       "Name: Loan_Status, dtype: int64"
      ]
     },
     "execution_count": 18,
     "metadata": {},
     "output_type": "execute_result"
    }
   ],
   "source": [
    "## balancing the data\n",
    "pre_data.Loan_Status.value_counts()"
   ]
  },
  {
   "cell_type": "code",
   "execution_count": null,
   "metadata": {},
   "outputs": [],
   "source": [
    "!pip install -U imbalanced-learn"
   ]
  },
  {
   "cell_type": "code",
   "execution_count": null,
   "metadata": {},
   "outputs": [],
   "source": [
    "pip install imblearn"
   ]
  },
  {
   "cell_type": "code",
   "execution_count": 19,
   "metadata": {
    "id": "k0ctwtZ7tV6c"
   },
   "outputs": [],
   "source": [
    "# Install imblearn package - pip install imblearn\n",
    "from imblearn.over_sampling import SMOTE\n",
    "smote = SMOTE()"
   ]
  },
  {
   "cell_type": "code",
   "execution_count": 20,
   "metadata": {
    "id": "v3TXlCyitV6c"
   },
   "outputs": [],
   "source": [
    "#Smote is always applied on training data\n",
    "X_smote, y_smote = smote.fit_resample(X_train,y_train)"
   ]
  },
  {
   "cell_type": "markdown",
   "metadata": {
    "id": "bvDuIc2JtV6d"
   },
   "source": [
    "**Counter** is a container which keeps track to how many times equivalent values are added. Python counter class is a part of collections module and is a subclass of dictionary."
   ]
  },
  {
   "cell_type": "code",
   "execution_count": 21,
   "metadata": {
    "colab": {
     "base_uri": "https://localhost:8080/"
    },
    "executionInfo": {
     "elapsed": 508,
     "status": "ok",
     "timestamp": 1642344849725,
     "user": {
      "displayName": "Shubhangi Sakarkar",
      "photoUrl": "https://lh3.googleusercontent.com/a-/AOh14GjiJriRrUWKSeoxmYnVoL2uz2i6E3RLOwZgeqHG=s64",
      "userId": "12180749557274197061"
     },
     "user_tz": -330
    },
    "id": "TL38U59ptV6e",
    "outputId": "d4ac5784-d673-4f04-d74e-9ee6323663b7"
   },
   "outputs": [
    {
     "name": "stdout",
     "output_type": "stream",
     "text": [
      "Actual Classes Counter({1: 327, 0: 164})\n",
      "SMOTE Classes Counter({1: 327, 0: 327})\n"
     ]
    }
   ],
   "source": [
    "from collections import Counter\n",
    "print(\"Actual Classes\",Counter(y_train))\n",
    "print(\"SMOTE Classes\",Counter(y_smote))"
   ]
  },
  {
   "cell_type": "code",
   "execution_count": 22,
   "metadata": {
    "colab": {
     "base_uri": "https://localhost:8080/"
    },
    "executionInfo": {
     "elapsed": 402,
     "status": "ok",
     "timestamp": 1642344876236,
     "user": {
      "displayName": "Shubhangi Sakarkar",
      "photoUrl": "https://lh3.googleusercontent.com/a-/AOh14GjiJriRrUWKSeoxmYnVoL2uz2i6E3RLOwZgeqHG=s64",
      "userId": "12180749557274197061"
     },
     "user_tz": -330
    },
    "id": "NI4prSahtV6f",
    "outputId": "f880b2d6-6da3-44c0-e691-5220a9aff44f"
   },
   "outputs": [
    {
     "data": {
      "text/plain": [
       "SVC()"
      ]
     },
     "execution_count": 22,
     "metadata": {},
     "output_type": "execute_result"
    }
   ],
   "source": [
    "# Support Vector Classifier Model\n",
    "\n",
    "from sklearn.svm import SVC\n",
    "svclassifier = SVC() ## base model with default parameters\n",
    "svclassifier.fit(X_smote, y_smote)"
   ]
  },
  {
   "cell_type": "code",
   "execution_count": 23,
   "metadata": {
    "id": "zMNKY_yktV6g"
   },
   "outputs": [],
   "source": [
    "# Predict output for X_test\n",
    "y_hat=svclassifier.predict(X_test)"
   ]
  },
  {
   "cell_type": "code",
   "execution_count": 24,
   "metadata": {
    "collapsed": true
   },
   "outputs": [
    {
     "data": {
      "text/plain": [
       "array([1, 1, 1, 1, 1, 1, 1, 1, 1, 1, 1, 1, 1, 1, 1, 1, 1, 1, 1, 1, 1, 1,\n",
       "       1, 1, 1, 1, 1, 1, 1, 1, 1, 1, 1, 1, 1, 1, 1, 1, 1, 1, 1, 1, 1, 1,\n",
       "       1, 1, 1, 1, 1, 1, 1, 1, 1, 1, 1, 1, 1, 0, 1, 1, 1, 1, 1, 1, 1, 1,\n",
       "       1, 1, 1, 1, 1, 1, 1, 1, 1, 1, 1, 1, 1, 1, 1, 1, 1, 1, 1, 1, 1, 1,\n",
       "       1, 1, 1, 1, 1, 1, 1, 1, 1, 1, 1, 1, 0, 1, 1, 1, 1, 1, 1, 1, 1, 1,\n",
       "       1, 1, 0, 1, 1, 1, 1, 1, 1, 1, 1, 1, 1], dtype=int64)"
      ]
     },
     "execution_count": 24,
     "metadata": {},
     "output_type": "execute_result"
    }
   ],
   "source": [
    "y_hat"
   ]
  },
  {
   "cell_type": "code",
   "execution_count": 25,
   "metadata": {
    "collapsed": true
   },
   "outputs": [
    {
     "data": {
      "text/plain": [
       "455    1\n",
       "132    1\n",
       "244    1\n",
       "53     0\n",
       "264    1\n",
       "      ..\n",
       "544    1\n",
       "129    0\n",
       "360    0\n",
       "446    1\n",
       "321    1\n",
       "Name: Loan_Status, Length: 123, dtype: int64"
      ]
     },
     "execution_count": 25,
     "metadata": {},
     "output_type": "execute_result"
    }
   ],
   "source": [
    "y_test"
   ]
  },
  {
   "cell_type": "code",
   "execution_count": 26,
   "metadata": {
    "colab": {
     "base_uri": "https://localhost:8080/"
    },
    "executionInfo": {
     "elapsed": 414,
     "status": "ok",
     "timestamp": 1642344887404,
     "user": {
      "displayName": "Shubhangi Sakarkar",
      "photoUrl": "https://lh3.googleusercontent.com/a-/AOh14GjiJriRrUWKSeoxmYnVoL2uz2i6E3RLOwZgeqHG=s64",
      "userId": "12180749557274197061"
     },
     "user_tz": -330
    },
    "id": "6go1mkZDtV6g",
    "outputId": "c0a9d291-7a5f-4e4b-cf6f-0f2435c2395d"
   },
   "outputs": [
    {
     "data": {
      "text/plain": [
       "0.7804878048780488"
      ]
     },
     "execution_count": 26,
     "metadata": {},
     "output_type": "execute_result"
    }
   ],
   "source": [
    "## evaluating the model created\n",
    "from sklearn.metrics import accuracy_score,recall_score,precision_score,classification_report,f1_score\n",
    "acc=accuracy_score(y_test,y_hat)\n",
    "acc"
   ]
  },
  {
   "cell_type": "code",
   "execution_count": 27,
   "metadata": {
    "colab": {
     "base_uri": "https://localhost:8080/"
    },
    "executionInfo": {
     "elapsed": 473,
     "status": "ok",
     "timestamp": 1642344933077,
     "user": {
      "displayName": "Shubhangi Sakarkar",
      "photoUrl": "https://lh3.googleusercontent.com/a-/AOh14GjiJriRrUWKSeoxmYnVoL2uz2i6E3RLOwZgeqHG=s64",
      "userId": "12180749557274197061"
     },
     "user_tz": -330
    },
    "id": "sjY0RxITtV6i",
    "outputId": "c312894c-6601-4952-b680-1834739dd209",
    "scrolled": true
   },
   "outputs": [
    {
     "data": {
      "text/plain": [
       "0.8744186046511628"
      ]
     },
     "execution_count": 27,
     "metadata": {},
     "output_type": "execute_result"
    }
   ],
   "source": [
    "# F1 score considers both Precision and Recall for evaluating a model\n",
    "f1=f1_score(y_test,y_hat)\n",
    "f1"
   ]
  },
  {
   "cell_type": "code",
   "execution_count": 28,
   "metadata": {
    "colab": {
     "base_uri": "https://localhost:8080/"
    },
    "executionInfo": {
     "elapsed": 363,
     "status": "ok",
     "timestamp": 1642344892372,
     "user": {
      "displayName": "Shubhangi Sakarkar",
      "photoUrl": "https://lh3.googleusercontent.com/a-/AOh14GjiJriRrUWKSeoxmYnVoL2uz2i6E3RLOwZgeqHG=s64",
      "userId": "12180749557274197061"
     },
     "user_tz": -330
    },
    "id": "rvDYV_2CtV6h",
    "outputId": "2de8255f-017e-480c-b654-ef376084b482"
   },
   "outputs": [
    {
     "name": "stdout",
     "output_type": "stream",
     "text": [
      "              precision    recall  f1-score   support\n",
      "\n",
      "           0       0.67      0.07      0.13        28\n",
      "           1       0.78      0.99      0.87        95\n",
      "\n",
      "    accuracy                           0.78       123\n",
      "   macro avg       0.72      0.53      0.50       123\n",
      "weighted avg       0.76      0.78      0.70       123\n",
      "\n"
     ]
    }
   ],
   "source": [
    "# Calssification report measures the quality of predictions. True Positives, False Positives, True negatives and False Negatives\n",
    "# are used to predict the metrics of a classification report\n",
    "\n",
    "print(classification_report(y_test,y_hat))"
   ]
  },
  {
   "cell_type": "code",
   "execution_count": 29,
   "metadata": {
    "colab": {
     "base_uri": "https://localhost:8080/"
    },
    "executionInfo": {
     "elapsed": 380,
     "status": "ok",
     "timestamp": 1642344943722,
     "user": {
      "displayName": "Shubhangi Sakarkar",
      "photoUrl": "https://lh3.googleusercontent.com/a-/AOh14GjiJriRrUWKSeoxmYnVoL2uz2i6E3RLOwZgeqHG=s64",
      "userId": "12180749557274197061"
     },
     "user_tz": -330
    },
    "id": "2HBnMx7otV6l",
    "outputId": "a0b49125-2dfe-480d-c0cc-8f060c67ee0f"
   },
   "outputs": [
    {
     "name": "stdout",
     "output_type": "stream",
     "text": [
      "[0.81730769 0.81730769 0.8115942  0.8115942  0.81553398]\n",
      "Cross validation Score: 0.814667554199002\n",
      "Std : 0.0025916145383121348\n"
     ]
    }
   ],
   "source": [
    "## checking cross validation score\n",
    "from sklearn.model_selection import cross_val_score\n",
    "scores = cross_val_score(svclassifier,X,y,cv=5,scoring='f1')\n",
    "print(scores)\n",
    "print(\"Cross validation Score:\",scores.mean())\n",
    "print(\"Std :\",scores.std())\n",
    "#std of < 0.05 is good."
   ]
  },
  {
   "cell_type": "markdown",
   "metadata": {
    "id": "PGlLFlEEtV6p"
   },
   "source": [
    "## What is a Model Hyperparameter?\n",
    "\n",
    "A model hyperparameter is a configuration that is external to the model and whose value cannot be estimated from data.\n",
    "\n"
   ]
  },
  {
   "cell_type": "markdown",
   "metadata": {
    "id": "i_Beh7oftV6q"
   },
   "source": [
    "## Hyperparameters of Support Vector Machine"
   ]
  },
  {
   "cell_type": "markdown",
   "metadata": {
    "id": "a5rJZqB3tV6r"
   },
   "source": [
    "#### SVM separates data points that belong to different classes with a decision boundary. When determining the decision boundary, a soft margin SVM (soft margin means allowing some data points to be misclassified) tries to solve an optimization problem with the following goals:\n",
    "\n",
    "#### 1)Increase the distance of decision boundary to classes (or support vectors)\n",
    "#### 2)Maximize the number of points that are correctly classified in the training set"
   ]
  },
  {
   "cell_type": "markdown",
   "metadata": {
    "id": "j8EQN0q4tV6r"
   },
   "source": [
    "### There is obviously a trade-off between these two goals which and it is controlled by C which adds a penalty for each misclassified data point.\n",
    "\n",
    "### If C is small, the penalty for misclassified points is low so a decision boundary with a large margin is chosen at the expense of a greater number of misclassification.\n",
    "\n",
    "### If C is large, SVM tries to minimize the number of misclassified examples due to the high penalty which results in a decision boundary with a smaller margin. The penalty is not the same for all misclassified examples. It is directly proportional to the distance to the decision boundary."
   ]
  },
  {
   "cell_type": "markdown",
   "metadata": {
    "id": "7pweK7oKtV6s"
   },
   "source": [
    "<img src='1_XFtyzSNjexMecQ4wmqBfgA.PNG'  width=\"300\">"
   ]
  },
  {
   "cell_type": "markdown",
   "metadata": {
    "id": "dCo_UHDStV6t"
   },
   "source": [
    "<img src='1_k4wh7vzjDbQWXx7wKyH0kg.PNG'  width=\"600\">\n",
    "\n"
   ]
  },
  {
   "cell_type": "markdown",
   "metadata": {
    "id": "2FKrgbUytV6t"
   },
   "source": [
    "### Gamma is a hyperparameter used with non-linear SVM. One of the most commonly used non-linear kernels is the radial basis function (RBF). Gamma parameter of RBF controls the distance of the influence of a single training point.\n",
    "\n",
    "### Low values of gamma indicate a large similarity radius which results in more points being grouped together.\n",
    "\n",
    "### For high values of gamma, the points need to be very close to each other in order to be considered in the same group (or class). Therefore, models with very large gamma values tend to overfit."
   ]
  },
  {
   "cell_type": "markdown",
   "metadata": {
    "id": "mmp_5TfMtV6v"
   },
   "source": [
    "<img src='1_JDSwT-svWnAu69fy9oguBw.png' width=\"600\">"
   ]
  },
  {
   "cell_type": "markdown",
   "metadata": {
    "id": "JLQoomE2tV6w"
   },
   "source": [
    "\n",
    "<img src='1_faj7x1I0uFwfU6mkLfUwvg.png' width=\"600\">"
   ]
  },
  {
   "cell_type": "markdown",
   "metadata": {
    "id": "oDTUAq-i9gCI"
   },
   "source": [
    "<img src='1_5DtPKUzLI1e-FIjC-odFiw.png' width=\"600\">"
   ]
  },
  {
   "cell_type": "markdown",
   "metadata": {
    "id": "_GGyd8G3tV6w"
   },
   "source": [
    "## GridSearchCV"
   ]
  },
  {
   "cell_type": "markdown",
   "metadata": {
    "id": "MOv9QRY6tV6x"
   },
   "source": [
    "#### It is the process of performing hyperparameter tuning in order to determine the optimal values for a given model. As mentioned above, the performance of a model significantly depends on the value of hyperparameters\n",
    "\n",
    "#### Doing this manually could take a considerable amount of time and resources and thus we use GridSearchCV to automate the tuning of hyperparameters."
   ]
  },
  {
   "cell_type": "markdown",
   "metadata": {
    "id": "zIyxgoiotV6x"
   },
   "source": [
    "#### GridSearchCV tries all the combinations of the values passed in the dictionary and evaluates the model for each combination using the Cross-Validation method. Hence after using this function we get accuracy/loss for every combination of hyperparameters and we can choose the one with the best performance."
   ]
  },
  {
   "cell_type": "code",
   "execution_count": 30,
   "metadata": {
    "collapsed": true,
    "id": "tdFjF4iHtV6y"
   },
   "outputs": [
    {
     "name": "stdout",
     "output_type": "stream",
     "text": [
      "Fitting 5 folds for each of 570 candidates, totalling 2850 fits\n",
      "[CV] END .....................C=0.1, gamma=1, random_state=1; total time=   0.0s\n",
      "[CV] END .....................C=0.1, gamma=1, random_state=1; total time=   0.0s\n",
      "[CV] END .....................C=0.1, gamma=1, random_state=1; total time=   0.0s\n",
      "[CV] END .....................C=0.1, gamma=1, random_state=1; total time=   0.0s\n",
      "[CV] END .....................C=0.1, gamma=1, random_state=1; total time=   0.0s\n",
      "[CV] END .....................C=0.1, gamma=1, random_state=2; total time=   0.0s\n",
      "[CV] END .....................C=0.1, gamma=1, random_state=2; total time=   0.0s\n",
      "[CV] END .....................C=0.1, gamma=1, random_state=2; total time=   0.0s\n",
      "[CV] END .....................C=0.1, gamma=1, random_state=2; total time=   0.0s\n",
      "[CV] END .....................C=0.1, gamma=1, random_state=2; total time=   0.0s\n",
      "[CV] END .....................C=0.1, gamma=1, random_state=3; total time=   0.0s\n",
      "[CV] END .....................C=0.1, gamma=1, random_state=3; total time=   0.0s\n",
      "[CV] END .....................C=0.1, gamma=1, random_state=3; total time=   0.0s\n",
      "[CV] END .....................C=0.1, gamma=1, random_state=3; total time=   0.0s\n",
      "[CV] END .....................C=0.1, gamma=1, random_state=3; total time=   0.0s\n",
      "[CV] END .....................C=0.1, gamma=1, random_state=4; total time=   0.0s\n",
      "[CV] END .....................C=0.1, gamma=1, random_state=4; total time=   0.0s\n",
      "[CV] END .....................C=0.1, gamma=1, random_state=4; total time=   0.0s\n",
      "[CV] END .....................C=0.1, gamma=1, random_state=4; total time=   0.0s\n",
      "[CV] END .....................C=0.1, gamma=1, random_state=4; total time=   0.0s\n",
      "[CV] END .....................C=0.1, gamma=1, random_state=5; total time=   0.0s\n",
      "[CV] END .....................C=0.1, gamma=1, random_state=5; total time=   0.0s\n",
      "[CV] END .....................C=0.1, gamma=1, random_state=5; total time=   0.0s\n",
      "[CV] END .....................C=0.1, gamma=1, random_state=5; total time=   0.0s\n",
      "[CV] END .....................C=0.1, gamma=1, random_state=5; total time=   0.0s\n",
      "[CV] END .....................C=0.1, gamma=1, random_state=6; total time=   0.0s\n",
      "[CV] END .....................C=0.1, gamma=1, random_state=6; total time=   0.0s\n",
      "[CV] END .....................C=0.1, gamma=1, random_state=6; total time=   0.0s\n",
      "[CV] END .....................C=0.1, gamma=1, random_state=6; total time=   0.0s\n",
      "[CV] END .....................C=0.1, gamma=1, random_state=6; total time=   0.0s\n",
      "[CV] END .....................C=0.1, gamma=1, random_state=7; total time=   0.0s\n",
      "[CV] END .....................C=0.1, gamma=1, random_state=7; total time=   0.0s\n",
      "[CV] END .....................C=0.1, gamma=1, random_state=7; total time=   0.0s\n",
      "[CV] END .....................C=0.1, gamma=1, random_state=7; total time=   0.0s\n",
      "[CV] END .....................C=0.1, gamma=1, random_state=7; total time=   0.0s\n",
      "[CV] END .....................C=0.1, gamma=1, random_state=8; total time=   0.0s\n",
      "[CV] END .....................C=0.1, gamma=1, random_state=8; total time=   0.0s\n",
      "[CV] END .....................C=0.1, gamma=1, random_state=8; total time=   0.0s\n",
      "[CV] END .....................C=0.1, gamma=1, random_state=8; total time=   0.0s\n",
      "[CV] END .....................C=0.1, gamma=1, random_state=8; total time=   0.0s\n",
      "[CV] END .....................C=0.1, gamma=1, random_state=9; total time=   0.0s\n",
      "[CV] END .....................C=0.1, gamma=1, random_state=9; total time=   0.0s\n",
      "[CV] END .....................C=0.1, gamma=1, random_state=9; total time=   0.0s\n",
      "[CV] END .....................C=0.1, gamma=1, random_state=9; total time=   0.0s\n",
      "[CV] END .....................C=0.1, gamma=1, random_state=9; total time=   0.0s\n",
      "[CV] END ....................C=0.1, gamma=1, random_state=10; total time=   0.0s\n",
      "[CV] END ....................C=0.1, gamma=1, random_state=10; total time=   0.0s\n",
      "[CV] END ....................C=0.1, gamma=1, random_state=10; total time=   0.0s\n",
      "[CV] END ....................C=0.1, gamma=1, random_state=10; total time=   0.0s\n",
      "[CV] END ....................C=0.1, gamma=1, random_state=10; total time=   0.0s\n",
      "[CV] END ....................C=0.1, gamma=1, random_state=11; total time=   0.0s\n",
      "[CV] END ....................C=0.1, gamma=1, random_state=11; total time=   0.0s\n",
      "[CV] END ....................C=0.1, gamma=1, random_state=11; total time=   0.0s\n",
      "[CV] END ....................C=0.1, gamma=1, random_state=11; total time=   0.0s\n",
      "[CV] END ....................C=0.1, gamma=1, random_state=11; total time=   0.0s\n",
      "[CV] END ....................C=0.1, gamma=1, random_state=12; total time=   0.0s\n",
      "[CV] END ....................C=0.1, gamma=1, random_state=12; total time=   0.0s\n",
      "[CV] END ....................C=0.1, gamma=1, random_state=12; total time=   0.0s\n",
      "[CV] END ....................C=0.1, gamma=1, random_state=12; total time=   0.0s\n",
      "[CV] END ....................C=0.1, gamma=1, random_state=12; total time=   0.0s\n",
      "[CV] END ....................C=0.1, gamma=1, random_state=13; total time=   0.0s\n",
      "[CV] END ....................C=0.1, gamma=1, random_state=13; total time=   0.0s\n",
      "[CV] END ....................C=0.1, gamma=1, random_state=13; total time=   0.0s\n",
      "[CV] END ....................C=0.1, gamma=1, random_state=13; total time=   0.0s\n",
      "[CV] END ....................C=0.1, gamma=1, random_state=13; total time=   0.0s\n",
      "[CV] END ....................C=0.1, gamma=1, random_state=14; total time=   0.0s\n",
      "[CV] END ....................C=0.1, gamma=1, random_state=14; total time=   0.0s\n",
      "[CV] END ....................C=0.1, gamma=1, random_state=14; total time=   0.0s\n",
      "[CV] END ....................C=0.1, gamma=1, random_state=14; total time=   0.0s\n",
      "[CV] END ....................C=0.1, gamma=1, random_state=14; total time=   0.0s\n",
      "[CV] END ....................C=0.1, gamma=1, random_state=15; total time=   0.0s\n",
      "[CV] END ....................C=0.1, gamma=1, random_state=15; total time=   0.0s\n",
      "[CV] END ....................C=0.1, gamma=1, random_state=15; total time=   0.0s\n",
      "[CV] END ....................C=0.1, gamma=1, random_state=15; total time=   0.0s\n",
      "[CV] END ....................C=0.1, gamma=1, random_state=15; total time=   0.0s\n",
      "[CV] END ....................C=0.1, gamma=1, random_state=16; total time=   0.0s\n",
      "[CV] END ....................C=0.1, gamma=1, random_state=16; total time=   0.0s\n",
      "[CV] END ....................C=0.1, gamma=1, random_state=16; total time=   0.0s\n",
      "[CV] END ....................C=0.1, gamma=1, random_state=16; total time=   0.0s\n",
      "[CV] END ....................C=0.1, gamma=1, random_state=16; total time=   0.0s\n",
      "[CV] END ....................C=0.1, gamma=1, random_state=17; total time=   0.0s\n",
      "[CV] END ....................C=0.1, gamma=1, random_state=17; total time=   0.0s\n",
      "[CV] END ....................C=0.1, gamma=1, random_state=17; total time=   0.0s\n",
      "[CV] END ....................C=0.1, gamma=1, random_state=17; total time=   0.0s\n",
      "[CV] END ....................C=0.1, gamma=1, random_state=17; total time=   0.0s\n",
      "[CV] END ....................C=0.1, gamma=1, random_state=18; total time=   0.0s\n",
      "[CV] END ....................C=0.1, gamma=1, random_state=18; total time=   0.0s\n",
      "[CV] END ....................C=0.1, gamma=1, random_state=18; total time=   0.0s\n",
      "[CV] END ....................C=0.1, gamma=1, random_state=18; total time=   0.0s\n",
      "[CV] END ....................C=0.1, gamma=1, random_state=18; total time=   0.0s\n",
      "[CV] END ....................C=0.1, gamma=1, random_state=19; total time=   0.0s\n",
      "[CV] END ....................C=0.1, gamma=1, random_state=19; total time=   0.0s\n",
      "[CV] END ....................C=0.1, gamma=1, random_state=19; total time=   0.0s\n",
      "[CV] END ....................C=0.1, gamma=1, random_state=19; total time=   0.0s\n",
      "[CV] END ....................C=0.1, gamma=1, random_state=19; total time=   0.0s\n",
      "[CV] END ...................C=0.1, gamma=0.1, random_state=1; total time=   0.0s\n",
      "[CV] END ...................C=0.1, gamma=0.1, random_state=1; total time=   0.0s\n",
      "[CV] END ...................C=0.1, gamma=0.1, random_state=1; total time=   0.0s\n",
      "[CV] END ...................C=0.1, gamma=0.1, random_state=1; total time=   0.0s\n",
      "[CV] END ...................C=0.1, gamma=0.1, random_state=1; total time=   0.0s\n",
      "[CV] END ...................C=0.1, gamma=0.1, random_state=2; total time=   0.0s\n"
     ]
    },
    {
     "name": "stdout",
     "output_type": "stream",
     "text": [
      "[CV] END ...................C=0.1, gamma=0.1, random_state=2; total time=   0.0s\n",
      "[CV] END ...................C=0.1, gamma=0.1, random_state=2; total time=   0.0s\n",
      "[CV] END ...................C=0.1, gamma=0.1, random_state=2; total time=   0.0s\n",
      "[CV] END ...................C=0.1, gamma=0.1, random_state=2; total time=   0.0s\n",
      "[CV] END ...................C=0.1, gamma=0.1, random_state=3; total time=   0.0s\n",
      "[CV] END ...................C=0.1, gamma=0.1, random_state=3; total time=   0.0s\n",
      "[CV] END ...................C=0.1, gamma=0.1, random_state=3; total time=   0.0s\n",
      "[CV] END ...................C=0.1, gamma=0.1, random_state=3; total time=   0.0s\n",
      "[CV] END ...................C=0.1, gamma=0.1, random_state=3; total time=   0.0s\n",
      "[CV] END ...................C=0.1, gamma=0.1, random_state=4; total time=   0.0s\n",
      "[CV] END ...................C=0.1, gamma=0.1, random_state=4; total time=   0.0s\n",
      "[CV] END ...................C=0.1, gamma=0.1, random_state=4; total time=   0.0s\n",
      "[CV] END ...................C=0.1, gamma=0.1, random_state=4; total time=   0.0s\n",
      "[CV] END ...................C=0.1, gamma=0.1, random_state=4; total time=   0.0s\n",
      "[CV] END ...................C=0.1, gamma=0.1, random_state=5; total time=   0.0s\n",
      "[CV] END ...................C=0.1, gamma=0.1, random_state=5; total time=   0.0s\n",
      "[CV] END ...................C=0.1, gamma=0.1, random_state=5; total time=   0.0s\n",
      "[CV] END ...................C=0.1, gamma=0.1, random_state=5; total time=   0.0s\n",
      "[CV] END ...................C=0.1, gamma=0.1, random_state=5; total time=   0.0s\n",
      "[CV] END ...................C=0.1, gamma=0.1, random_state=6; total time=   0.0s\n",
      "[CV] END ...................C=0.1, gamma=0.1, random_state=6; total time=   0.0s\n",
      "[CV] END ...................C=0.1, gamma=0.1, random_state=6; total time=   0.0s\n",
      "[CV] END ...................C=0.1, gamma=0.1, random_state=6; total time=   0.0s\n",
      "[CV] END ...................C=0.1, gamma=0.1, random_state=6; total time=   0.0s\n",
      "[CV] END ...................C=0.1, gamma=0.1, random_state=7; total time=   0.0s\n",
      "[CV] END ...................C=0.1, gamma=0.1, random_state=7; total time=   0.0s\n",
      "[CV] END ...................C=0.1, gamma=0.1, random_state=7; total time=   0.0s\n",
      "[CV] END ...................C=0.1, gamma=0.1, random_state=7; total time=   0.0s\n",
      "[CV] END ...................C=0.1, gamma=0.1, random_state=7; total time=   0.0s\n",
      "[CV] END ...................C=0.1, gamma=0.1, random_state=8; total time=   0.0s\n",
      "[CV] END ...................C=0.1, gamma=0.1, random_state=8; total time=   0.0s\n",
      "[CV] END ...................C=0.1, gamma=0.1, random_state=8; total time=   0.0s\n",
      "[CV] END ...................C=0.1, gamma=0.1, random_state=8; total time=   0.0s\n",
      "[CV] END ...................C=0.1, gamma=0.1, random_state=8; total time=   0.0s\n",
      "[CV] END ...................C=0.1, gamma=0.1, random_state=9; total time=   0.0s\n",
      "[CV] END ...................C=0.1, gamma=0.1, random_state=9; total time=   0.0s\n",
      "[CV] END ...................C=0.1, gamma=0.1, random_state=9; total time=   0.0s\n",
      "[CV] END ...................C=0.1, gamma=0.1, random_state=9; total time=   0.0s\n",
      "[CV] END ...................C=0.1, gamma=0.1, random_state=9; total time=   0.0s\n",
      "[CV] END ..................C=0.1, gamma=0.1, random_state=10; total time=   0.0s\n",
      "[CV] END ..................C=0.1, gamma=0.1, random_state=10; total time=   0.0s\n",
      "[CV] END ..................C=0.1, gamma=0.1, random_state=10; total time=   0.0s\n",
      "[CV] END ..................C=0.1, gamma=0.1, random_state=10; total time=   0.0s\n",
      "[CV] END ..................C=0.1, gamma=0.1, random_state=10; total time=   0.0s\n",
      "[CV] END ..................C=0.1, gamma=0.1, random_state=11; total time=   0.0s\n",
      "[CV] END ..................C=0.1, gamma=0.1, random_state=11; total time=   0.0s\n",
      "[CV] END ..................C=0.1, gamma=0.1, random_state=11; total time=   0.0s\n",
      "[CV] END ..................C=0.1, gamma=0.1, random_state=11; total time=   0.0s\n",
      "[CV] END ..................C=0.1, gamma=0.1, random_state=11; total time=   0.0s\n",
      "[CV] END ..................C=0.1, gamma=0.1, random_state=12; total time=   0.0s\n",
      "[CV] END ..................C=0.1, gamma=0.1, random_state=12; total time=   0.0s\n",
      "[CV] END ..................C=0.1, gamma=0.1, random_state=12; total time=   0.0s\n",
      "[CV] END ..................C=0.1, gamma=0.1, random_state=12; total time=   0.0s\n",
      "[CV] END ..................C=0.1, gamma=0.1, random_state=12; total time=   0.0s\n",
      "[CV] END ..................C=0.1, gamma=0.1, random_state=13; total time=   0.0s\n",
      "[CV] END ..................C=0.1, gamma=0.1, random_state=13; total time=   0.0s\n",
      "[CV] END ..................C=0.1, gamma=0.1, random_state=13; total time=   0.0s\n",
      "[CV] END ..................C=0.1, gamma=0.1, random_state=13; total time=   0.0s\n",
      "[CV] END ..................C=0.1, gamma=0.1, random_state=13; total time=   0.0s\n",
      "[CV] END ..................C=0.1, gamma=0.1, random_state=14; total time=   0.0s\n",
      "[CV] END ..................C=0.1, gamma=0.1, random_state=14; total time=   0.0s\n",
      "[CV] END ..................C=0.1, gamma=0.1, random_state=14; total time=   0.0s\n",
      "[CV] END ..................C=0.1, gamma=0.1, random_state=14; total time=   0.0s\n",
      "[CV] END ..................C=0.1, gamma=0.1, random_state=14; total time=   0.0s\n",
      "[CV] END ..................C=0.1, gamma=0.1, random_state=15; total time=   0.0s\n",
      "[CV] END ..................C=0.1, gamma=0.1, random_state=15; total time=   0.0s\n",
      "[CV] END ..................C=0.1, gamma=0.1, random_state=15; total time=   0.0s\n",
      "[CV] END ..................C=0.1, gamma=0.1, random_state=15; total time=   0.0s\n",
      "[CV] END ..................C=0.1, gamma=0.1, random_state=15; total time=   0.0s\n",
      "[CV] END ..................C=0.1, gamma=0.1, random_state=16; total time=   0.0s\n",
      "[CV] END ..................C=0.1, gamma=0.1, random_state=16; total time=   0.0s\n",
      "[CV] END ..................C=0.1, gamma=0.1, random_state=16; total time=   0.0s\n",
      "[CV] END ..................C=0.1, gamma=0.1, random_state=16; total time=   0.0s\n",
      "[CV] END ..................C=0.1, gamma=0.1, random_state=16; total time=   0.0s\n",
      "[CV] END ..................C=0.1, gamma=0.1, random_state=17; total time=   0.0s\n",
      "[CV] END ..................C=0.1, gamma=0.1, random_state=17; total time=   0.0s\n",
      "[CV] END ..................C=0.1, gamma=0.1, random_state=17; total time=   0.0s\n",
      "[CV] END ..................C=0.1, gamma=0.1, random_state=17; total time=   0.0s\n",
      "[CV] END ..................C=0.1, gamma=0.1, random_state=17; total time=   0.0s\n",
      "[CV] END ..................C=0.1, gamma=0.1, random_state=18; total time=   0.0s\n",
      "[CV] END ..................C=0.1, gamma=0.1, random_state=18; total time=   0.0s\n",
      "[CV] END ..................C=0.1, gamma=0.1, random_state=18; total time=   0.0s\n",
      "[CV] END ..................C=0.1, gamma=0.1, random_state=18; total time=   0.0s\n",
      "[CV] END ..................C=0.1, gamma=0.1, random_state=18; total time=   0.0s\n",
      "[CV] END ..................C=0.1, gamma=0.1, random_state=19; total time=   0.0s\n",
      "[CV] END ..................C=0.1, gamma=0.1, random_state=19; total time=   0.0s\n",
      "[CV] END ..................C=0.1, gamma=0.1, random_state=19; total time=   0.0s\n",
      "[CV] END ..................C=0.1, gamma=0.1, random_state=19; total time=   0.0s\n",
      "[CV] END ..................C=0.1, gamma=0.1, random_state=19; total time=   0.0s\n",
      "[CV] END ..................C=0.1, gamma=0.01, random_state=1; total time=   0.0s\n",
      "[CV] END ..................C=0.1, gamma=0.01, random_state=1; total time=   0.0s\n",
      "[CV] END ..................C=0.1, gamma=0.01, random_state=1; total time=   0.0s\n",
      "[CV] END ..................C=0.1, gamma=0.01, random_state=1; total time=   0.0s\n",
      "[CV] END ..................C=0.1, gamma=0.01, random_state=1; total time=   0.0s\n",
      "[CV] END ..................C=0.1, gamma=0.01, random_state=2; total time=   0.0s\n",
      "[CV] END ..................C=0.1, gamma=0.01, random_state=2; total time=   0.0s\n",
      "[CV] END ..................C=0.1, gamma=0.01, random_state=2; total time=   0.0s\n",
      "[CV] END ..................C=0.1, gamma=0.01, random_state=2; total time=   0.0s\n",
      "[CV] END ..................C=0.1, gamma=0.01, random_state=2; total time=   0.0s\n",
      "[CV] END ..................C=0.1, gamma=0.01, random_state=3; total time=   0.0s\n",
      "[CV] END ..................C=0.1, gamma=0.01, random_state=3; total time=   0.0s\n",
      "[CV] END ..................C=0.1, gamma=0.01, random_state=3; total time=   0.0s\n",
      "[CV] END ..................C=0.1, gamma=0.01, random_state=3; total time=   0.0s\n",
      "[CV] END ..................C=0.1, gamma=0.01, random_state=3; total time=   0.0s\n",
      "[CV] END ..................C=0.1, gamma=0.01, random_state=4; total time=   0.0s\n",
      "[CV] END ..................C=0.1, gamma=0.01, random_state=4; total time=   0.0s\n"
     ]
    },
    {
     "name": "stdout",
     "output_type": "stream",
     "text": [
      "[CV] END ..................C=0.1, gamma=0.01, random_state=4; total time=   0.0s\n",
      "[CV] END ..................C=0.1, gamma=0.01, random_state=4; total time=   0.0s\n",
      "[CV] END ..................C=0.1, gamma=0.01, random_state=4; total time=   0.0s\n",
      "[CV] END ..................C=0.1, gamma=0.01, random_state=5; total time=   0.0s\n",
      "[CV] END ..................C=0.1, gamma=0.01, random_state=5; total time=   0.0s\n",
      "[CV] END ..................C=0.1, gamma=0.01, random_state=5; total time=   0.0s\n",
      "[CV] END ..................C=0.1, gamma=0.01, random_state=5; total time=   0.0s\n",
      "[CV] END ..................C=0.1, gamma=0.01, random_state=5; total time=   0.0s\n",
      "[CV] END ..................C=0.1, gamma=0.01, random_state=6; total time=   0.0s\n",
      "[CV] END ..................C=0.1, gamma=0.01, random_state=6; total time=   0.0s\n",
      "[CV] END ..................C=0.1, gamma=0.01, random_state=6; total time=   0.0s\n",
      "[CV] END ..................C=0.1, gamma=0.01, random_state=6; total time=   0.0s\n",
      "[CV] END ..................C=0.1, gamma=0.01, random_state=6; total time=   0.0s\n",
      "[CV] END ..................C=0.1, gamma=0.01, random_state=7; total time=   0.0s\n",
      "[CV] END ..................C=0.1, gamma=0.01, random_state=7; total time=   0.0s\n",
      "[CV] END ..................C=0.1, gamma=0.01, random_state=7; total time=   0.0s\n",
      "[CV] END ..................C=0.1, gamma=0.01, random_state=7; total time=   0.0s\n",
      "[CV] END ..................C=0.1, gamma=0.01, random_state=7; total time=   0.0s\n",
      "[CV] END ..................C=0.1, gamma=0.01, random_state=8; total time=   0.0s\n",
      "[CV] END ..................C=0.1, gamma=0.01, random_state=8; total time=   0.0s\n",
      "[CV] END ..................C=0.1, gamma=0.01, random_state=8; total time=   0.0s\n",
      "[CV] END ..................C=0.1, gamma=0.01, random_state=8; total time=   0.0s\n",
      "[CV] END ..................C=0.1, gamma=0.01, random_state=8; total time=   0.0s\n",
      "[CV] END ..................C=0.1, gamma=0.01, random_state=9; total time=   0.0s\n",
      "[CV] END ..................C=0.1, gamma=0.01, random_state=9; total time=   0.0s\n",
      "[CV] END ..................C=0.1, gamma=0.01, random_state=9; total time=   0.0s\n",
      "[CV] END ..................C=0.1, gamma=0.01, random_state=9; total time=   0.0s\n",
      "[CV] END ..................C=0.1, gamma=0.01, random_state=9; total time=   0.0s\n",
      "[CV] END .................C=0.1, gamma=0.01, random_state=10; total time=   0.0s\n",
      "[CV] END .................C=0.1, gamma=0.01, random_state=10; total time=   0.0s\n",
      "[CV] END .................C=0.1, gamma=0.01, random_state=10; total time=   0.0s\n",
      "[CV] END .................C=0.1, gamma=0.01, random_state=10; total time=   0.0s\n",
      "[CV] END .................C=0.1, gamma=0.01, random_state=10; total time=   0.0s\n",
      "[CV] END .................C=0.1, gamma=0.01, random_state=11; total time=   0.0s\n",
      "[CV] END .................C=0.1, gamma=0.01, random_state=11; total time=   0.0s\n",
      "[CV] END .................C=0.1, gamma=0.01, random_state=11; total time=   0.0s\n",
      "[CV] END .................C=0.1, gamma=0.01, random_state=11; total time=   0.0s\n",
      "[CV] END .................C=0.1, gamma=0.01, random_state=11; total time=   0.0s\n",
      "[CV] END .................C=0.1, gamma=0.01, random_state=12; total time=   0.0s\n",
      "[CV] END .................C=0.1, gamma=0.01, random_state=12; total time=   0.0s\n",
      "[CV] END .................C=0.1, gamma=0.01, random_state=12; total time=   0.0s\n",
      "[CV] END .................C=0.1, gamma=0.01, random_state=12; total time=   0.0s\n",
      "[CV] END .................C=0.1, gamma=0.01, random_state=12; total time=   0.0s\n",
      "[CV] END .................C=0.1, gamma=0.01, random_state=13; total time=   0.0s\n",
      "[CV] END .................C=0.1, gamma=0.01, random_state=13; total time=   0.0s\n",
      "[CV] END .................C=0.1, gamma=0.01, random_state=13; total time=   0.0s\n",
      "[CV] END .................C=0.1, gamma=0.01, random_state=13; total time=   0.0s\n",
      "[CV] END .................C=0.1, gamma=0.01, random_state=13; total time=   0.0s\n",
      "[CV] END .................C=0.1, gamma=0.01, random_state=14; total time=   0.0s\n",
      "[CV] END .................C=0.1, gamma=0.01, random_state=14; total time=   0.0s\n",
      "[CV] END .................C=0.1, gamma=0.01, random_state=14; total time=   0.0s\n",
      "[CV] END .................C=0.1, gamma=0.01, random_state=14; total time=   0.0s\n",
      "[CV] END .................C=0.1, gamma=0.01, random_state=14; total time=   0.0s\n",
      "[CV] END .................C=0.1, gamma=0.01, random_state=15; total time=   0.0s\n",
      "[CV] END .................C=0.1, gamma=0.01, random_state=15; total time=   0.0s\n",
      "[CV] END .................C=0.1, gamma=0.01, random_state=15; total time=   0.0s\n",
      "[CV] END .................C=0.1, gamma=0.01, random_state=15; total time=   0.0s\n",
      "[CV] END .................C=0.1, gamma=0.01, random_state=15; total time=   0.0s\n",
      "[CV] END .................C=0.1, gamma=0.01, random_state=16; total time=   0.0s\n",
      "[CV] END .................C=0.1, gamma=0.01, random_state=16; total time=   0.0s\n",
      "[CV] END .................C=0.1, gamma=0.01, random_state=16; total time=   0.0s\n",
      "[CV] END .................C=0.1, gamma=0.01, random_state=16; total time=   0.0s\n",
      "[CV] END .................C=0.1, gamma=0.01, random_state=16; total time=   0.0s\n",
      "[CV] END .................C=0.1, gamma=0.01, random_state=17; total time=   0.0s\n",
      "[CV] END .................C=0.1, gamma=0.01, random_state=17; total time=   0.0s\n",
      "[CV] END .................C=0.1, gamma=0.01, random_state=17; total time=   0.0s\n",
      "[CV] END .................C=0.1, gamma=0.01, random_state=17; total time=   0.0s\n",
      "[CV] END .................C=0.1, gamma=0.01, random_state=17; total time=   0.0s\n",
      "[CV] END .................C=0.1, gamma=0.01, random_state=18; total time=   0.0s\n",
      "[CV] END .................C=0.1, gamma=0.01, random_state=18; total time=   0.0s\n",
      "[CV] END .................C=0.1, gamma=0.01, random_state=18; total time=   0.0s\n",
      "[CV] END .................C=0.1, gamma=0.01, random_state=18; total time=   0.0s\n",
      "[CV] END .................C=0.1, gamma=0.01, random_state=18; total time=   0.0s\n",
      "[CV] END .................C=0.1, gamma=0.01, random_state=19; total time=   0.0s\n",
      "[CV] END .................C=0.1, gamma=0.01, random_state=19; total time=   0.0s\n",
      "[CV] END .................C=0.1, gamma=0.01, random_state=19; total time=   0.0s\n",
      "[CV] END .................C=0.1, gamma=0.01, random_state=19; total time=   0.0s\n",
      "[CV] END .................C=0.1, gamma=0.01, random_state=19; total time=   0.0s\n",
      "[CV] END .................C=0.1, gamma=0.001, random_state=1; total time=   0.0s\n",
      "[CV] END .................C=0.1, gamma=0.001, random_state=1; total time=   0.0s\n",
      "[CV] END .................C=0.1, gamma=0.001, random_state=1; total time=   0.0s\n",
      "[CV] END .................C=0.1, gamma=0.001, random_state=1; total time=   0.0s\n",
      "[CV] END .................C=0.1, gamma=0.001, random_state=1; total time=   0.0s\n",
      "[CV] END .................C=0.1, gamma=0.001, random_state=2; total time=   0.0s\n",
      "[CV] END .................C=0.1, gamma=0.001, random_state=2; total time=   0.0s\n",
      "[CV] END .................C=0.1, gamma=0.001, random_state=2; total time=   0.0s\n",
      "[CV] END .................C=0.1, gamma=0.001, random_state=2; total time=   0.0s\n",
      "[CV] END .................C=0.1, gamma=0.001, random_state=2; total time=   0.0s\n",
      "[CV] END .................C=0.1, gamma=0.001, random_state=3; total time=   0.0s\n",
      "[CV] END .................C=0.1, gamma=0.001, random_state=3; total time=   0.0s\n",
      "[CV] END .................C=0.1, gamma=0.001, random_state=3; total time=   0.0s\n",
      "[CV] END .................C=0.1, gamma=0.001, random_state=3; total time=   0.0s\n",
      "[CV] END .................C=0.1, gamma=0.001, random_state=3; total time=   0.0s\n",
      "[CV] END .................C=0.1, gamma=0.001, random_state=4; total time=   0.0s\n",
      "[CV] END .................C=0.1, gamma=0.001, random_state=4; total time=   0.0s\n",
      "[CV] END .................C=0.1, gamma=0.001, random_state=4; total time=   0.0s\n",
      "[CV] END .................C=0.1, gamma=0.001, random_state=4; total time=   0.0s\n",
      "[CV] END .................C=0.1, gamma=0.001, random_state=4; total time=   0.0s\n",
      "[CV] END .................C=0.1, gamma=0.001, random_state=5; total time=   0.0s\n",
      "[CV] END .................C=0.1, gamma=0.001, random_state=5; total time=   0.0s\n",
      "[CV] END .................C=0.1, gamma=0.001, random_state=5; total time=   0.0s\n",
      "[CV] END .................C=0.1, gamma=0.001, random_state=5; total time=   0.0s\n",
      "[CV] END .................C=0.1, gamma=0.001, random_state=5; total time=   0.0s\n"
     ]
    },
    {
     "name": "stdout",
     "output_type": "stream",
     "text": [
      "[CV] END .................C=0.1, gamma=0.001, random_state=6; total time=   0.0s\n",
      "[CV] END .................C=0.1, gamma=0.001, random_state=6; total time=   0.0s\n",
      "[CV] END .................C=0.1, gamma=0.001, random_state=6; total time=   0.0s\n",
      "[CV] END .................C=0.1, gamma=0.001, random_state=6; total time=   0.0s\n",
      "[CV] END .................C=0.1, gamma=0.001, random_state=6; total time=   0.0s\n",
      "[CV] END .................C=0.1, gamma=0.001, random_state=7; total time=   0.0s\n",
      "[CV] END .................C=0.1, gamma=0.001, random_state=7; total time=   0.0s\n",
      "[CV] END .................C=0.1, gamma=0.001, random_state=7; total time=   0.0s\n",
      "[CV] END .................C=0.1, gamma=0.001, random_state=7; total time=   0.0s\n",
      "[CV] END .................C=0.1, gamma=0.001, random_state=7; total time=   0.0s\n",
      "[CV] END .................C=0.1, gamma=0.001, random_state=8; total time=   0.0s\n",
      "[CV] END .................C=0.1, gamma=0.001, random_state=8; total time=   0.0s\n",
      "[CV] END .................C=0.1, gamma=0.001, random_state=8; total time=   0.0s\n",
      "[CV] END .................C=0.1, gamma=0.001, random_state=8; total time=   0.0s\n",
      "[CV] END .................C=0.1, gamma=0.001, random_state=8; total time=   0.0s\n",
      "[CV] END .................C=0.1, gamma=0.001, random_state=9; total time=   0.0s\n",
      "[CV] END .................C=0.1, gamma=0.001, random_state=9; total time=   0.0s\n",
      "[CV] END .................C=0.1, gamma=0.001, random_state=9; total time=   0.0s\n",
      "[CV] END .................C=0.1, gamma=0.001, random_state=9; total time=   0.0s\n",
      "[CV] END .................C=0.1, gamma=0.001, random_state=9; total time=   0.0s\n",
      "[CV] END ................C=0.1, gamma=0.001, random_state=10; total time=   0.0s\n",
      "[CV] END ................C=0.1, gamma=0.001, random_state=10; total time=   0.0s\n",
      "[CV] END ................C=0.1, gamma=0.001, random_state=10; total time=   0.0s\n",
      "[CV] END ................C=0.1, gamma=0.001, random_state=10; total time=   0.0s\n",
      "[CV] END ................C=0.1, gamma=0.001, random_state=10; total time=   0.0s\n",
      "[CV] END ................C=0.1, gamma=0.001, random_state=11; total time=   0.0s\n",
      "[CV] END ................C=0.1, gamma=0.001, random_state=11; total time=   0.0s\n",
      "[CV] END ................C=0.1, gamma=0.001, random_state=11; total time=   0.0s\n",
      "[CV] END ................C=0.1, gamma=0.001, random_state=11; total time=   0.0s\n",
      "[CV] END ................C=0.1, gamma=0.001, random_state=11; total time=   0.0s\n",
      "[CV] END ................C=0.1, gamma=0.001, random_state=12; total time=   0.0s\n",
      "[CV] END ................C=0.1, gamma=0.001, random_state=12; total time=   0.0s\n",
      "[CV] END ................C=0.1, gamma=0.001, random_state=12; total time=   0.0s\n",
      "[CV] END ................C=0.1, gamma=0.001, random_state=12; total time=   0.0s\n",
      "[CV] END ................C=0.1, gamma=0.001, random_state=12; total time=   0.0s\n",
      "[CV] END ................C=0.1, gamma=0.001, random_state=13; total time=   0.0s\n",
      "[CV] END ................C=0.1, gamma=0.001, random_state=13; total time=   0.0s\n",
      "[CV] END ................C=0.1, gamma=0.001, random_state=13; total time=   0.0s\n",
      "[CV] END ................C=0.1, gamma=0.001, random_state=13; total time=   0.0s\n",
      "[CV] END ................C=0.1, gamma=0.001, random_state=13; total time=   0.0s\n",
      "[CV] END ................C=0.1, gamma=0.001, random_state=14; total time=   0.0s\n",
      "[CV] END ................C=0.1, gamma=0.001, random_state=14; total time=   0.0s\n",
      "[CV] END ................C=0.1, gamma=0.001, random_state=14; total time=   0.0s\n",
      "[CV] END ................C=0.1, gamma=0.001, random_state=14; total time=   0.0s\n",
      "[CV] END ................C=0.1, gamma=0.001, random_state=14; total time=   0.0s\n",
      "[CV] END ................C=0.1, gamma=0.001, random_state=15; total time=   0.0s\n",
      "[CV] END ................C=0.1, gamma=0.001, random_state=15; total time=   0.0s\n",
      "[CV] END ................C=0.1, gamma=0.001, random_state=15; total time=   0.0s\n",
      "[CV] END ................C=0.1, gamma=0.001, random_state=15; total time=   0.0s\n",
      "[CV] END ................C=0.1, gamma=0.001, random_state=15; total time=   0.0s\n",
      "[CV] END ................C=0.1, gamma=0.001, random_state=16; total time=   0.0s\n",
      "[CV] END ................C=0.1, gamma=0.001, random_state=16; total time=   0.0s\n",
      "[CV] END ................C=0.1, gamma=0.001, random_state=16; total time=   0.0s\n",
      "[CV] END ................C=0.1, gamma=0.001, random_state=16; total time=   0.0s\n",
      "[CV] END ................C=0.1, gamma=0.001, random_state=16; total time=   0.0s\n",
      "[CV] END ................C=0.1, gamma=0.001, random_state=17; total time=   0.0s\n",
      "[CV] END ................C=0.1, gamma=0.001, random_state=17; total time=   0.0s\n",
      "[CV] END ................C=0.1, gamma=0.001, random_state=17; total time=   0.0s\n",
      "[CV] END ................C=0.1, gamma=0.001, random_state=17; total time=   0.0s\n",
      "[CV] END ................C=0.1, gamma=0.001, random_state=17; total time=   0.0s\n",
      "[CV] END ................C=0.1, gamma=0.001, random_state=18; total time=   0.0s\n",
      "[CV] END ................C=0.1, gamma=0.001, random_state=18; total time=   0.0s\n",
      "[CV] END ................C=0.1, gamma=0.001, random_state=18; total time=   0.0s\n",
      "[CV] END ................C=0.1, gamma=0.001, random_state=18; total time=   0.0s\n",
      "[CV] END ................C=0.1, gamma=0.001, random_state=18; total time=   0.0s\n",
      "[CV] END ................C=0.1, gamma=0.001, random_state=19; total time=   0.0s\n",
      "[CV] END ................C=0.1, gamma=0.001, random_state=19; total time=   0.0s\n",
      "[CV] END ................C=0.1, gamma=0.001, random_state=19; total time=   0.0s\n",
      "[CV] END ................C=0.1, gamma=0.001, random_state=19; total time=   0.0s\n",
      "[CV] END ................C=0.1, gamma=0.001, random_state=19; total time=   0.0s\n",
      "[CV] END ................C=0.1, gamma=0.0001, random_state=1; total time=   0.0s\n",
      "[CV] END ................C=0.1, gamma=0.0001, random_state=1; total time=   0.0s\n",
      "[CV] END ................C=0.1, gamma=0.0001, random_state=1; total time=   0.0s\n",
      "[CV] END ................C=0.1, gamma=0.0001, random_state=1; total time=   0.0s\n",
      "[CV] END ................C=0.1, gamma=0.0001, random_state=1; total time=   0.0s\n",
      "[CV] END ................C=0.1, gamma=0.0001, random_state=2; total time=   0.0s\n",
      "[CV] END ................C=0.1, gamma=0.0001, random_state=2; total time=   0.0s\n",
      "[CV] END ................C=0.1, gamma=0.0001, random_state=2; total time=   0.0s\n",
      "[CV] END ................C=0.1, gamma=0.0001, random_state=2; total time=   0.0s\n",
      "[CV] END ................C=0.1, gamma=0.0001, random_state=2; total time=   0.0s\n",
      "[CV] END ................C=0.1, gamma=0.0001, random_state=3; total time=   0.0s\n",
      "[CV] END ................C=0.1, gamma=0.0001, random_state=3; total time=   0.0s\n",
      "[CV] END ................C=0.1, gamma=0.0001, random_state=3; total time=   0.0s\n",
      "[CV] END ................C=0.1, gamma=0.0001, random_state=3; total time=   0.0s\n",
      "[CV] END ................C=0.1, gamma=0.0001, random_state=3; total time=   0.0s\n",
      "[CV] END ................C=0.1, gamma=0.0001, random_state=4; total time=   0.0s\n",
      "[CV] END ................C=0.1, gamma=0.0001, random_state=4; total time=   0.0s\n",
      "[CV] END ................C=0.1, gamma=0.0001, random_state=4; total time=   0.0s\n",
      "[CV] END ................C=0.1, gamma=0.0001, random_state=4; total time=   0.0s\n",
      "[CV] END ................C=0.1, gamma=0.0001, random_state=4; total time=   0.0s\n",
      "[CV] END ................C=0.1, gamma=0.0001, random_state=5; total time=   0.0s\n",
      "[CV] END ................C=0.1, gamma=0.0001, random_state=5; total time=   0.0s\n",
      "[CV] END ................C=0.1, gamma=0.0001, random_state=5; total time=   0.0s\n",
      "[CV] END ................C=0.1, gamma=0.0001, random_state=5; total time=   0.0s\n",
      "[CV] END ................C=0.1, gamma=0.0001, random_state=5; total time=   0.0s\n",
      "[CV] END ................C=0.1, gamma=0.0001, random_state=6; total time=   0.0s\n",
      "[CV] END ................C=0.1, gamma=0.0001, random_state=6; total time=   0.0s\n",
      "[CV] END ................C=0.1, gamma=0.0001, random_state=6; total time=   0.0s\n",
      "[CV] END ................C=0.1, gamma=0.0001, random_state=6; total time=   0.0s\n",
      "[CV] END ................C=0.1, gamma=0.0001, random_state=6; total time=   0.0s\n",
      "[CV] END ................C=0.1, gamma=0.0001, random_state=7; total time=   0.0s\n",
      "[CV] END ................C=0.1, gamma=0.0001, random_state=7; total time=   0.0s\n",
      "[CV] END ................C=0.1, gamma=0.0001, random_state=7; total time=   0.0s\n",
      "[CV] END ................C=0.1, gamma=0.0001, random_state=7; total time=   0.0s\n",
      "[CV] END ................C=0.1, gamma=0.0001, random_state=7; total time=   0.0s\n",
      "[CV] END ................C=0.1, gamma=0.0001, random_state=8; total time=   0.0s\n"
     ]
    },
    {
     "name": "stdout",
     "output_type": "stream",
     "text": [
      "[CV] END ................C=0.1, gamma=0.0001, random_state=8; total time=   0.0s\n",
      "[CV] END ................C=0.1, gamma=0.0001, random_state=8; total time=   0.0s\n",
      "[CV] END ................C=0.1, gamma=0.0001, random_state=8; total time=   0.0s\n",
      "[CV] END ................C=0.1, gamma=0.0001, random_state=8; total time=   0.0s\n",
      "[CV] END ................C=0.1, gamma=0.0001, random_state=9; total time=   0.0s\n",
      "[CV] END ................C=0.1, gamma=0.0001, random_state=9; total time=   0.0s\n",
      "[CV] END ................C=0.1, gamma=0.0001, random_state=9; total time=   0.0s\n",
      "[CV] END ................C=0.1, gamma=0.0001, random_state=9; total time=   0.0s\n",
      "[CV] END ................C=0.1, gamma=0.0001, random_state=9; total time=   0.0s\n",
      "[CV] END ...............C=0.1, gamma=0.0001, random_state=10; total time=   0.0s\n",
      "[CV] END ...............C=0.1, gamma=0.0001, random_state=10; total time=   0.0s\n",
      "[CV] END ...............C=0.1, gamma=0.0001, random_state=10; total time=   0.0s\n",
      "[CV] END ...............C=0.1, gamma=0.0001, random_state=10; total time=   0.0s\n",
      "[CV] END ...............C=0.1, gamma=0.0001, random_state=10; total time=   0.0s\n",
      "[CV] END ...............C=0.1, gamma=0.0001, random_state=11; total time=   0.0s\n",
      "[CV] END ...............C=0.1, gamma=0.0001, random_state=11; total time=   0.0s\n",
      "[CV] END ...............C=0.1, gamma=0.0001, random_state=11; total time=   0.0s\n",
      "[CV] END ...............C=0.1, gamma=0.0001, random_state=11; total time=   0.0s\n",
      "[CV] END ...............C=0.1, gamma=0.0001, random_state=11; total time=   0.0s\n",
      "[CV] END ...............C=0.1, gamma=0.0001, random_state=12; total time=   0.0s\n",
      "[CV] END ...............C=0.1, gamma=0.0001, random_state=12; total time=   0.0s\n",
      "[CV] END ...............C=0.1, gamma=0.0001, random_state=12; total time=   0.0s\n",
      "[CV] END ...............C=0.1, gamma=0.0001, random_state=12; total time=   0.0s\n",
      "[CV] END ...............C=0.1, gamma=0.0001, random_state=12; total time=   0.0s\n",
      "[CV] END ...............C=0.1, gamma=0.0001, random_state=13; total time=   0.0s\n",
      "[CV] END ...............C=0.1, gamma=0.0001, random_state=13; total time=   0.0s\n",
      "[CV] END ...............C=0.1, gamma=0.0001, random_state=13; total time=   0.0s\n",
      "[CV] END ...............C=0.1, gamma=0.0001, random_state=13; total time=   0.0s\n",
      "[CV] END ...............C=0.1, gamma=0.0001, random_state=13; total time=   0.0s\n",
      "[CV] END ...............C=0.1, gamma=0.0001, random_state=14; total time=   0.0s\n",
      "[CV] END ...............C=0.1, gamma=0.0001, random_state=14; total time=   0.0s\n",
      "[CV] END ...............C=0.1, gamma=0.0001, random_state=14; total time=   0.0s\n",
      "[CV] END ...............C=0.1, gamma=0.0001, random_state=14; total time=   0.0s\n",
      "[CV] END ...............C=0.1, gamma=0.0001, random_state=14; total time=   0.0s\n",
      "[CV] END ...............C=0.1, gamma=0.0001, random_state=15; total time=   0.0s\n",
      "[CV] END ...............C=0.1, gamma=0.0001, random_state=15; total time=   0.0s\n",
      "[CV] END ...............C=0.1, gamma=0.0001, random_state=15; total time=   0.0s\n",
      "[CV] END ...............C=0.1, gamma=0.0001, random_state=15; total time=   0.0s\n",
      "[CV] END ...............C=0.1, gamma=0.0001, random_state=15; total time=   0.0s\n",
      "[CV] END ...............C=0.1, gamma=0.0001, random_state=16; total time=   0.0s\n",
      "[CV] END ...............C=0.1, gamma=0.0001, random_state=16; total time=   0.0s\n",
      "[CV] END ...............C=0.1, gamma=0.0001, random_state=16; total time=   0.0s\n",
      "[CV] END ...............C=0.1, gamma=0.0001, random_state=16; total time=   0.0s\n",
      "[CV] END ...............C=0.1, gamma=0.0001, random_state=16; total time=   0.0s\n",
      "[CV] END ...............C=0.1, gamma=0.0001, random_state=17; total time=   0.0s\n",
      "[CV] END ...............C=0.1, gamma=0.0001, random_state=17; total time=   0.0s\n",
      "[CV] END ...............C=0.1, gamma=0.0001, random_state=17; total time=   0.0s\n",
      "[CV] END ...............C=0.1, gamma=0.0001, random_state=17; total time=   0.0s\n",
      "[CV] END ...............C=0.1, gamma=0.0001, random_state=17; total time=   0.0s\n",
      "[CV] END ...............C=0.1, gamma=0.0001, random_state=18; total time=   0.0s\n",
      "[CV] END ...............C=0.1, gamma=0.0001, random_state=18; total time=   0.0s\n",
      "[CV] END ...............C=0.1, gamma=0.0001, random_state=18; total time=   0.0s\n",
      "[CV] END ...............C=0.1, gamma=0.0001, random_state=18; total time=   0.0s\n",
      "[CV] END ...............C=0.1, gamma=0.0001, random_state=18; total time=   0.0s\n",
      "[CV] END ...............C=0.1, gamma=0.0001, random_state=19; total time=   0.0s\n",
      "[CV] END ...............C=0.1, gamma=0.0001, random_state=19; total time=   0.0s\n",
      "[CV] END ...............C=0.1, gamma=0.0001, random_state=19; total time=   0.0s\n",
      "[CV] END ...............C=0.1, gamma=0.0001, random_state=19; total time=   0.0s\n",
      "[CV] END ...............C=0.1, gamma=0.0001, random_state=19; total time=   0.0s\n",
      "[CV] END .......................C=5, gamma=1, random_state=1; total time=   0.0s\n",
      "[CV] END .......................C=5, gamma=1, random_state=1; total time=   0.0s\n",
      "[CV] END .......................C=5, gamma=1, random_state=1; total time=   0.0s\n",
      "[CV] END .......................C=5, gamma=1, random_state=1; total time=   0.0s\n",
      "[CV] END .......................C=5, gamma=1, random_state=1; total time=   0.0s\n",
      "[CV] END .......................C=5, gamma=1, random_state=2; total time=   0.0s\n",
      "[CV] END .......................C=5, gamma=1, random_state=2; total time=   0.0s\n",
      "[CV] END .......................C=5, gamma=1, random_state=2; total time=   0.0s\n",
      "[CV] END .......................C=5, gamma=1, random_state=2; total time=   0.0s\n",
      "[CV] END .......................C=5, gamma=1, random_state=2; total time=   0.0s\n",
      "[CV] END .......................C=5, gamma=1, random_state=3; total time=   0.0s\n",
      "[CV] END .......................C=5, gamma=1, random_state=3; total time=   0.0s\n",
      "[CV] END .......................C=5, gamma=1, random_state=3; total time=   0.0s\n",
      "[CV] END .......................C=5, gamma=1, random_state=3; total time=   0.0s\n",
      "[CV] END .......................C=5, gamma=1, random_state=3; total time=   0.0s\n",
      "[CV] END .......................C=5, gamma=1, random_state=4; total time=   0.0s\n",
      "[CV] END .......................C=5, gamma=1, random_state=4; total time=   0.0s\n",
      "[CV] END .......................C=5, gamma=1, random_state=4; total time=   0.0s\n",
      "[CV] END .......................C=5, gamma=1, random_state=4; total time=   0.0s\n",
      "[CV] END .......................C=5, gamma=1, random_state=4; total time=   0.0s\n",
      "[CV] END .......................C=5, gamma=1, random_state=5; total time=   0.0s\n",
      "[CV] END .......................C=5, gamma=1, random_state=5; total time=   0.0s\n",
      "[CV] END .......................C=5, gamma=1, random_state=5; total time=   0.0s\n",
      "[CV] END .......................C=5, gamma=1, random_state=5; total time=   0.0s\n",
      "[CV] END .......................C=5, gamma=1, random_state=5; total time=   0.0s\n",
      "[CV] END .......................C=5, gamma=1, random_state=6; total time=   0.0s\n",
      "[CV] END .......................C=5, gamma=1, random_state=6; total time=   0.0s\n",
      "[CV] END .......................C=5, gamma=1, random_state=6; total time=   0.0s\n",
      "[CV] END .......................C=5, gamma=1, random_state=6; total time=   0.0s\n",
      "[CV] END .......................C=5, gamma=1, random_state=6; total time=   0.0s\n",
      "[CV] END .......................C=5, gamma=1, random_state=7; total time=   0.0s\n",
      "[CV] END .......................C=5, gamma=1, random_state=7; total time=   0.0s\n",
      "[CV] END .......................C=5, gamma=1, random_state=7; total time=   0.0s\n",
      "[CV] END .......................C=5, gamma=1, random_state=7; total time=   0.0s\n",
      "[CV] END .......................C=5, gamma=1, random_state=7; total time=   0.0s\n",
      "[CV] END .......................C=5, gamma=1, random_state=8; total time=   0.0s\n",
      "[CV] END .......................C=5, gamma=1, random_state=8; total time=   0.0s\n",
      "[CV] END .......................C=5, gamma=1, random_state=8; total time=   0.0s\n",
      "[CV] END .......................C=5, gamma=1, random_state=8; total time=   0.0s\n",
      "[CV] END .......................C=5, gamma=1, random_state=8; total time=   0.0s\n",
      "[CV] END .......................C=5, gamma=1, random_state=9; total time=   0.0s\n",
      "[CV] END .......................C=5, gamma=1, random_state=9; total time=   0.0s\n",
      "[CV] END .......................C=5, gamma=1, random_state=9; total time=   0.0s\n",
      "[CV] END .......................C=5, gamma=1, random_state=9; total time=   0.0s\n",
      "[CV] END .......................C=5, gamma=1, random_state=9; total time=   0.0s\n"
     ]
    },
    {
     "name": "stdout",
     "output_type": "stream",
     "text": [
      "[CV] END ......................C=5, gamma=1, random_state=10; total time=   0.0s\n",
      "[CV] END ......................C=5, gamma=1, random_state=10; total time=   0.0s\n",
      "[CV] END ......................C=5, gamma=1, random_state=10; total time=   0.0s\n",
      "[CV] END ......................C=5, gamma=1, random_state=10; total time=   0.0s\n",
      "[CV] END ......................C=5, gamma=1, random_state=10; total time=   0.0s\n",
      "[CV] END ......................C=5, gamma=1, random_state=11; total time=   0.0s\n",
      "[CV] END ......................C=5, gamma=1, random_state=11; total time=   0.0s\n",
      "[CV] END ......................C=5, gamma=1, random_state=11; total time=   0.0s\n",
      "[CV] END ......................C=5, gamma=1, random_state=11; total time=   0.0s\n",
      "[CV] END ......................C=5, gamma=1, random_state=11; total time=   0.0s\n",
      "[CV] END ......................C=5, gamma=1, random_state=12; total time=   0.0s\n",
      "[CV] END ......................C=5, gamma=1, random_state=12; total time=   0.0s\n",
      "[CV] END ......................C=5, gamma=1, random_state=12; total time=   0.0s\n",
      "[CV] END ......................C=5, gamma=1, random_state=12; total time=   0.0s\n",
      "[CV] END ......................C=5, gamma=1, random_state=12; total time=   0.0s\n",
      "[CV] END ......................C=5, gamma=1, random_state=13; total time=   0.0s\n",
      "[CV] END ......................C=5, gamma=1, random_state=13; total time=   0.0s\n",
      "[CV] END ......................C=5, gamma=1, random_state=13; total time=   0.0s\n",
      "[CV] END ......................C=5, gamma=1, random_state=13; total time=   0.0s\n",
      "[CV] END ......................C=5, gamma=1, random_state=13; total time=   0.0s\n",
      "[CV] END ......................C=5, gamma=1, random_state=14; total time=   0.0s\n",
      "[CV] END ......................C=5, gamma=1, random_state=14; total time=   0.0s\n",
      "[CV] END ......................C=5, gamma=1, random_state=14; total time=   0.0s\n",
      "[CV] END ......................C=5, gamma=1, random_state=14; total time=   0.0s\n",
      "[CV] END ......................C=5, gamma=1, random_state=14; total time=   0.0s\n",
      "[CV] END ......................C=5, gamma=1, random_state=15; total time=   0.0s\n",
      "[CV] END ......................C=5, gamma=1, random_state=15; total time=   0.0s\n",
      "[CV] END ......................C=5, gamma=1, random_state=15; total time=   0.0s\n",
      "[CV] END ......................C=5, gamma=1, random_state=15; total time=   0.0s\n",
      "[CV] END ......................C=5, gamma=1, random_state=15; total time=   0.0s\n",
      "[CV] END ......................C=5, gamma=1, random_state=16; total time=   0.0s\n",
      "[CV] END ......................C=5, gamma=1, random_state=16; total time=   0.0s\n",
      "[CV] END ......................C=5, gamma=1, random_state=16; total time=   0.0s\n",
      "[CV] END ......................C=5, gamma=1, random_state=16; total time=   0.0s\n",
      "[CV] END ......................C=5, gamma=1, random_state=16; total time=   0.0s\n",
      "[CV] END ......................C=5, gamma=1, random_state=17; total time=   0.0s\n",
      "[CV] END ......................C=5, gamma=1, random_state=17; total time=   0.0s\n",
      "[CV] END ......................C=5, gamma=1, random_state=17; total time=   0.0s\n",
      "[CV] END ......................C=5, gamma=1, random_state=17; total time=   0.0s\n",
      "[CV] END ......................C=5, gamma=1, random_state=17; total time=   0.0s\n",
      "[CV] END ......................C=5, gamma=1, random_state=18; total time=   0.0s\n",
      "[CV] END ......................C=5, gamma=1, random_state=18; total time=   0.0s\n",
      "[CV] END ......................C=5, gamma=1, random_state=18; total time=   0.0s\n",
      "[CV] END ......................C=5, gamma=1, random_state=18; total time=   0.0s\n",
      "[CV] END ......................C=5, gamma=1, random_state=18; total time=   0.0s\n",
      "[CV] END ......................C=5, gamma=1, random_state=19; total time=   0.0s\n",
      "[CV] END ......................C=5, gamma=1, random_state=19; total time=   0.0s\n",
      "[CV] END ......................C=5, gamma=1, random_state=19; total time=   0.0s\n",
      "[CV] END ......................C=5, gamma=1, random_state=19; total time=   0.0s\n",
      "[CV] END ......................C=5, gamma=1, random_state=19; total time=   0.0s\n",
      "[CV] END .....................C=5, gamma=0.1, random_state=1; total time=   0.0s\n",
      "[CV] END .....................C=5, gamma=0.1, random_state=1; total time=   0.0s\n",
      "[CV] END .....................C=5, gamma=0.1, random_state=1; total time=   0.0s\n",
      "[CV] END .....................C=5, gamma=0.1, random_state=1; total time=   0.0s\n",
      "[CV] END .....................C=5, gamma=0.1, random_state=1; total time=   0.0s\n",
      "[CV] END .....................C=5, gamma=0.1, random_state=2; total time=   0.0s\n",
      "[CV] END .....................C=5, gamma=0.1, random_state=2; total time=   0.0s\n",
      "[CV] END .....................C=5, gamma=0.1, random_state=2; total time=   0.0s\n",
      "[CV] END .....................C=5, gamma=0.1, random_state=2; total time=   0.0s\n",
      "[CV] END .....................C=5, gamma=0.1, random_state=2; total time=   0.0s\n",
      "[CV] END .....................C=5, gamma=0.1, random_state=3; total time=   0.0s\n",
      "[CV] END .....................C=5, gamma=0.1, random_state=3; total time=   0.0s\n",
      "[CV] END .....................C=5, gamma=0.1, random_state=3; total time=   0.0s\n",
      "[CV] END .....................C=5, gamma=0.1, random_state=3; total time=   0.0s\n",
      "[CV] END .....................C=5, gamma=0.1, random_state=3; total time=   0.0s\n",
      "[CV] END .....................C=5, gamma=0.1, random_state=4; total time=   0.0s\n",
      "[CV] END .....................C=5, gamma=0.1, random_state=4; total time=   0.0s\n",
      "[CV] END .....................C=5, gamma=0.1, random_state=4; total time=   0.0s\n",
      "[CV] END .....................C=5, gamma=0.1, random_state=4; total time=   0.0s\n",
      "[CV] END .....................C=5, gamma=0.1, random_state=4; total time=   0.0s\n",
      "[CV] END .....................C=5, gamma=0.1, random_state=5; total time=   0.0s\n",
      "[CV] END .....................C=5, gamma=0.1, random_state=5; total time=   0.0s\n",
      "[CV] END .....................C=5, gamma=0.1, random_state=5; total time=   0.0s\n",
      "[CV] END .....................C=5, gamma=0.1, random_state=5; total time=   0.0s\n",
      "[CV] END .....................C=5, gamma=0.1, random_state=5; total time=   0.0s\n",
      "[CV] END .....................C=5, gamma=0.1, random_state=6; total time=   0.0s\n",
      "[CV] END .....................C=5, gamma=0.1, random_state=6; total time=   0.0s\n",
      "[CV] END .....................C=5, gamma=0.1, random_state=6; total time=   0.0s\n",
      "[CV] END .....................C=5, gamma=0.1, random_state=6; total time=   0.0s\n",
      "[CV] END .....................C=5, gamma=0.1, random_state=6; total time=   0.0s\n",
      "[CV] END .....................C=5, gamma=0.1, random_state=7; total time=   0.0s\n",
      "[CV] END .....................C=5, gamma=0.1, random_state=7; total time=   0.0s\n",
      "[CV] END .....................C=5, gamma=0.1, random_state=7; total time=   0.0s\n",
      "[CV] END .....................C=5, gamma=0.1, random_state=7; total time=   0.0s\n",
      "[CV] END .....................C=5, gamma=0.1, random_state=7; total time=   0.0s\n",
      "[CV] END .....................C=5, gamma=0.1, random_state=8; total time=   0.0s\n",
      "[CV] END .....................C=5, gamma=0.1, random_state=8; total time=   0.0s\n",
      "[CV] END .....................C=5, gamma=0.1, random_state=8; total time=   0.0s\n",
      "[CV] END .....................C=5, gamma=0.1, random_state=8; total time=   0.0s\n",
      "[CV] END .....................C=5, gamma=0.1, random_state=8; total time=   0.0s\n",
      "[CV] END .....................C=5, gamma=0.1, random_state=9; total time=   0.0s\n",
      "[CV] END .....................C=5, gamma=0.1, random_state=9; total time=   0.0s\n",
      "[CV] END .....................C=5, gamma=0.1, random_state=9; total time=   0.0s\n",
      "[CV] END .....................C=5, gamma=0.1, random_state=9; total time=   0.0s\n",
      "[CV] END .....................C=5, gamma=0.1, random_state=9; total time=   0.0s\n",
      "[CV] END ....................C=5, gamma=0.1, random_state=10; total time=   0.0s\n",
      "[CV] END ....................C=5, gamma=0.1, random_state=10; total time=   0.0s\n",
      "[CV] END ....................C=5, gamma=0.1, random_state=10; total time=   0.0s\n",
      "[CV] END ....................C=5, gamma=0.1, random_state=10; total time=   0.0s\n",
      "[CV] END ....................C=5, gamma=0.1, random_state=10; total time=   0.0s\n",
      "[CV] END ....................C=5, gamma=0.1, random_state=11; total time=   0.0s\n",
      "[CV] END ....................C=5, gamma=0.1, random_state=11; total time=   0.0s\n",
      "[CV] END ....................C=5, gamma=0.1, random_state=11; total time=   0.0s\n",
      "[CV] END ....................C=5, gamma=0.1, random_state=11; total time=   0.0s\n"
     ]
    },
    {
     "name": "stdout",
     "output_type": "stream",
     "text": [
      "[CV] END ....................C=5, gamma=0.1, random_state=11; total time=   0.0s\n",
      "[CV] END ....................C=5, gamma=0.1, random_state=12; total time=   0.0s\n",
      "[CV] END ....................C=5, gamma=0.1, random_state=12; total time=   0.0s\n",
      "[CV] END ....................C=5, gamma=0.1, random_state=12; total time=   0.0s\n",
      "[CV] END ....................C=5, gamma=0.1, random_state=12; total time=   0.0s\n",
      "[CV] END ....................C=5, gamma=0.1, random_state=12; total time=   0.0s\n",
      "[CV] END ....................C=5, gamma=0.1, random_state=13; total time=   0.0s\n",
      "[CV] END ....................C=5, gamma=0.1, random_state=13; total time=   0.0s\n",
      "[CV] END ....................C=5, gamma=0.1, random_state=13; total time=   0.0s\n",
      "[CV] END ....................C=5, gamma=0.1, random_state=13; total time=   0.0s\n",
      "[CV] END ....................C=5, gamma=0.1, random_state=13; total time=   0.0s\n",
      "[CV] END ....................C=5, gamma=0.1, random_state=14; total time=   0.0s\n",
      "[CV] END ....................C=5, gamma=0.1, random_state=14; total time=   0.0s\n",
      "[CV] END ....................C=5, gamma=0.1, random_state=14; total time=   0.0s\n",
      "[CV] END ....................C=5, gamma=0.1, random_state=14; total time=   0.0s\n",
      "[CV] END ....................C=5, gamma=0.1, random_state=14; total time=   0.0s\n",
      "[CV] END ....................C=5, gamma=0.1, random_state=15; total time=   0.0s\n",
      "[CV] END ....................C=5, gamma=0.1, random_state=15; total time=   0.0s\n",
      "[CV] END ....................C=5, gamma=0.1, random_state=15; total time=   0.0s\n",
      "[CV] END ....................C=5, gamma=0.1, random_state=15; total time=   0.0s\n",
      "[CV] END ....................C=5, gamma=0.1, random_state=15; total time=   0.0s\n",
      "[CV] END ....................C=5, gamma=0.1, random_state=16; total time=   0.0s\n",
      "[CV] END ....................C=5, gamma=0.1, random_state=16; total time=   0.0s\n",
      "[CV] END ....................C=5, gamma=0.1, random_state=16; total time=   0.0s\n",
      "[CV] END ....................C=5, gamma=0.1, random_state=16; total time=   0.0s\n",
      "[CV] END ....................C=5, gamma=0.1, random_state=16; total time=   0.0s\n",
      "[CV] END ....................C=5, gamma=0.1, random_state=17; total time=   0.0s\n",
      "[CV] END ....................C=5, gamma=0.1, random_state=17; total time=   0.0s\n",
      "[CV] END ....................C=5, gamma=0.1, random_state=17; total time=   0.0s\n",
      "[CV] END ....................C=5, gamma=0.1, random_state=17; total time=   0.0s\n",
      "[CV] END ....................C=5, gamma=0.1, random_state=17; total time=   0.0s\n",
      "[CV] END ....................C=5, gamma=0.1, random_state=18; total time=   0.0s\n",
      "[CV] END ....................C=5, gamma=0.1, random_state=18; total time=   0.0s\n",
      "[CV] END ....................C=5, gamma=0.1, random_state=18; total time=   0.0s\n",
      "[CV] END ....................C=5, gamma=0.1, random_state=18; total time=   0.0s\n",
      "[CV] END ....................C=5, gamma=0.1, random_state=18; total time=   0.0s\n",
      "[CV] END ....................C=5, gamma=0.1, random_state=19; total time=   0.0s\n",
      "[CV] END ....................C=5, gamma=0.1, random_state=19; total time=   0.0s\n",
      "[CV] END ....................C=5, gamma=0.1, random_state=19; total time=   0.0s\n",
      "[CV] END ....................C=5, gamma=0.1, random_state=19; total time=   0.0s\n",
      "[CV] END ....................C=5, gamma=0.1, random_state=19; total time=   0.0s\n",
      "[CV] END ....................C=5, gamma=0.01, random_state=1; total time=   0.0s\n",
      "[CV] END ....................C=5, gamma=0.01, random_state=1; total time=   0.0s\n",
      "[CV] END ....................C=5, gamma=0.01, random_state=1; total time=   0.0s\n",
      "[CV] END ....................C=5, gamma=0.01, random_state=1; total time=   0.0s\n",
      "[CV] END ....................C=5, gamma=0.01, random_state=1; total time=   0.0s\n",
      "[CV] END ....................C=5, gamma=0.01, random_state=2; total time=   0.0s\n",
      "[CV] END ....................C=5, gamma=0.01, random_state=2; total time=   0.0s\n",
      "[CV] END ....................C=5, gamma=0.01, random_state=2; total time=   0.0s\n",
      "[CV] END ....................C=5, gamma=0.01, random_state=2; total time=   0.0s\n",
      "[CV] END ....................C=5, gamma=0.01, random_state=2; total time=   0.0s\n",
      "[CV] END ....................C=5, gamma=0.01, random_state=3; total time=   0.0s\n",
      "[CV] END ....................C=5, gamma=0.01, random_state=3; total time=   0.0s\n",
      "[CV] END ....................C=5, gamma=0.01, random_state=3; total time=   0.0s\n",
      "[CV] END ....................C=5, gamma=0.01, random_state=3; total time=   0.0s\n",
      "[CV] END ....................C=5, gamma=0.01, random_state=3; total time=   0.0s\n",
      "[CV] END ....................C=5, gamma=0.01, random_state=4; total time=   0.0s\n",
      "[CV] END ....................C=5, gamma=0.01, random_state=4; total time=   0.0s\n",
      "[CV] END ....................C=5, gamma=0.01, random_state=4; total time=   0.0s\n",
      "[CV] END ....................C=5, gamma=0.01, random_state=4; total time=   0.0s\n",
      "[CV] END ....................C=5, gamma=0.01, random_state=4; total time=   0.0s\n",
      "[CV] END ....................C=5, gamma=0.01, random_state=5; total time=   0.0s\n",
      "[CV] END ....................C=5, gamma=0.01, random_state=5; total time=   0.0s\n",
      "[CV] END ....................C=5, gamma=0.01, random_state=5; total time=   0.0s\n",
      "[CV] END ....................C=5, gamma=0.01, random_state=5; total time=   0.0s\n",
      "[CV] END ....................C=5, gamma=0.01, random_state=5; total time=   0.0s\n",
      "[CV] END ....................C=5, gamma=0.01, random_state=6; total time=   0.0s\n",
      "[CV] END ....................C=5, gamma=0.01, random_state=6; total time=   0.0s\n",
      "[CV] END ....................C=5, gamma=0.01, random_state=6; total time=   0.0s\n",
      "[CV] END ....................C=5, gamma=0.01, random_state=6; total time=   0.0s\n",
      "[CV] END ....................C=5, gamma=0.01, random_state=6; total time=   0.0s\n",
      "[CV] END ....................C=5, gamma=0.01, random_state=7; total time=   0.0s\n",
      "[CV] END ....................C=5, gamma=0.01, random_state=7; total time=   0.0s\n",
      "[CV] END ....................C=5, gamma=0.01, random_state=7; total time=   0.0s\n",
      "[CV] END ....................C=5, gamma=0.01, random_state=7; total time=   0.0s\n",
      "[CV] END ....................C=5, gamma=0.01, random_state=7; total time=   0.0s\n",
      "[CV] END ....................C=5, gamma=0.01, random_state=8; total time=   0.0s\n",
      "[CV] END ....................C=5, gamma=0.01, random_state=8; total time=   0.0s\n",
      "[CV] END ....................C=5, gamma=0.01, random_state=8; total time=   0.0s\n",
      "[CV] END ....................C=5, gamma=0.01, random_state=8; total time=   0.0s\n",
      "[CV] END ....................C=5, gamma=0.01, random_state=8; total time=   0.0s\n",
      "[CV] END ....................C=5, gamma=0.01, random_state=9; total time=   0.0s\n",
      "[CV] END ....................C=5, gamma=0.01, random_state=9; total time=   0.0s\n",
      "[CV] END ....................C=5, gamma=0.01, random_state=9; total time=   0.0s\n",
      "[CV] END ....................C=5, gamma=0.01, random_state=9; total time=   0.0s\n",
      "[CV] END ....................C=5, gamma=0.01, random_state=9; total time=   0.0s\n",
      "[CV] END ...................C=5, gamma=0.01, random_state=10; total time=   0.0s\n",
      "[CV] END ...................C=5, gamma=0.01, random_state=10; total time=   0.0s\n",
      "[CV] END ...................C=5, gamma=0.01, random_state=10; total time=   0.0s\n",
      "[CV] END ...................C=5, gamma=0.01, random_state=10; total time=   0.0s\n",
      "[CV] END ...................C=5, gamma=0.01, random_state=10; total time=   0.0s\n",
      "[CV] END ...................C=5, gamma=0.01, random_state=11; total time=   0.0s\n",
      "[CV] END ...................C=5, gamma=0.01, random_state=11; total time=   0.0s\n",
      "[CV] END ...................C=5, gamma=0.01, random_state=11; total time=   0.0s\n",
      "[CV] END ...................C=5, gamma=0.01, random_state=11; total time=   0.0s\n",
      "[CV] END ...................C=5, gamma=0.01, random_state=11; total time=   0.0s\n",
      "[CV] END ...................C=5, gamma=0.01, random_state=12; total time=   0.0s\n",
      "[CV] END ...................C=5, gamma=0.01, random_state=12; total time=   0.0s\n",
      "[CV] END ...................C=5, gamma=0.01, random_state=12; total time=   0.0s\n",
      "[CV] END ...................C=5, gamma=0.01, random_state=12; total time=   0.0s\n",
      "[CV] END ...................C=5, gamma=0.01, random_state=12; total time=   0.0s\n",
      "[CV] END ...................C=5, gamma=0.01, random_state=13; total time=   0.0s\n",
      "[CV] END ...................C=5, gamma=0.01, random_state=13; total time=   0.0s\n"
     ]
    },
    {
     "name": "stdout",
     "output_type": "stream",
     "text": [
      "[CV] END ...................C=5, gamma=0.01, random_state=13; total time=   0.0s\n",
      "[CV] END ...................C=5, gamma=0.01, random_state=13; total time=   0.0s\n",
      "[CV] END ...................C=5, gamma=0.01, random_state=13; total time=   0.0s\n",
      "[CV] END ...................C=5, gamma=0.01, random_state=14; total time=   0.0s\n",
      "[CV] END ...................C=5, gamma=0.01, random_state=14; total time=   0.0s\n",
      "[CV] END ...................C=5, gamma=0.01, random_state=14; total time=   0.0s\n",
      "[CV] END ...................C=5, gamma=0.01, random_state=14; total time=   0.0s\n",
      "[CV] END ...................C=5, gamma=0.01, random_state=14; total time=   0.0s\n",
      "[CV] END ...................C=5, gamma=0.01, random_state=15; total time=   0.0s\n",
      "[CV] END ...................C=5, gamma=0.01, random_state=15; total time=   0.0s\n",
      "[CV] END ...................C=5, gamma=0.01, random_state=15; total time=   0.0s\n",
      "[CV] END ...................C=5, gamma=0.01, random_state=15; total time=   0.0s\n",
      "[CV] END ...................C=5, gamma=0.01, random_state=15; total time=   0.0s\n",
      "[CV] END ...................C=5, gamma=0.01, random_state=16; total time=   0.0s\n",
      "[CV] END ...................C=5, gamma=0.01, random_state=16; total time=   0.0s\n",
      "[CV] END ...................C=5, gamma=0.01, random_state=16; total time=   0.0s\n",
      "[CV] END ...................C=5, gamma=0.01, random_state=16; total time=   0.0s\n",
      "[CV] END ...................C=5, gamma=0.01, random_state=16; total time=   0.0s\n",
      "[CV] END ...................C=5, gamma=0.01, random_state=17; total time=   0.0s\n",
      "[CV] END ...................C=5, gamma=0.01, random_state=17; total time=   0.0s\n",
      "[CV] END ...................C=5, gamma=0.01, random_state=17; total time=   0.0s\n",
      "[CV] END ...................C=5, gamma=0.01, random_state=17; total time=   0.0s\n",
      "[CV] END ...................C=5, gamma=0.01, random_state=17; total time=   0.0s\n",
      "[CV] END ...................C=5, gamma=0.01, random_state=18; total time=   0.0s\n",
      "[CV] END ...................C=5, gamma=0.01, random_state=18; total time=   0.0s\n",
      "[CV] END ...................C=5, gamma=0.01, random_state=18; total time=   0.0s\n",
      "[CV] END ...................C=5, gamma=0.01, random_state=18; total time=   0.0s\n",
      "[CV] END ...................C=5, gamma=0.01, random_state=18; total time=   0.0s\n",
      "[CV] END ...................C=5, gamma=0.01, random_state=19; total time=   0.0s\n",
      "[CV] END ...................C=5, gamma=0.01, random_state=19; total time=   0.0s\n",
      "[CV] END ...................C=5, gamma=0.01, random_state=19; total time=   0.0s\n",
      "[CV] END ...................C=5, gamma=0.01, random_state=19; total time=   0.0s\n",
      "[CV] END ...................C=5, gamma=0.01, random_state=19; total time=   0.0s\n",
      "[CV] END ...................C=5, gamma=0.001, random_state=1; total time=   0.0s\n",
      "[CV] END ...................C=5, gamma=0.001, random_state=1; total time=   0.0s\n",
      "[CV] END ...................C=5, gamma=0.001, random_state=1; total time=   0.0s\n",
      "[CV] END ...................C=5, gamma=0.001, random_state=1; total time=   0.0s\n",
      "[CV] END ...................C=5, gamma=0.001, random_state=1; total time=   0.0s\n",
      "[CV] END ...................C=5, gamma=0.001, random_state=2; total time=   0.0s\n",
      "[CV] END ...................C=5, gamma=0.001, random_state=2; total time=   0.0s\n",
      "[CV] END ...................C=5, gamma=0.001, random_state=2; total time=   0.0s\n",
      "[CV] END ...................C=5, gamma=0.001, random_state=2; total time=   0.0s\n",
      "[CV] END ...................C=5, gamma=0.001, random_state=2; total time=   0.0s\n",
      "[CV] END ...................C=5, gamma=0.001, random_state=3; total time=   0.0s\n",
      "[CV] END ...................C=5, gamma=0.001, random_state=3; total time=   0.0s\n",
      "[CV] END ...................C=5, gamma=0.001, random_state=3; total time=   0.0s\n",
      "[CV] END ...................C=5, gamma=0.001, random_state=3; total time=   0.0s\n",
      "[CV] END ...................C=5, gamma=0.001, random_state=3; total time=   0.0s\n",
      "[CV] END ...................C=5, gamma=0.001, random_state=4; total time=   0.0s\n",
      "[CV] END ...................C=5, gamma=0.001, random_state=4; total time=   0.0s\n",
      "[CV] END ...................C=5, gamma=0.001, random_state=4; total time=   0.0s\n",
      "[CV] END ...................C=5, gamma=0.001, random_state=4; total time=   0.0s\n",
      "[CV] END ...................C=5, gamma=0.001, random_state=4; total time=   0.0s\n",
      "[CV] END ...................C=5, gamma=0.001, random_state=5; total time=   0.0s\n",
      "[CV] END ...................C=5, gamma=0.001, random_state=5; total time=   0.0s\n",
      "[CV] END ...................C=5, gamma=0.001, random_state=5; total time=   0.0s\n",
      "[CV] END ...................C=5, gamma=0.001, random_state=5; total time=   0.0s\n",
      "[CV] END ...................C=5, gamma=0.001, random_state=5; total time=   0.0s\n",
      "[CV] END ...................C=5, gamma=0.001, random_state=6; total time=   0.0s\n",
      "[CV] END ...................C=5, gamma=0.001, random_state=6; total time=   0.0s\n",
      "[CV] END ...................C=5, gamma=0.001, random_state=6; total time=   0.0s\n",
      "[CV] END ...................C=5, gamma=0.001, random_state=6; total time=   0.0s\n",
      "[CV] END ...................C=5, gamma=0.001, random_state=6; total time=   0.0s\n",
      "[CV] END ...................C=5, gamma=0.001, random_state=7; total time=   0.0s\n",
      "[CV] END ...................C=5, gamma=0.001, random_state=7; total time=   0.0s\n",
      "[CV] END ...................C=5, gamma=0.001, random_state=7; total time=   0.0s\n",
      "[CV] END ...................C=5, gamma=0.001, random_state=7; total time=   0.0s\n",
      "[CV] END ...................C=5, gamma=0.001, random_state=7; total time=   0.0s\n",
      "[CV] END ...................C=5, gamma=0.001, random_state=8; total time=   0.0s\n",
      "[CV] END ...................C=5, gamma=0.001, random_state=8; total time=   0.0s\n",
      "[CV] END ...................C=5, gamma=0.001, random_state=8; total time=   0.0s\n",
      "[CV] END ...................C=5, gamma=0.001, random_state=8; total time=   0.0s\n",
      "[CV] END ...................C=5, gamma=0.001, random_state=8; total time=   0.0s\n",
      "[CV] END ...................C=5, gamma=0.001, random_state=9; total time=   0.0s\n",
      "[CV] END ...................C=5, gamma=0.001, random_state=9; total time=   0.0s\n",
      "[CV] END ...................C=5, gamma=0.001, random_state=9; total time=   0.0s\n",
      "[CV] END ...................C=5, gamma=0.001, random_state=9; total time=   0.0s\n",
      "[CV] END ...................C=5, gamma=0.001, random_state=9; total time=   0.0s\n",
      "[CV] END ..................C=5, gamma=0.001, random_state=10; total time=   0.0s\n",
      "[CV] END ..................C=5, gamma=0.001, random_state=10; total time=   0.0s\n",
      "[CV] END ..................C=5, gamma=0.001, random_state=10; total time=   0.0s\n",
      "[CV] END ..................C=5, gamma=0.001, random_state=10; total time=   0.0s\n",
      "[CV] END ..................C=5, gamma=0.001, random_state=10; total time=   0.0s\n",
      "[CV] END ..................C=5, gamma=0.001, random_state=11; total time=   0.0s\n",
      "[CV] END ..................C=5, gamma=0.001, random_state=11; total time=   0.0s\n",
      "[CV] END ..................C=5, gamma=0.001, random_state=11; total time=   0.0s\n",
      "[CV] END ..................C=5, gamma=0.001, random_state=11; total time=   0.0s\n",
      "[CV] END ..................C=5, gamma=0.001, random_state=11; total time=   0.0s\n",
      "[CV] END ..................C=5, gamma=0.001, random_state=12; total time=   0.0s\n",
      "[CV] END ..................C=5, gamma=0.001, random_state=12; total time=   0.0s\n",
      "[CV] END ..................C=5, gamma=0.001, random_state=12; total time=   0.0s\n",
      "[CV] END ..................C=5, gamma=0.001, random_state=12; total time=   0.0s\n",
      "[CV] END ..................C=5, gamma=0.001, random_state=12; total time=   0.0s\n",
      "[CV] END ..................C=5, gamma=0.001, random_state=13; total time=   0.0s\n",
      "[CV] END ..................C=5, gamma=0.001, random_state=13; total time=   0.0s\n",
      "[CV] END ..................C=5, gamma=0.001, random_state=13; total time=   0.0s\n",
      "[CV] END ..................C=5, gamma=0.001, random_state=13; total time=   0.0s\n",
      "[CV] END ..................C=5, gamma=0.001, random_state=13; total time=   0.0s\n",
      "[CV] END ..................C=5, gamma=0.001, random_state=14; total time=   0.0s\n",
      "[CV] END ..................C=5, gamma=0.001, random_state=14; total time=   0.0s\n",
      "[CV] END ..................C=5, gamma=0.001, random_state=14; total time=   0.0s\n",
      "[CV] END ..................C=5, gamma=0.001, random_state=14; total time=   0.0s\n",
      "[CV] END ..................C=5, gamma=0.001, random_state=14; total time=   0.0s\n",
      "[CV] END ..................C=5, gamma=0.001, random_state=15; total time=   0.0s\n",
      "[CV] END ..................C=5, gamma=0.001, random_state=15; total time=   0.0s\n",
      "[CV] END ..................C=5, gamma=0.001, random_state=15; total time=   0.0s\n",
      "[CV] END ..................C=5, gamma=0.001, random_state=15; total time=   0.0s\n"
     ]
    },
    {
     "name": "stdout",
     "output_type": "stream",
     "text": [
      "[CV] END ..................C=5, gamma=0.001, random_state=15; total time=   0.0s\n",
      "[CV] END ..................C=5, gamma=0.001, random_state=16; total time=   0.0s\n",
      "[CV] END ..................C=5, gamma=0.001, random_state=16; total time=   0.0s\n",
      "[CV] END ..................C=5, gamma=0.001, random_state=16; total time=   0.0s\n",
      "[CV] END ..................C=5, gamma=0.001, random_state=16; total time=   0.0s\n",
      "[CV] END ..................C=5, gamma=0.001, random_state=16; total time=   0.0s\n",
      "[CV] END ..................C=5, gamma=0.001, random_state=17; total time=   0.0s\n",
      "[CV] END ..................C=5, gamma=0.001, random_state=17; total time=   0.0s\n",
      "[CV] END ..................C=5, gamma=0.001, random_state=17; total time=   0.0s\n",
      "[CV] END ..................C=5, gamma=0.001, random_state=17; total time=   0.0s\n",
      "[CV] END ..................C=5, gamma=0.001, random_state=17; total time=   0.0s\n",
      "[CV] END ..................C=5, gamma=0.001, random_state=18; total time=   0.0s\n",
      "[CV] END ..................C=5, gamma=0.001, random_state=18; total time=   0.0s\n",
      "[CV] END ..................C=5, gamma=0.001, random_state=18; total time=   0.0s\n",
      "[CV] END ..................C=5, gamma=0.001, random_state=18; total time=   0.0s\n",
      "[CV] END ..................C=5, gamma=0.001, random_state=18; total time=   0.0s\n",
      "[CV] END ..................C=5, gamma=0.001, random_state=19; total time=   0.0s\n",
      "[CV] END ..................C=5, gamma=0.001, random_state=19; total time=   0.0s\n",
      "[CV] END ..................C=5, gamma=0.001, random_state=19; total time=   0.0s\n",
      "[CV] END ..................C=5, gamma=0.001, random_state=19; total time=   0.0s\n",
      "[CV] END ..................C=5, gamma=0.001, random_state=19; total time=   0.0s\n",
      "[CV] END ..................C=5, gamma=0.0001, random_state=1; total time=   0.0s\n",
      "[CV] END ..................C=5, gamma=0.0001, random_state=1; total time=   0.0s\n",
      "[CV] END ..................C=5, gamma=0.0001, random_state=1; total time=   0.0s\n",
      "[CV] END ..................C=5, gamma=0.0001, random_state=1; total time=   0.0s\n",
      "[CV] END ..................C=5, gamma=0.0001, random_state=1; total time=   0.0s\n",
      "[CV] END ..................C=5, gamma=0.0001, random_state=2; total time=   0.0s\n",
      "[CV] END ..................C=5, gamma=0.0001, random_state=2; total time=   0.0s\n",
      "[CV] END ..................C=5, gamma=0.0001, random_state=2; total time=   0.0s\n",
      "[CV] END ..................C=5, gamma=0.0001, random_state=2; total time=   0.0s\n",
      "[CV] END ..................C=5, gamma=0.0001, random_state=2; total time=   0.0s\n",
      "[CV] END ..................C=5, gamma=0.0001, random_state=3; total time=   0.0s\n",
      "[CV] END ..................C=5, gamma=0.0001, random_state=3; total time=   0.0s\n",
      "[CV] END ..................C=5, gamma=0.0001, random_state=3; total time=   0.0s\n",
      "[CV] END ..................C=5, gamma=0.0001, random_state=3; total time=   0.0s\n",
      "[CV] END ..................C=5, gamma=0.0001, random_state=3; total time=   0.0s\n",
      "[CV] END ..................C=5, gamma=0.0001, random_state=4; total time=   0.0s\n",
      "[CV] END ..................C=5, gamma=0.0001, random_state=4; total time=   0.0s\n",
      "[CV] END ..................C=5, gamma=0.0001, random_state=4; total time=   0.0s\n",
      "[CV] END ..................C=5, gamma=0.0001, random_state=4; total time=   0.0s\n",
      "[CV] END ..................C=5, gamma=0.0001, random_state=4; total time=   0.0s\n",
      "[CV] END ..................C=5, gamma=0.0001, random_state=5; total time=   0.0s\n",
      "[CV] END ..................C=5, gamma=0.0001, random_state=5; total time=   0.0s\n",
      "[CV] END ..................C=5, gamma=0.0001, random_state=5; total time=   0.0s\n",
      "[CV] END ..................C=5, gamma=0.0001, random_state=5; total time=   0.0s\n",
      "[CV] END ..................C=5, gamma=0.0001, random_state=5; total time=   0.0s\n",
      "[CV] END ..................C=5, gamma=0.0001, random_state=6; total time=   0.0s\n",
      "[CV] END ..................C=5, gamma=0.0001, random_state=6; total time=   0.0s\n",
      "[CV] END ..................C=5, gamma=0.0001, random_state=6; total time=   0.0s\n",
      "[CV] END ..................C=5, gamma=0.0001, random_state=6; total time=   0.0s\n",
      "[CV] END ..................C=5, gamma=0.0001, random_state=6; total time=   0.0s\n",
      "[CV] END ..................C=5, gamma=0.0001, random_state=7; total time=   0.0s\n",
      "[CV] END ..................C=5, gamma=0.0001, random_state=7; total time=   0.0s\n",
      "[CV] END ..................C=5, gamma=0.0001, random_state=7; total time=   0.0s\n",
      "[CV] END ..................C=5, gamma=0.0001, random_state=7; total time=   0.0s\n",
      "[CV] END ..................C=5, gamma=0.0001, random_state=7; total time=   0.0s\n",
      "[CV] END ..................C=5, gamma=0.0001, random_state=8; total time=   0.0s\n",
      "[CV] END ..................C=5, gamma=0.0001, random_state=8; total time=   0.0s\n",
      "[CV] END ..................C=5, gamma=0.0001, random_state=8; total time=   0.0s\n",
      "[CV] END ..................C=5, gamma=0.0001, random_state=8; total time=   0.0s\n",
      "[CV] END ..................C=5, gamma=0.0001, random_state=8; total time=   0.0s\n",
      "[CV] END ..................C=5, gamma=0.0001, random_state=9; total time=   0.0s\n",
      "[CV] END ..................C=5, gamma=0.0001, random_state=9; total time=   0.0s\n",
      "[CV] END ..................C=5, gamma=0.0001, random_state=9; total time=   0.0s\n",
      "[CV] END ..................C=5, gamma=0.0001, random_state=9; total time=   0.0s\n",
      "[CV] END ..................C=5, gamma=0.0001, random_state=9; total time=   0.0s\n",
      "[CV] END .................C=5, gamma=0.0001, random_state=10; total time=   0.0s\n",
      "[CV] END .................C=5, gamma=0.0001, random_state=10; total time=   0.0s\n",
      "[CV] END .................C=5, gamma=0.0001, random_state=10; total time=   0.0s\n",
      "[CV] END .................C=5, gamma=0.0001, random_state=10; total time=   0.0s\n",
      "[CV] END .................C=5, gamma=0.0001, random_state=10; total time=   0.0s\n",
      "[CV] END .................C=5, gamma=0.0001, random_state=11; total time=   0.0s\n",
      "[CV] END .................C=5, gamma=0.0001, random_state=11; total time=   0.0s\n",
      "[CV] END .................C=5, gamma=0.0001, random_state=11; total time=   0.0s\n",
      "[CV] END .................C=5, gamma=0.0001, random_state=11; total time=   0.0s\n",
      "[CV] END .................C=5, gamma=0.0001, random_state=11; total time=   0.0s\n",
      "[CV] END .................C=5, gamma=0.0001, random_state=12; total time=   0.0s\n",
      "[CV] END .................C=5, gamma=0.0001, random_state=12; total time=   0.0s\n",
      "[CV] END .................C=5, gamma=0.0001, random_state=12; total time=   0.0s\n",
      "[CV] END .................C=5, gamma=0.0001, random_state=12; total time=   0.0s\n",
      "[CV] END .................C=5, gamma=0.0001, random_state=12; total time=   0.0s\n",
      "[CV] END .................C=5, gamma=0.0001, random_state=13; total time=   0.0s\n",
      "[CV] END .................C=5, gamma=0.0001, random_state=13; total time=   0.0s\n",
      "[CV] END .................C=5, gamma=0.0001, random_state=13; total time=   0.0s\n",
      "[CV] END .................C=5, gamma=0.0001, random_state=13; total time=   0.0s\n",
      "[CV] END .................C=5, gamma=0.0001, random_state=13; total time=   0.0s\n",
      "[CV] END .................C=5, gamma=0.0001, random_state=14; total time=   0.0s\n",
      "[CV] END .................C=5, gamma=0.0001, random_state=14; total time=   0.0s\n",
      "[CV] END .................C=5, gamma=0.0001, random_state=14; total time=   0.0s\n",
      "[CV] END .................C=5, gamma=0.0001, random_state=14; total time=   0.0s\n",
      "[CV] END .................C=5, gamma=0.0001, random_state=14; total time=   0.0s\n",
      "[CV] END .................C=5, gamma=0.0001, random_state=15; total time=   0.0s\n",
      "[CV] END .................C=5, gamma=0.0001, random_state=15; total time=   0.0s\n",
      "[CV] END .................C=5, gamma=0.0001, random_state=15; total time=   0.0s\n",
      "[CV] END .................C=5, gamma=0.0001, random_state=15; total time=   0.0s\n",
      "[CV] END .................C=5, gamma=0.0001, random_state=15; total time=   0.0s\n",
      "[CV] END .................C=5, gamma=0.0001, random_state=16; total time=   0.0s\n",
      "[CV] END .................C=5, gamma=0.0001, random_state=16; total time=   0.0s\n",
      "[CV] END .................C=5, gamma=0.0001, random_state=16; total time=   0.0s\n",
      "[CV] END .................C=5, gamma=0.0001, random_state=16; total time=   0.0s\n",
      "[CV] END .................C=5, gamma=0.0001, random_state=16; total time=   0.0s\n",
      "[CV] END .................C=5, gamma=0.0001, random_state=17; total time=   0.0s\n",
      "[CV] END .................C=5, gamma=0.0001, random_state=17; total time=   0.0s\n",
      "[CV] END .................C=5, gamma=0.0001, random_state=17; total time=   0.0s\n"
     ]
    },
    {
     "name": "stdout",
     "output_type": "stream",
     "text": [
      "[CV] END .................C=5, gamma=0.0001, random_state=17; total time=   0.0s\n",
      "[CV] END .................C=5, gamma=0.0001, random_state=17; total time=   0.0s\n",
      "[CV] END .................C=5, gamma=0.0001, random_state=18; total time=   0.0s\n",
      "[CV] END .................C=5, gamma=0.0001, random_state=18; total time=   0.0s\n",
      "[CV] END .................C=5, gamma=0.0001, random_state=18; total time=   0.0s\n",
      "[CV] END .................C=5, gamma=0.0001, random_state=18; total time=   0.0s\n",
      "[CV] END .................C=5, gamma=0.0001, random_state=18; total time=   0.0s\n",
      "[CV] END .................C=5, gamma=0.0001, random_state=19; total time=   0.0s\n",
      "[CV] END .................C=5, gamma=0.0001, random_state=19; total time=   0.0s\n",
      "[CV] END .................C=5, gamma=0.0001, random_state=19; total time=   0.0s\n",
      "[CV] END .................C=5, gamma=0.0001, random_state=19; total time=   0.0s\n",
      "[CV] END .................C=5, gamma=0.0001, random_state=19; total time=   0.0s\n",
      "[CV] END ......................C=10, gamma=1, random_state=1; total time=   0.0s\n",
      "[CV] END ......................C=10, gamma=1, random_state=1; total time=   0.0s\n",
      "[CV] END ......................C=10, gamma=1, random_state=1; total time=   0.0s\n",
      "[CV] END ......................C=10, gamma=1, random_state=1; total time=   0.0s\n",
      "[CV] END ......................C=10, gamma=1, random_state=1; total time=   0.0s\n",
      "[CV] END ......................C=10, gamma=1, random_state=2; total time=   0.0s\n",
      "[CV] END ......................C=10, gamma=1, random_state=2; total time=   0.0s\n",
      "[CV] END ......................C=10, gamma=1, random_state=2; total time=   0.0s\n",
      "[CV] END ......................C=10, gamma=1, random_state=2; total time=   0.0s\n",
      "[CV] END ......................C=10, gamma=1, random_state=2; total time=   0.0s\n",
      "[CV] END ......................C=10, gamma=1, random_state=3; total time=   0.0s\n",
      "[CV] END ......................C=10, gamma=1, random_state=3; total time=   0.0s\n",
      "[CV] END ......................C=10, gamma=1, random_state=3; total time=   0.0s\n",
      "[CV] END ......................C=10, gamma=1, random_state=3; total time=   0.0s\n",
      "[CV] END ......................C=10, gamma=1, random_state=3; total time=   0.0s\n",
      "[CV] END ......................C=10, gamma=1, random_state=4; total time=   0.0s\n",
      "[CV] END ......................C=10, gamma=1, random_state=4; total time=   0.0s\n",
      "[CV] END ......................C=10, gamma=1, random_state=4; total time=   0.0s\n",
      "[CV] END ......................C=10, gamma=1, random_state=4; total time=   0.0s\n",
      "[CV] END ......................C=10, gamma=1, random_state=4; total time=   0.0s\n",
      "[CV] END ......................C=10, gamma=1, random_state=5; total time=   0.0s\n",
      "[CV] END ......................C=10, gamma=1, random_state=5; total time=   0.0s\n",
      "[CV] END ......................C=10, gamma=1, random_state=5; total time=   0.0s\n",
      "[CV] END ......................C=10, gamma=1, random_state=5; total time=   0.0s\n",
      "[CV] END ......................C=10, gamma=1, random_state=5; total time=   0.0s\n",
      "[CV] END ......................C=10, gamma=1, random_state=6; total time=   0.0s\n",
      "[CV] END ......................C=10, gamma=1, random_state=6; total time=   0.0s\n",
      "[CV] END ......................C=10, gamma=1, random_state=6; total time=   0.0s\n",
      "[CV] END ......................C=10, gamma=1, random_state=6; total time=   0.0s\n",
      "[CV] END ......................C=10, gamma=1, random_state=6; total time=   0.0s\n",
      "[CV] END ......................C=10, gamma=1, random_state=7; total time=   0.0s\n",
      "[CV] END ......................C=10, gamma=1, random_state=7; total time=   0.0s\n",
      "[CV] END ......................C=10, gamma=1, random_state=7; total time=   0.0s\n",
      "[CV] END ......................C=10, gamma=1, random_state=7; total time=   0.0s\n",
      "[CV] END ......................C=10, gamma=1, random_state=7; total time=   0.0s\n",
      "[CV] END ......................C=10, gamma=1, random_state=8; total time=   0.0s\n",
      "[CV] END ......................C=10, gamma=1, random_state=8; total time=   0.0s\n",
      "[CV] END ......................C=10, gamma=1, random_state=8; total time=   0.0s\n",
      "[CV] END ......................C=10, gamma=1, random_state=8; total time=   0.0s\n",
      "[CV] END ......................C=10, gamma=1, random_state=8; total time=   0.0s\n",
      "[CV] END ......................C=10, gamma=1, random_state=9; total time=   0.0s\n",
      "[CV] END ......................C=10, gamma=1, random_state=9; total time=   0.0s\n",
      "[CV] END ......................C=10, gamma=1, random_state=9; total time=   0.0s\n",
      "[CV] END ......................C=10, gamma=1, random_state=9; total time=   0.0s\n",
      "[CV] END ......................C=10, gamma=1, random_state=9; total time=   0.0s\n",
      "[CV] END .....................C=10, gamma=1, random_state=10; total time=   0.0s\n",
      "[CV] END .....................C=10, gamma=1, random_state=10; total time=   0.0s\n",
      "[CV] END .....................C=10, gamma=1, random_state=10; total time=   0.0s\n",
      "[CV] END .....................C=10, gamma=1, random_state=10; total time=   0.0s\n",
      "[CV] END .....................C=10, gamma=1, random_state=10; total time=   0.0s\n",
      "[CV] END .....................C=10, gamma=1, random_state=11; total time=   0.0s\n",
      "[CV] END .....................C=10, gamma=1, random_state=11; total time=   0.0s\n",
      "[CV] END .....................C=10, gamma=1, random_state=11; total time=   0.0s\n",
      "[CV] END .....................C=10, gamma=1, random_state=11; total time=   0.0s\n",
      "[CV] END .....................C=10, gamma=1, random_state=11; total time=   0.0s\n",
      "[CV] END .....................C=10, gamma=1, random_state=12; total time=   0.0s\n",
      "[CV] END .....................C=10, gamma=1, random_state=12; total time=   0.0s\n",
      "[CV] END .....................C=10, gamma=1, random_state=12; total time=   0.0s\n",
      "[CV] END .....................C=10, gamma=1, random_state=12; total time=   0.0s\n",
      "[CV] END .....................C=10, gamma=1, random_state=12; total time=   0.0s\n",
      "[CV] END .....................C=10, gamma=1, random_state=13; total time=   0.0s\n",
      "[CV] END .....................C=10, gamma=1, random_state=13; total time=   0.0s\n",
      "[CV] END .....................C=10, gamma=1, random_state=13; total time=   0.0s\n",
      "[CV] END .....................C=10, gamma=1, random_state=13; total time=   0.0s\n",
      "[CV] END .....................C=10, gamma=1, random_state=13; total time=   0.0s\n",
      "[CV] END .....................C=10, gamma=1, random_state=14; total time=   0.0s\n",
      "[CV] END .....................C=10, gamma=1, random_state=14; total time=   0.0s\n",
      "[CV] END .....................C=10, gamma=1, random_state=14; total time=   0.0s\n",
      "[CV] END .....................C=10, gamma=1, random_state=14; total time=   0.0s\n",
      "[CV] END .....................C=10, gamma=1, random_state=14; total time=   0.0s\n",
      "[CV] END .....................C=10, gamma=1, random_state=15; total time=   0.0s\n",
      "[CV] END .....................C=10, gamma=1, random_state=15; total time=   0.0s\n",
      "[CV] END .....................C=10, gamma=1, random_state=15; total time=   0.0s\n",
      "[CV] END .....................C=10, gamma=1, random_state=15; total time=   0.0s\n",
      "[CV] END .....................C=10, gamma=1, random_state=15; total time=   0.0s\n",
      "[CV] END .....................C=10, gamma=1, random_state=16; total time=   0.0s\n",
      "[CV] END .....................C=10, gamma=1, random_state=16; total time=   0.0s\n",
      "[CV] END .....................C=10, gamma=1, random_state=16; total time=   0.0s\n",
      "[CV] END .....................C=10, gamma=1, random_state=16; total time=   0.0s\n",
      "[CV] END .....................C=10, gamma=1, random_state=16; total time=   0.0s\n",
      "[CV] END .....................C=10, gamma=1, random_state=17; total time=   0.0s\n",
      "[CV] END .....................C=10, gamma=1, random_state=17; total time=   0.0s\n",
      "[CV] END .....................C=10, gamma=1, random_state=17; total time=   0.0s\n",
      "[CV] END .....................C=10, gamma=1, random_state=17; total time=   0.0s\n",
      "[CV] END .....................C=10, gamma=1, random_state=17; total time=   0.0s\n",
      "[CV] END .....................C=10, gamma=1, random_state=18; total time=   0.0s\n",
      "[CV] END .....................C=10, gamma=1, random_state=18; total time=   0.0s\n",
      "[CV] END .....................C=10, gamma=1, random_state=18; total time=   0.0s\n",
      "[CV] END .....................C=10, gamma=1, random_state=18; total time=   0.0s\n",
      "[CV] END .....................C=10, gamma=1, random_state=18; total time=   0.0s\n"
     ]
    },
    {
     "name": "stdout",
     "output_type": "stream",
     "text": [
      "[CV] END .....................C=10, gamma=1, random_state=19; total time=   0.0s\n",
      "[CV] END .....................C=10, gamma=1, random_state=19; total time=   0.0s\n",
      "[CV] END .....................C=10, gamma=1, random_state=19; total time=   0.0s\n",
      "[CV] END .....................C=10, gamma=1, random_state=19; total time=   0.0s\n",
      "[CV] END .....................C=10, gamma=1, random_state=19; total time=   0.0s\n",
      "[CV] END ....................C=10, gamma=0.1, random_state=1; total time=   0.0s\n",
      "[CV] END ....................C=10, gamma=0.1, random_state=1; total time=   0.0s\n",
      "[CV] END ....................C=10, gamma=0.1, random_state=1; total time=   0.0s\n",
      "[CV] END ....................C=10, gamma=0.1, random_state=1; total time=   0.0s\n",
      "[CV] END ....................C=10, gamma=0.1, random_state=1; total time=   0.0s\n",
      "[CV] END ....................C=10, gamma=0.1, random_state=2; total time=   0.0s\n",
      "[CV] END ....................C=10, gamma=0.1, random_state=2; total time=   0.0s\n",
      "[CV] END ....................C=10, gamma=0.1, random_state=2; total time=   0.0s\n",
      "[CV] END ....................C=10, gamma=0.1, random_state=2; total time=   0.0s\n",
      "[CV] END ....................C=10, gamma=0.1, random_state=2; total time=   0.0s\n",
      "[CV] END ....................C=10, gamma=0.1, random_state=3; total time=   0.0s\n",
      "[CV] END ....................C=10, gamma=0.1, random_state=3; total time=   0.0s\n",
      "[CV] END ....................C=10, gamma=0.1, random_state=3; total time=   0.0s\n",
      "[CV] END ....................C=10, gamma=0.1, random_state=3; total time=   0.0s\n",
      "[CV] END ....................C=10, gamma=0.1, random_state=3; total time=   0.0s\n",
      "[CV] END ....................C=10, gamma=0.1, random_state=4; total time=   0.0s\n",
      "[CV] END ....................C=10, gamma=0.1, random_state=4; total time=   0.0s\n",
      "[CV] END ....................C=10, gamma=0.1, random_state=4; total time=   0.0s\n",
      "[CV] END ....................C=10, gamma=0.1, random_state=4; total time=   0.0s\n",
      "[CV] END ....................C=10, gamma=0.1, random_state=4; total time=   0.0s\n",
      "[CV] END ....................C=10, gamma=0.1, random_state=5; total time=   0.0s\n",
      "[CV] END ....................C=10, gamma=0.1, random_state=5; total time=   0.0s\n",
      "[CV] END ....................C=10, gamma=0.1, random_state=5; total time=   0.0s\n",
      "[CV] END ....................C=10, gamma=0.1, random_state=5; total time=   0.0s\n",
      "[CV] END ....................C=10, gamma=0.1, random_state=5; total time=   0.0s\n",
      "[CV] END ....................C=10, gamma=0.1, random_state=6; total time=   0.0s\n",
      "[CV] END ....................C=10, gamma=0.1, random_state=6; total time=   0.0s\n",
      "[CV] END ....................C=10, gamma=0.1, random_state=6; total time=   0.0s\n",
      "[CV] END ....................C=10, gamma=0.1, random_state=6; total time=   0.0s\n",
      "[CV] END ....................C=10, gamma=0.1, random_state=6; total time=   0.0s\n",
      "[CV] END ....................C=10, gamma=0.1, random_state=7; total time=   0.0s\n",
      "[CV] END ....................C=10, gamma=0.1, random_state=7; total time=   0.0s\n",
      "[CV] END ....................C=10, gamma=0.1, random_state=7; total time=   0.0s\n",
      "[CV] END ....................C=10, gamma=0.1, random_state=7; total time=   0.0s\n",
      "[CV] END ....................C=10, gamma=0.1, random_state=7; total time=   0.0s\n",
      "[CV] END ....................C=10, gamma=0.1, random_state=8; total time=   0.0s\n",
      "[CV] END ....................C=10, gamma=0.1, random_state=8; total time=   0.0s\n",
      "[CV] END ....................C=10, gamma=0.1, random_state=8; total time=   0.0s\n",
      "[CV] END ....................C=10, gamma=0.1, random_state=8; total time=   0.0s\n",
      "[CV] END ....................C=10, gamma=0.1, random_state=8; total time=   0.0s\n",
      "[CV] END ....................C=10, gamma=0.1, random_state=9; total time=   0.0s\n",
      "[CV] END ....................C=10, gamma=0.1, random_state=9; total time=   0.0s\n",
      "[CV] END ....................C=10, gamma=0.1, random_state=9; total time=   0.0s\n",
      "[CV] END ....................C=10, gamma=0.1, random_state=9; total time=   0.0s\n",
      "[CV] END ....................C=10, gamma=0.1, random_state=9; total time=   0.0s\n",
      "[CV] END ...................C=10, gamma=0.1, random_state=10; total time=   0.0s\n",
      "[CV] END ...................C=10, gamma=0.1, random_state=10; total time=   0.0s\n",
      "[CV] END ...................C=10, gamma=0.1, random_state=10; total time=   0.0s\n",
      "[CV] END ...................C=10, gamma=0.1, random_state=10; total time=   0.0s\n",
      "[CV] END ...................C=10, gamma=0.1, random_state=10; total time=   0.0s\n",
      "[CV] END ...................C=10, gamma=0.1, random_state=11; total time=   0.0s\n",
      "[CV] END ...................C=10, gamma=0.1, random_state=11; total time=   0.0s\n",
      "[CV] END ...................C=10, gamma=0.1, random_state=11; total time=   0.0s\n",
      "[CV] END ...................C=10, gamma=0.1, random_state=11; total time=   0.0s\n",
      "[CV] END ...................C=10, gamma=0.1, random_state=11; total time=   0.0s\n",
      "[CV] END ...................C=10, gamma=0.1, random_state=12; total time=   0.0s\n",
      "[CV] END ...................C=10, gamma=0.1, random_state=12; total time=   0.0s\n",
      "[CV] END ...................C=10, gamma=0.1, random_state=12; total time=   0.0s\n",
      "[CV] END ...................C=10, gamma=0.1, random_state=12; total time=   0.0s\n",
      "[CV] END ...................C=10, gamma=0.1, random_state=12; total time=   0.0s\n",
      "[CV] END ...................C=10, gamma=0.1, random_state=13; total time=   0.0s\n",
      "[CV] END ...................C=10, gamma=0.1, random_state=13; total time=   0.0s\n",
      "[CV] END ...................C=10, gamma=0.1, random_state=13; total time=   0.0s\n",
      "[CV] END ...................C=10, gamma=0.1, random_state=13; total time=   0.0s\n",
      "[CV] END ...................C=10, gamma=0.1, random_state=13; total time=   0.0s\n",
      "[CV] END ...................C=10, gamma=0.1, random_state=14; total time=   0.0s\n",
      "[CV] END ...................C=10, gamma=0.1, random_state=14; total time=   0.0s\n",
      "[CV] END ...................C=10, gamma=0.1, random_state=14; total time=   0.0s\n",
      "[CV] END ...................C=10, gamma=0.1, random_state=14; total time=   0.0s\n",
      "[CV] END ...................C=10, gamma=0.1, random_state=14; total time=   0.0s\n",
      "[CV] END ...................C=10, gamma=0.1, random_state=15; total time=   0.0s\n",
      "[CV] END ...................C=10, gamma=0.1, random_state=15; total time=   0.0s\n",
      "[CV] END ...................C=10, gamma=0.1, random_state=15; total time=   0.0s\n",
      "[CV] END ...................C=10, gamma=0.1, random_state=15; total time=   0.0s\n",
      "[CV] END ...................C=10, gamma=0.1, random_state=15; total time=   0.0s\n",
      "[CV] END ...................C=10, gamma=0.1, random_state=16; total time=   0.0s\n",
      "[CV] END ...................C=10, gamma=0.1, random_state=16; total time=   0.0s\n",
      "[CV] END ...................C=10, gamma=0.1, random_state=16; total time=   0.0s\n",
      "[CV] END ...................C=10, gamma=0.1, random_state=16; total time=   0.0s\n",
      "[CV] END ...................C=10, gamma=0.1, random_state=16; total time=   0.0s\n",
      "[CV] END ...................C=10, gamma=0.1, random_state=17; total time=   0.0s\n",
      "[CV] END ...................C=10, gamma=0.1, random_state=17; total time=   0.0s\n",
      "[CV] END ...................C=10, gamma=0.1, random_state=17; total time=   0.0s\n",
      "[CV] END ...................C=10, gamma=0.1, random_state=17; total time=   0.0s\n",
      "[CV] END ...................C=10, gamma=0.1, random_state=17; total time=   0.0s\n",
      "[CV] END ...................C=10, gamma=0.1, random_state=18; total time=   0.0s\n",
      "[CV] END ...................C=10, gamma=0.1, random_state=18; total time=   0.0s\n",
      "[CV] END ...................C=10, gamma=0.1, random_state=18; total time=   0.0s\n",
      "[CV] END ...................C=10, gamma=0.1, random_state=18; total time=   0.0s\n",
      "[CV] END ...................C=10, gamma=0.1, random_state=18; total time=   0.0s\n",
      "[CV] END ...................C=10, gamma=0.1, random_state=19; total time=   0.0s\n",
      "[CV] END ...................C=10, gamma=0.1, random_state=19; total time=   0.0s\n",
      "[CV] END ...................C=10, gamma=0.1, random_state=19; total time=   0.0s\n",
      "[CV] END ...................C=10, gamma=0.1, random_state=19; total time=   0.0s\n",
      "[CV] END ...................C=10, gamma=0.1, random_state=19; total time=   0.0s\n",
      "[CV] END ...................C=10, gamma=0.01, random_state=1; total time=   0.0s\n",
      "[CV] END ...................C=10, gamma=0.01, random_state=1; total time=   0.0s\n",
      "[CV] END ...................C=10, gamma=0.01, random_state=1; total time=   0.0s\n",
      "[CV] END ...................C=10, gamma=0.01, random_state=1; total time=   0.0s\n"
     ]
    },
    {
     "name": "stdout",
     "output_type": "stream",
     "text": [
      "[CV] END ...................C=10, gamma=0.01, random_state=1; total time=   0.0s\n",
      "[CV] END ...................C=10, gamma=0.01, random_state=2; total time=   0.0s\n",
      "[CV] END ...................C=10, gamma=0.01, random_state=2; total time=   0.0s\n",
      "[CV] END ...................C=10, gamma=0.01, random_state=2; total time=   0.0s\n",
      "[CV] END ...................C=10, gamma=0.01, random_state=2; total time=   0.0s\n",
      "[CV] END ...................C=10, gamma=0.01, random_state=2; total time=   0.0s\n",
      "[CV] END ...................C=10, gamma=0.01, random_state=3; total time=   0.0s\n",
      "[CV] END ...................C=10, gamma=0.01, random_state=3; total time=   0.0s\n",
      "[CV] END ...................C=10, gamma=0.01, random_state=3; total time=   0.0s\n",
      "[CV] END ...................C=10, gamma=0.01, random_state=3; total time=   0.0s\n",
      "[CV] END ...................C=10, gamma=0.01, random_state=3; total time=   0.0s\n",
      "[CV] END ...................C=10, gamma=0.01, random_state=4; total time=   0.0s\n",
      "[CV] END ...................C=10, gamma=0.01, random_state=4; total time=   0.0s\n",
      "[CV] END ...................C=10, gamma=0.01, random_state=4; total time=   0.0s\n",
      "[CV] END ...................C=10, gamma=0.01, random_state=4; total time=   0.0s\n",
      "[CV] END ...................C=10, gamma=0.01, random_state=4; total time=   0.0s\n",
      "[CV] END ...................C=10, gamma=0.01, random_state=5; total time=   0.0s\n",
      "[CV] END ...................C=10, gamma=0.01, random_state=5; total time=   0.1s\n",
      "[CV] END ...................C=10, gamma=0.01, random_state=5; total time=   0.0s\n",
      "[CV] END ...................C=10, gamma=0.01, random_state=5; total time=   0.0s\n",
      "[CV] END ...................C=10, gamma=0.01, random_state=5; total time=   0.0s\n",
      "[CV] END ...................C=10, gamma=0.01, random_state=6; total time=   0.0s\n",
      "[CV] END ...................C=10, gamma=0.01, random_state=6; total time=   0.0s\n",
      "[CV] END ...................C=10, gamma=0.01, random_state=6; total time=   0.0s\n",
      "[CV] END ...................C=10, gamma=0.01, random_state=6; total time=   0.1s\n",
      "[CV] END ...................C=10, gamma=0.01, random_state=6; total time=   0.0s\n",
      "[CV] END ...................C=10, gamma=0.01, random_state=7; total time=   0.0s\n",
      "[CV] END ...................C=10, gamma=0.01, random_state=7; total time=   0.0s\n",
      "[CV] END ...................C=10, gamma=0.01, random_state=7; total time=   0.0s\n",
      "[CV] END ...................C=10, gamma=0.01, random_state=7; total time=   0.0s\n",
      "[CV] END ...................C=10, gamma=0.01, random_state=7; total time=   0.0s\n",
      "[CV] END ...................C=10, gamma=0.01, random_state=8; total time=   0.0s\n",
      "[CV] END ...................C=10, gamma=0.01, random_state=8; total time=   0.0s\n",
      "[CV] END ...................C=10, gamma=0.01, random_state=8; total time=   0.0s\n",
      "[CV] END ...................C=10, gamma=0.01, random_state=8; total time=   0.0s\n",
      "[CV] END ...................C=10, gamma=0.01, random_state=8; total time=   0.0s\n",
      "[CV] END ...................C=10, gamma=0.01, random_state=9; total time=   0.0s\n",
      "[CV] END ...................C=10, gamma=0.01, random_state=9; total time=   0.0s\n",
      "[CV] END ...................C=10, gamma=0.01, random_state=9; total time=   0.0s\n",
      "[CV] END ...................C=10, gamma=0.01, random_state=9; total time=   0.0s\n",
      "[CV] END ...................C=10, gamma=0.01, random_state=9; total time=   0.0s\n",
      "[CV] END ..................C=10, gamma=0.01, random_state=10; total time=   0.0s\n",
      "[CV] END ..................C=10, gamma=0.01, random_state=10; total time=   0.0s\n",
      "[CV] END ..................C=10, gamma=0.01, random_state=10; total time=   0.0s\n",
      "[CV] END ..................C=10, gamma=0.01, random_state=10; total time=   0.0s\n",
      "[CV] END ..................C=10, gamma=0.01, random_state=10; total time=   0.0s\n",
      "[CV] END ..................C=10, gamma=0.01, random_state=11; total time=   0.0s\n",
      "[CV] END ..................C=10, gamma=0.01, random_state=11; total time=   0.0s\n",
      "[CV] END ..................C=10, gamma=0.01, random_state=11; total time=   0.0s\n",
      "[CV] END ..................C=10, gamma=0.01, random_state=11; total time=   0.0s\n",
      "[CV] END ..................C=10, gamma=0.01, random_state=11; total time=   0.0s\n",
      "[CV] END ..................C=10, gamma=0.01, random_state=12; total time=   0.0s\n",
      "[CV] END ..................C=10, gamma=0.01, random_state=12; total time=   0.0s\n",
      "[CV] END ..................C=10, gamma=0.01, random_state=12; total time=   0.0s\n",
      "[CV] END ..................C=10, gamma=0.01, random_state=12; total time=   0.0s\n",
      "[CV] END ..................C=10, gamma=0.01, random_state=12; total time=   0.0s\n",
      "[CV] END ..................C=10, gamma=0.01, random_state=13; total time=   0.0s\n",
      "[CV] END ..................C=10, gamma=0.01, random_state=13; total time=   0.0s\n",
      "[CV] END ..................C=10, gamma=0.01, random_state=13; total time=   0.0s\n",
      "[CV] END ..................C=10, gamma=0.01, random_state=13; total time=   0.0s\n",
      "[CV] END ..................C=10, gamma=0.01, random_state=13; total time=   0.0s\n",
      "[CV] END ..................C=10, gamma=0.01, random_state=14; total time=   0.0s\n",
      "[CV] END ..................C=10, gamma=0.01, random_state=14; total time=   0.0s\n",
      "[CV] END ..................C=10, gamma=0.01, random_state=14; total time=   0.0s\n",
      "[CV] END ..................C=10, gamma=0.01, random_state=14; total time=   0.0s\n",
      "[CV] END ..................C=10, gamma=0.01, random_state=14; total time=   0.0s\n",
      "[CV] END ..................C=10, gamma=0.01, random_state=15; total time=   0.0s\n",
      "[CV] END ..................C=10, gamma=0.01, random_state=15; total time=   0.0s\n",
      "[CV] END ..................C=10, gamma=0.01, random_state=15; total time=   0.0s\n",
      "[CV] END ..................C=10, gamma=0.01, random_state=15; total time=   0.0s\n",
      "[CV] END ..................C=10, gamma=0.01, random_state=15; total time=   0.0s\n",
      "[CV] END ..................C=10, gamma=0.01, random_state=16; total time=   0.0s\n",
      "[CV] END ..................C=10, gamma=0.01, random_state=16; total time=   0.0s\n",
      "[CV] END ..................C=10, gamma=0.01, random_state=16; total time=   0.0s\n",
      "[CV] END ..................C=10, gamma=0.01, random_state=16; total time=   0.0s\n",
      "[CV] END ..................C=10, gamma=0.01, random_state=16; total time=   0.0s\n",
      "[CV] END ..................C=10, gamma=0.01, random_state=17; total time=   0.0s\n",
      "[CV] END ..................C=10, gamma=0.01, random_state=17; total time=   0.0s\n",
      "[CV] END ..................C=10, gamma=0.01, random_state=17; total time=   0.0s\n",
      "[CV] END ..................C=10, gamma=0.01, random_state=17; total time=   0.0s\n",
      "[CV] END ..................C=10, gamma=0.01, random_state=17; total time=   0.0s\n",
      "[CV] END ..................C=10, gamma=0.01, random_state=18; total time=   0.0s\n",
      "[CV] END ..................C=10, gamma=0.01, random_state=18; total time=   0.0s\n",
      "[CV] END ..................C=10, gamma=0.01, random_state=18; total time=   0.0s\n",
      "[CV] END ..................C=10, gamma=0.01, random_state=18; total time=   0.0s\n",
      "[CV] END ..................C=10, gamma=0.01, random_state=18; total time=   0.0s\n",
      "[CV] END ..................C=10, gamma=0.01, random_state=19; total time=   0.0s\n",
      "[CV] END ..................C=10, gamma=0.01, random_state=19; total time=   0.0s\n",
      "[CV] END ..................C=10, gamma=0.01, random_state=19; total time=   0.0s\n",
      "[CV] END ..................C=10, gamma=0.01, random_state=19; total time=   0.0s\n",
      "[CV] END ..................C=10, gamma=0.01, random_state=19; total time=   0.0s\n",
      "[CV] END ..................C=10, gamma=0.001, random_state=1; total time=   0.0s\n",
      "[CV] END ..................C=10, gamma=0.001, random_state=1; total time=   0.0s\n",
      "[CV] END ..................C=10, gamma=0.001, random_state=1; total time=   0.0s\n",
      "[CV] END ..................C=10, gamma=0.001, random_state=1; total time=   0.0s\n",
      "[CV] END ..................C=10, gamma=0.001, random_state=1; total time=   0.0s\n",
      "[CV] END ..................C=10, gamma=0.001, random_state=2; total time=   0.0s\n",
      "[CV] END ..................C=10, gamma=0.001, random_state=2; total time=   0.0s\n",
      "[CV] END ..................C=10, gamma=0.001, random_state=2; total time=   0.0s\n",
      "[CV] END ..................C=10, gamma=0.001, random_state=2; total time=   0.0s\n",
      "[CV] END ..................C=10, gamma=0.001, random_state=2; total time=   0.0s\n",
      "[CV] END ..................C=10, gamma=0.001, random_state=3; total time=   0.0s\n"
     ]
    },
    {
     "name": "stdout",
     "output_type": "stream",
     "text": [
      "[CV] END ..................C=10, gamma=0.001, random_state=3; total time=   0.0s\n",
      "[CV] END ..................C=10, gamma=0.001, random_state=3; total time=   0.0s\n",
      "[CV] END ..................C=10, gamma=0.001, random_state=3; total time=   0.0s\n",
      "[CV] END ..................C=10, gamma=0.001, random_state=3; total time=   0.0s\n",
      "[CV] END ..................C=10, gamma=0.001, random_state=4; total time=   0.0s\n",
      "[CV] END ..................C=10, gamma=0.001, random_state=4; total time=   0.0s\n",
      "[CV] END ..................C=10, gamma=0.001, random_state=4; total time=   0.0s\n",
      "[CV] END ..................C=10, gamma=0.001, random_state=4; total time=   0.0s\n",
      "[CV] END ..................C=10, gamma=0.001, random_state=4; total time=   0.0s\n",
      "[CV] END ..................C=10, gamma=0.001, random_state=5; total time=   0.0s\n",
      "[CV] END ..................C=10, gamma=0.001, random_state=5; total time=   0.0s\n",
      "[CV] END ..................C=10, gamma=0.001, random_state=5; total time=   0.0s\n",
      "[CV] END ..................C=10, gamma=0.001, random_state=5; total time=   0.0s\n",
      "[CV] END ..................C=10, gamma=0.001, random_state=5; total time=   0.0s\n",
      "[CV] END ..................C=10, gamma=0.001, random_state=6; total time=   0.0s\n",
      "[CV] END ..................C=10, gamma=0.001, random_state=6; total time=   0.0s\n",
      "[CV] END ..................C=10, gamma=0.001, random_state=6; total time=   0.0s\n",
      "[CV] END ..................C=10, gamma=0.001, random_state=6; total time=   0.0s\n",
      "[CV] END ..................C=10, gamma=0.001, random_state=6; total time=   0.0s\n",
      "[CV] END ..................C=10, gamma=0.001, random_state=7; total time=   0.0s\n",
      "[CV] END ..................C=10, gamma=0.001, random_state=7; total time=   0.0s\n",
      "[CV] END ..................C=10, gamma=0.001, random_state=7; total time=   0.0s\n",
      "[CV] END ..................C=10, gamma=0.001, random_state=7; total time=   0.0s\n",
      "[CV] END ..................C=10, gamma=0.001, random_state=7; total time=   0.0s\n",
      "[CV] END ..................C=10, gamma=0.001, random_state=8; total time=   0.0s\n",
      "[CV] END ..................C=10, gamma=0.001, random_state=8; total time=   0.0s\n",
      "[CV] END ..................C=10, gamma=0.001, random_state=8; total time=   0.0s\n",
      "[CV] END ..................C=10, gamma=0.001, random_state=8; total time=   0.0s\n",
      "[CV] END ..................C=10, gamma=0.001, random_state=8; total time=   0.0s\n",
      "[CV] END ..................C=10, gamma=0.001, random_state=9; total time=   0.0s\n",
      "[CV] END ..................C=10, gamma=0.001, random_state=9; total time=   0.0s\n",
      "[CV] END ..................C=10, gamma=0.001, random_state=9; total time=   0.0s\n",
      "[CV] END ..................C=10, gamma=0.001, random_state=9; total time=   0.0s\n",
      "[CV] END ..................C=10, gamma=0.001, random_state=9; total time=   0.0s\n",
      "[CV] END .................C=10, gamma=0.001, random_state=10; total time=   0.0s\n",
      "[CV] END .................C=10, gamma=0.001, random_state=10; total time=   0.0s\n",
      "[CV] END .................C=10, gamma=0.001, random_state=10; total time=   0.0s\n",
      "[CV] END .................C=10, gamma=0.001, random_state=10; total time=   0.0s\n",
      "[CV] END .................C=10, gamma=0.001, random_state=10; total time=   0.0s\n",
      "[CV] END .................C=10, gamma=0.001, random_state=11; total time=   0.0s\n",
      "[CV] END .................C=10, gamma=0.001, random_state=11; total time=   0.0s\n",
      "[CV] END .................C=10, gamma=0.001, random_state=11; total time=   0.0s\n",
      "[CV] END .................C=10, gamma=0.001, random_state=11; total time=   0.0s\n",
      "[CV] END .................C=10, gamma=0.001, random_state=11; total time=   0.0s\n",
      "[CV] END .................C=10, gamma=0.001, random_state=12; total time=   0.0s\n",
      "[CV] END .................C=10, gamma=0.001, random_state=12; total time=   0.0s\n",
      "[CV] END .................C=10, gamma=0.001, random_state=12; total time=   0.0s\n",
      "[CV] END .................C=10, gamma=0.001, random_state=12; total time=   0.0s\n",
      "[CV] END .................C=10, gamma=0.001, random_state=12; total time=   0.0s\n",
      "[CV] END .................C=10, gamma=0.001, random_state=13; total time=   0.0s\n",
      "[CV] END .................C=10, gamma=0.001, random_state=13; total time=   0.0s\n",
      "[CV] END .................C=10, gamma=0.001, random_state=13; total time=   0.0s\n",
      "[CV] END .................C=10, gamma=0.001, random_state=13; total time=   0.0s\n",
      "[CV] END .................C=10, gamma=0.001, random_state=13; total time=   0.0s\n",
      "[CV] END .................C=10, gamma=0.001, random_state=14; total time=   0.0s\n",
      "[CV] END .................C=10, gamma=0.001, random_state=14; total time=   0.0s\n",
      "[CV] END .................C=10, gamma=0.001, random_state=14; total time=   0.0s\n",
      "[CV] END .................C=10, gamma=0.001, random_state=14; total time=   0.0s\n",
      "[CV] END .................C=10, gamma=0.001, random_state=14; total time=   0.0s\n",
      "[CV] END .................C=10, gamma=0.001, random_state=15; total time=   0.0s\n",
      "[CV] END .................C=10, gamma=0.001, random_state=15; total time=   0.0s\n",
      "[CV] END .................C=10, gamma=0.001, random_state=15; total time=   0.0s\n",
      "[CV] END .................C=10, gamma=0.001, random_state=15; total time=   0.0s\n",
      "[CV] END .................C=10, gamma=0.001, random_state=15; total time=   0.0s\n",
      "[CV] END .................C=10, gamma=0.001, random_state=16; total time=   0.0s\n",
      "[CV] END .................C=10, gamma=0.001, random_state=16; total time=   0.0s\n",
      "[CV] END .................C=10, gamma=0.001, random_state=16; total time=   0.0s\n",
      "[CV] END .................C=10, gamma=0.001, random_state=16; total time=   0.0s\n",
      "[CV] END .................C=10, gamma=0.001, random_state=16; total time=   0.0s\n",
      "[CV] END .................C=10, gamma=0.001, random_state=17; total time=   0.0s\n",
      "[CV] END .................C=10, gamma=0.001, random_state=17; total time=   0.0s\n",
      "[CV] END .................C=10, gamma=0.001, random_state=17; total time=   0.0s\n",
      "[CV] END .................C=10, gamma=0.001, random_state=17; total time=   0.0s\n",
      "[CV] END .................C=10, gamma=0.001, random_state=17; total time=   0.0s\n",
      "[CV] END .................C=10, gamma=0.001, random_state=18; total time=   0.0s\n",
      "[CV] END .................C=10, gamma=0.001, random_state=18; total time=   0.0s\n",
      "[CV] END .................C=10, gamma=0.001, random_state=18; total time=   0.0s\n",
      "[CV] END .................C=10, gamma=0.001, random_state=18; total time=   0.0s\n",
      "[CV] END .................C=10, gamma=0.001, random_state=18; total time=   0.0s\n",
      "[CV] END .................C=10, gamma=0.001, random_state=19; total time=   0.0s\n",
      "[CV] END .................C=10, gamma=0.001, random_state=19; total time=   0.0s\n",
      "[CV] END .................C=10, gamma=0.001, random_state=19; total time=   0.0s\n",
      "[CV] END .................C=10, gamma=0.001, random_state=19; total time=   0.0s\n",
      "[CV] END .................C=10, gamma=0.001, random_state=19; total time=   0.0s\n",
      "[CV] END .................C=10, gamma=0.0001, random_state=1; total time=   0.0s\n",
      "[CV] END .................C=10, gamma=0.0001, random_state=1; total time=   0.0s\n",
      "[CV] END .................C=10, gamma=0.0001, random_state=1; total time=   0.0s\n",
      "[CV] END .................C=10, gamma=0.0001, random_state=1; total time=   0.0s\n",
      "[CV] END .................C=10, gamma=0.0001, random_state=1; total time=   0.0s\n",
      "[CV] END .................C=10, gamma=0.0001, random_state=2; total time=   0.0s\n",
      "[CV] END .................C=10, gamma=0.0001, random_state=2; total time=   0.0s\n",
      "[CV] END .................C=10, gamma=0.0001, random_state=2; total time=   0.0s\n",
      "[CV] END .................C=10, gamma=0.0001, random_state=2; total time=   0.0s\n",
      "[CV] END .................C=10, gamma=0.0001, random_state=2; total time=   0.0s\n",
      "[CV] END .................C=10, gamma=0.0001, random_state=3; total time=   0.0s\n",
      "[CV] END .................C=10, gamma=0.0001, random_state=3; total time=   0.0s\n",
      "[CV] END .................C=10, gamma=0.0001, random_state=3; total time=   0.0s\n",
      "[CV] END .................C=10, gamma=0.0001, random_state=3; total time=   0.0s\n",
      "[CV] END .................C=10, gamma=0.0001, random_state=3; total time=   0.0s\n",
      "[CV] END .................C=10, gamma=0.0001, random_state=4; total time=   0.0s\n",
      "[CV] END .................C=10, gamma=0.0001, random_state=4; total time=   0.0s\n",
      "[CV] END .................C=10, gamma=0.0001, random_state=4; total time=   0.0s\n",
      "[CV] END .................C=10, gamma=0.0001, random_state=4; total time=   0.0s\n",
      "[CV] END .................C=10, gamma=0.0001, random_state=4; total time=   0.0s\n",
      "[CV] END .................C=10, gamma=0.0001, random_state=5; total time=   0.0s\n",
      "[CV] END .................C=10, gamma=0.0001, random_state=5; total time=   0.0s\n",
      "[CV] END .................C=10, gamma=0.0001, random_state=5; total time=   0.0s\n"
     ]
    },
    {
     "name": "stdout",
     "output_type": "stream",
     "text": [
      "[CV] END .................C=10, gamma=0.0001, random_state=5; total time=   0.0s\n",
      "[CV] END .................C=10, gamma=0.0001, random_state=5; total time=   0.0s\n",
      "[CV] END .................C=10, gamma=0.0001, random_state=6; total time=   0.0s\n",
      "[CV] END .................C=10, gamma=0.0001, random_state=6; total time=   0.0s\n",
      "[CV] END .................C=10, gamma=0.0001, random_state=6; total time=   0.0s\n",
      "[CV] END .................C=10, gamma=0.0001, random_state=6; total time=   0.0s\n",
      "[CV] END .................C=10, gamma=0.0001, random_state=6; total time=   0.0s\n",
      "[CV] END .................C=10, gamma=0.0001, random_state=7; total time=   0.0s\n",
      "[CV] END .................C=10, gamma=0.0001, random_state=7; total time=   0.0s\n",
      "[CV] END .................C=10, gamma=0.0001, random_state=7; total time=   0.0s\n",
      "[CV] END .................C=10, gamma=0.0001, random_state=7; total time=   0.0s\n",
      "[CV] END .................C=10, gamma=0.0001, random_state=7; total time=   0.0s\n",
      "[CV] END .................C=10, gamma=0.0001, random_state=8; total time=   0.0s\n",
      "[CV] END .................C=10, gamma=0.0001, random_state=8; total time=   0.0s\n",
      "[CV] END .................C=10, gamma=0.0001, random_state=8; total time=   0.0s\n",
      "[CV] END .................C=10, gamma=0.0001, random_state=8; total time=   0.0s\n",
      "[CV] END .................C=10, gamma=0.0001, random_state=8; total time=   0.0s\n",
      "[CV] END .................C=10, gamma=0.0001, random_state=9; total time=   0.0s\n",
      "[CV] END .................C=10, gamma=0.0001, random_state=9; total time=   0.0s\n",
      "[CV] END .................C=10, gamma=0.0001, random_state=9; total time=   0.0s\n",
      "[CV] END .................C=10, gamma=0.0001, random_state=9; total time=   0.0s\n",
      "[CV] END .................C=10, gamma=0.0001, random_state=9; total time=   0.0s\n",
      "[CV] END ................C=10, gamma=0.0001, random_state=10; total time=   0.0s\n",
      "[CV] END ................C=10, gamma=0.0001, random_state=10; total time=   0.0s\n",
      "[CV] END ................C=10, gamma=0.0001, random_state=10; total time=   0.0s\n",
      "[CV] END ................C=10, gamma=0.0001, random_state=10; total time=   0.0s\n",
      "[CV] END ................C=10, gamma=0.0001, random_state=10; total time=   0.0s\n",
      "[CV] END ................C=10, gamma=0.0001, random_state=11; total time=   0.0s\n",
      "[CV] END ................C=10, gamma=0.0001, random_state=11; total time=   0.0s\n",
      "[CV] END ................C=10, gamma=0.0001, random_state=11; total time=   0.0s\n",
      "[CV] END ................C=10, gamma=0.0001, random_state=11; total time=   0.0s\n",
      "[CV] END ................C=10, gamma=0.0001, random_state=11; total time=   0.0s\n",
      "[CV] END ................C=10, gamma=0.0001, random_state=12; total time=   0.0s\n",
      "[CV] END ................C=10, gamma=0.0001, random_state=12; total time=   0.0s\n",
      "[CV] END ................C=10, gamma=0.0001, random_state=12; total time=   0.0s\n",
      "[CV] END ................C=10, gamma=0.0001, random_state=12; total time=   0.0s\n",
      "[CV] END ................C=10, gamma=0.0001, random_state=12; total time=   0.0s\n",
      "[CV] END ................C=10, gamma=0.0001, random_state=13; total time=   0.0s\n",
      "[CV] END ................C=10, gamma=0.0001, random_state=13; total time=   0.0s\n",
      "[CV] END ................C=10, gamma=0.0001, random_state=13; total time=   0.0s\n",
      "[CV] END ................C=10, gamma=0.0001, random_state=13; total time=   0.0s\n",
      "[CV] END ................C=10, gamma=0.0001, random_state=13; total time=   0.0s\n",
      "[CV] END ................C=10, gamma=0.0001, random_state=14; total time=   0.0s\n",
      "[CV] END ................C=10, gamma=0.0001, random_state=14; total time=   0.0s\n",
      "[CV] END ................C=10, gamma=0.0001, random_state=14; total time=   0.0s\n",
      "[CV] END ................C=10, gamma=0.0001, random_state=14; total time=   0.0s\n",
      "[CV] END ................C=10, gamma=0.0001, random_state=14; total time=   0.0s\n",
      "[CV] END ................C=10, gamma=0.0001, random_state=15; total time=   0.0s\n",
      "[CV] END ................C=10, gamma=0.0001, random_state=15; total time=   0.0s\n",
      "[CV] END ................C=10, gamma=0.0001, random_state=15; total time=   0.0s\n",
      "[CV] END ................C=10, gamma=0.0001, random_state=15; total time=   0.0s\n",
      "[CV] END ................C=10, gamma=0.0001, random_state=15; total time=   0.0s\n",
      "[CV] END ................C=10, gamma=0.0001, random_state=16; total time=   0.0s\n",
      "[CV] END ................C=10, gamma=0.0001, random_state=16; total time=   0.0s\n",
      "[CV] END ................C=10, gamma=0.0001, random_state=16; total time=   0.0s\n",
      "[CV] END ................C=10, gamma=0.0001, random_state=16; total time=   0.0s\n",
      "[CV] END ................C=10, gamma=0.0001, random_state=16; total time=   0.0s\n",
      "[CV] END ................C=10, gamma=0.0001, random_state=17; total time=   0.0s\n",
      "[CV] END ................C=10, gamma=0.0001, random_state=17; total time=   0.0s\n",
      "[CV] END ................C=10, gamma=0.0001, random_state=17; total time=   0.0s\n",
      "[CV] END ................C=10, gamma=0.0001, random_state=17; total time=   0.0s\n",
      "[CV] END ................C=10, gamma=0.0001, random_state=17; total time=   0.0s\n",
      "[CV] END ................C=10, gamma=0.0001, random_state=18; total time=   0.0s\n",
      "[CV] END ................C=10, gamma=0.0001, random_state=18; total time=   0.0s\n",
      "[CV] END ................C=10, gamma=0.0001, random_state=18; total time=   0.0s\n",
      "[CV] END ................C=10, gamma=0.0001, random_state=18; total time=   0.0s\n",
      "[CV] END ................C=10, gamma=0.0001, random_state=18; total time=   0.0s\n",
      "[CV] END ................C=10, gamma=0.0001, random_state=19; total time=   0.0s\n",
      "[CV] END ................C=10, gamma=0.0001, random_state=19; total time=   0.0s\n",
      "[CV] END ................C=10, gamma=0.0001, random_state=19; total time=   0.0s\n",
      "[CV] END ................C=10, gamma=0.0001, random_state=19; total time=   0.0s\n",
      "[CV] END ................C=10, gamma=0.0001, random_state=19; total time=   0.0s\n",
      "[CV] END ......................C=50, gamma=1, random_state=1; total time=   0.0s\n",
      "[CV] END ......................C=50, gamma=1, random_state=1; total time=   0.0s\n",
      "[CV] END ......................C=50, gamma=1, random_state=1; total time=   0.0s\n",
      "[CV] END ......................C=50, gamma=1, random_state=1; total time=   0.0s\n",
      "[CV] END ......................C=50, gamma=1, random_state=1; total time=   0.0s\n",
      "[CV] END ......................C=50, gamma=1, random_state=2; total time=   0.0s\n",
      "[CV] END ......................C=50, gamma=1, random_state=2; total time=   0.0s\n",
      "[CV] END ......................C=50, gamma=1, random_state=2; total time=   0.0s\n",
      "[CV] END ......................C=50, gamma=1, random_state=2; total time=   0.0s\n",
      "[CV] END ......................C=50, gamma=1, random_state=2; total time=   0.0s\n",
      "[CV] END ......................C=50, gamma=1, random_state=3; total time=   0.0s\n",
      "[CV] END ......................C=50, gamma=1, random_state=3; total time=   0.0s\n",
      "[CV] END ......................C=50, gamma=1, random_state=3; total time=   0.0s\n",
      "[CV] END ......................C=50, gamma=1, random_state=3; total time=   0.0s\n",
      "[CV] END ......................C=50, gamma=1, random_state=3; total time=   0.0s\n",
      "[CV] END ......................C=50, gamma=1, random_state=4; total time=   0.0s\n",
      "[CV] END ......................C=50, gamma=1, random_state=4; total time=   0.0s\n",
      "[CV] END ......................C=50, gamma=1, random_state=4; total time=   0.0s\n",
      "[CV] END ......................C=50, gamma=1, random_state=4; total time=   0.0s\n",
      "[CV] END ......................C=50, gamma=1, random_state=4; total time=   0.0s\n",
      "[CV] END ......................C=50, gamma=1, random_state=5; total time=   0.0s\n",
      "[CV] END ......................C=50, gamma=1, random_state=5; total time=   0.0s\n",
      "[CV] END ......................C=50, gamma=1, random_state=5; total time=   0.0s\n",
      "[CV] END ......................C=50, gamma=1, random_state=5; total time=   0.0s\n",
      "[CV] END ......................C=50, gamma=1, random_state=5; total time=   0.0s\n",
      "[CV] END ......................C=50, gamma=1, random_state=6; total time=   0.0s\n",
      "[CV] END ......................C=50, gamma=1, random_state=6; total time=   0.0s\n",
      "[CV] END ......................C=50, gamma=1, random_state=6; total time=   0.0s\n",
      "[CV] END ......................C=50, gamma=1, random_state=6; total time=   0.0s\n",
      "[CV] END ......................C=50, gamma=1, random_state=6; total time=   0.0s\n",
      "[CV] END ......................C=50, gamma=1, random_state=7; total time=   0.0s\n",
      "[CV] END ......................C=50, gamma=1, random_state=7; total time=   0.0s\n",
      "[CV] END ......................C=50, gamma=1, random_state=7; total time=   0.0s\n"
     ]
    },
    {
     "name": "stdout",
     "output_type": "stream",
     "text": [
      "[CV] END ......................C=50, gamma=1, random_state=7; total time=   0.0s\n",
      "[CV] END ......................C=50, gamma=1, random_state=7; total time=   0.0s\n",
      "[CV] END ......................C=50, gamma=1, random_state=8; total time=   0.0s\n",
      "[CV] END ......................C=50, gamma=1, random_state=8; total time=   0.0s\n",
      "[CV] END ......................C=50, gamma=1, random_state=8; total time=   0.0s\n",
      "[CV] END ......................C=50, gamma=1, random_state=8; total time=   0.0s\n",
      "[CV] END ......................C=50, gamma=1, random_state=8; total time=   0.0s\n",
      "[CV] END ......................C=50, gamma=1, random_state=9; total time=   0.0s\n",
      "[CV] END ......................C=50, gamma=1, random_state=9; total time=   0.0s\n",
      "[CV] END ......................C=50, gamma=1, random_state=9; total time=   0.0s\n",
      "[CV] END ......................C=50, gamma=1, random_state=9; total time=   0.0s\n",
      "[CV] END ......................C=50, gamma=1, random_state=9; total time=   0.0s\n",
      "[CV] END .....................C=50, gamma=1, random_state=10; total time=   0.0s\n",
      "[CV] END .....................C=50, gamma=1, random_state=10; total time=   0.0s\n",
      "[CV] END .....................C=50, gamma=1, random_state=10; total time=   0.0s\n",
      "[CV] END .....................C=50, gamma=1, random_state=10; total time=   0.0s\n",
      "[CV] END .....................C=50, gamma=1, random_state=10; total time=   0.0s\n",
      "[CV] END .....................C=50, gamma=1, random_state=11; total time=   0.0s\n",
      "[CV] END .....................C=50, gamma=1, random_state=11; total time=   0.0s\n",
      "[CV] END .....................C=50, gamma=1, random_state=11; total time=   0.0s\n",
      "[CV] END .....................C=50, gamma=1, random_state=11; total time=   0.0s\n",
      "[CV] END .....................C=50, gamma=1, random_state=11; total time=   0.0s\n",
      "[CV] END .....................C=50, gamma=1, random_state=12; total time=   0.0s\n",
      "[CV] END .....................C=50, gamma=1, random_state=12; total time=   0.0s\n",
      "[CV] END .....................C=50, gamma=1, random_state=12; total time=   0.0s\n",
      "[CV] END .....................C=50, gamma=1, random_state=12; total time=   0.0s\n",
      "[CV] END .....................C=50, gamma=1, random_state=12; total time=   0.0s\n",
      "[CV] END .....................C=50, gamma=1, random_state=13; total time=   0.0s\n",
      "[CV] END .....................C=50, gamma=1, random_state=13; total time=   0.0s\n",
      "[CV] END .....................C=50, gamma=1, random_state=13; total time=   0.0s\n",
      "[CV] END .....................C=50, gamma=1, random_state=13; total time=   0.0s\n",
      "[CV] END .....................C=50, gamma=1, random_state=13; total time=   0.0s\n",
      "[CV] END .....................C=50, gamma=1, random_state=14; total time=   0.0s\n",
      "[CV] END .....................C=50, gamma=1, random_state=14; total time=   0.0s\n",
      "[CV] END .....................C=50, gamma=1, random_state=14; total time=   0.0s\n",
      "[CV] END .....................C=50, gamma=1, random_state=14; total time=   0.0s\n",
      "[CV] END .....................C=50, gamma=1, random_state=14; total time=   0.0s\n",
      "[CV] END .....................C=50, gamma=1, random_state=15; total time=   0.0s\n",
      "[CV] END .....................C=50, gamma=1, random_state=15; total time=   0.0s\n",
      "[CV] END .....................C=50, gamma=1, random_state=15; total time=   0.0s\n",
      "[CV] END .....................C=50, gamma=1, random_state=15; total time=   0.0s\n",
      "[CV] END .....................C=50, gamma=1, random_state=15; total time=   0.0s\n",
      "[CV] END .....................C=50, gamma=1, random_state=16; total time=   0.0s\n",
      "[CV] END .....................C=50, gamma=1, random_state=16; total time=   0.0s\n",
      "[CV] END .....................C=50, gamma=1, random_state=16; total time=   0.0s\n",
      "[CV] END .....................C=50, gamma=1, random_state=16; total time=   0.0s\n",
      "[CV] END .....................C=50, gamma=1, random_state=16; total time=   0.0s\n",
      "[CV] END .....................C=50, gamma=1, random_state=17; total time=   0.0s\n",
      "[CV] END .....................C=50, gamma=1, random_state=17; total time=   0.0s\n",
      "[CV] END .....................C=50, gamma=1, random_state=17; total time=   0.0s\n",
      "[CV] END .....................C=50, gamma=1, random_state=17; total time=   0.0s\n",
      "[CV] END .....................C=50, gamma=1, random_state=17; total time=   0.0s\n",
      "[CV] END .....................C=50, gamma=1, random_state=18; total time=   0.0s\n",
      "[CV] END .....................C=50, gamma=1, random_state=18; total time=   0.0s\n",
      "[CV] END .....................C=50, gamma=1, random_state=18; total time=   0.0s\n",
      "[CV] END .....................C=50, gamma=1, random_state=18; total time=   0.0s\n",
      "[CV] END .....................C=50, gamma=1, random_state=18; total time=   0.0s\n",
      "[CV] END .....................C=50, gamma=1, random_state=19; total time=   0.0s\n",
      "[CV] END .....................C=50, gamma=1, random_state=19; total time=   0.0s\n",
      "[CV] END .....................C=50, gamma=1, random_state=19; total time=   0.0s\n",
      "[CV] END .....................C=50, gamma=1, random_state=19; total time=   0.0s\n",
      "[CV] END .....................C=50, gamma=1, random_state=19; total time=   0.0s\n",
      "[CV] END ....................C=50, gamma=0.1, random_state=1; total time=   0.0s\n",
      "[CV] END ....................C=50, gamma=0.1, random_state=1; total time=   0.0s\n",
      "[CV] END ....................C=50, gamma=0.1, random_state=1; total time=   0.0s\n",
      "[CV] END ....................C=50, gamma=0.1, random_state=1; total time=   0.0s\n",
      "[CV] END ....................C=50, gamma=0.1, random_state=1; total time=   0.0s\n",
      "[CV] END ....................C=50, gamma=0.1, random_state=2; total time=   0.0s\n",
      "[CV] END ....................C=50, gamma=0.1, random_state=2; total time=   0.0s\n",
      "[CV] END ....................C=50, gamma=0.1, random_state=2; total time=   0.0s\n",
      "[CV] END ....................C=50, gamma=0.1, random_state=2; total time=   0.0s\n",
      "[CV] END ....................C=50, gamma=0.1, random_state=2; total time=   0.0s\n",
      "[CV] END ....................C=50, gamma=0.1, random_state=3; total time=   0.0s\n",
      "[CV] END ....................C=50, gamma=0.1, random_state=3; total time=   0.0s\n",
      "[CV] END ....................C=50, gamma=0.1, random_state=3; total time=   0.0s\n",
      "[CV] END ....................C=50, gamma=0.1, random_state=3; total time=   0.0s\n",
      "[CV] END ....................C=50, gamma=0.1, random_state=3; total time=   0.0s\n",
      "[CV] END ....................C=50, gamma=0.1, random_state=4; total time=   0.0s\n",
      "[CV] END ....................C=50, gamma=0.1, random_state=4; total time=   0.0s\n",
      "[CV] END ....................C=50, gamma=0.1, random_state=4; total time=   0.0s\n",
      "[CV] END ....................C=50, gamma=0.1, random_state=4; total time=   0.0s\n",
      "[CV] END ....................C=50, gamma=0.1, random_state=4; total time=   0.0s\n",
      "[CV] END ....................C=50, gamma=0.1, random_state=5; total time=   0.0s\n",
      "[CV] END ....................C=50, gamma=0.1, random_state=5; total time=   0.0s\n",
      "[CV] END ....................C=50, gamma=0.1, random_state=5; total time=   0.0s\n",
      "[CV] END ....................C=50, gamma=0.1, random_state=5; total time=   0.0s\n",
      "[CV] END ....................C=50, gamma=0.1, random_state=5; total time=   0.0s\n",
      "[CV] END ....................C=50, gamma=0.1, random_state=6; total time=   0.0s\n",
      "[CV] END ....................C=50, gamma=0.1, random_state=6; total time=   0.0s\n",
      "[CV] END ....................C=50, gamma=0.1, random_state=6; total time=   0.0s\n",
      "[CV] END ....................C=50, gamma=0.1, random_state=6; total time=   0.0s\n",
      "[CV] END ....................C=50, gamma=0.1, random_state=6; total time=   0.0s\n",
      "[CV] END ....................C=50, gamma=0.1, random_state=7; total time=   0.0s\n",
      "[CV] END ....................C=50, gamma=0.1, random_state=7; total time=   0.0s\n",
      "[CV] END ....................C=50, gamma=0.1, random_state=7; total time=   0.0s\n",
      "[CV] END ....................C=50, gamma=0.1, random_state=7; total time=   0.0s\n",
      "[CV] END ....................C=50, gamma=0.1, random_state=7; total time=   0.0s\n",
      "[CV] END ....................C=50, gamma=0.1, random_state=8; total time=   0.0s\n",
      "[CV] END ....................C=50, gamma=0.1, random_state=8; total time=   0.0s\n",
      "[CV] END ....................C=50, gamma=0.1, random_state=8; total time=   0.0s\n",
      "[CV] END ....................C=50, gamma=0.1, random_state=8; total time=   0.0s\n",
      "[CV] END ....................C=50, gamma=0.1, random_state=8; total time=   0.0s\n",
      "[CV] END ....................C=50, gamma=0.1, random_state=9; total time=   0.0s\n",
      "[CV] END ....................C=50, gamma=0.1, random_state=9; total time=   0.0s\n",
      "[CV] END ....................C=50, gamma=0.1, random_state=9; total time=   0.0s\n"
     ]
    },
    {
     "name": "stdout",
     "output_type": "stream",
     "text": [
      "[CV] END ....................C=50, gamma=0.1, random_state=9; total time=   0.0s\n",
      "[CV] END ....................C=50, gamma=0.1, random_state=9; total time=   0.0s\n",
      "[CV] END ...................C=50, gamma=0.1, random_state=10; total time=   0.0s\n",
      "[CV] END ...................C=50, gamma=0.1, random_state=10; total time=   0.0s\n",
      "[CV] END ...................C=50, gamma=0.1, random_state=10; total time=   0.0s\n",
      "[CV] END ...................C=50, gamma=0.1, random_state=10; total time=   0.0s\n",
      "[CV] END ...................C=50, gamma=0.1, random_state=10; total time=   0.0s\n",
      "[CV] END ...................C=50, gamma=0.1, random_state=11; total time=   0.0s\n",
      "[CV] END ...................C=50, gamma=0.1, random_state=11; total time=   0.0s\n",
      "[CV] END ...................C=50, gamma=0.1, random_state=11; total time=   0.0s\n",
      "[CV] END ...................C=50, gamma=0.1, random_state=11; total time=   0.0s\n",
      "[CV] END ...................C=50, gamma=0.1, random_state=11; total time=   0.0s\n",
      "[CV] END ...................C=50, gamma=0.1, random_state=12; total time=   0.0s\n",
      "[CV] END ...................C=50, gamma=0.1, random_state=12; total time=   0.0s\n",
      "[CV] END ...................C=50, gamma=0.1, random_state=12; total time=   0.0s\n",
      "[CV] END ...................C=50, gamma=0.1, random_state=12; total time=   0.0s\n",
      "[CV] END ...................C=50, gamma=0.1, random_state=12; total time=   0.0s\n",
      "[CV] END ...................C=50, gamma=0.1, random_state=13; total time=   0.0s\n",
      "[CV] END ...................C=50, gamma=0.1, random_state=13; total time=   0.0s\n",
      "[CV] END ...................C=50, gamma=0.1, random_state=13; total time=   0.0s\n",
      "[CV] END ...................C=50, gamma=0.1, random_state=13; total time=   0.0s\n",
      "[CV] END ...................C=50, gamma=0.1, random_state=13; total time=   0.0s\n",
      "[CV] END ...................C=50, gamma=0.1, random_state=14; total time=   0.0s\n",
      "[CV] END ...................C=50, gamma=0.1, random_state=14; total time=   0.0s\n",
      "[CV] END ...................C=50, gamma=0.1, random_state=14; total time=   0.0s\n",
      "[CV] END ...................C=50, gamma=0.1, random_state=14; total time=   0.0s\n",
      "[CV] END ...................C=50, gamma=0.1, random_state=14; total time=   0.0s\n",
      "[CV] END ...................C=50, gamma=0.1, random_state=15; total time=   0.0s\n",
      "[CV] END ...................C=50, gamma=0.1, random_state=15; total time=   0.0s\n",
      "[CV] END ...................C=50, gamma=0.1, random_state=15; total time=   0.0s\n",
      "[CV] END ...................C=50, gamma=0.1, random_state=15; total time=   0.0s\n",
      "[CV] END ...................C=50, gamma=0.1, random_state=15; total time=   0.0s\n",
      "[CV] END ...................C=50, gamma=0.1, random_state=16; total time=   0.0s\n",
      "[CV] END ...................C=50, gamma=0.1, random_state=16; total time=   0.0s\n",
      "[CV] END ...................C=50, gamma=0.1, random_state=16; total time=   0.0s\n",
      "[CV] END ...................C=50, gamma=0.1, random_state=16; total time=   0.0s\n",
      "[CV] END ...................C=50, gamma=0.1, random_state=16; total time=   0.0s\n",
      "[CV] END ...................C=50, gamma=0.1, random_state=17; total time=   0.0s\n",
      "[CV] END ...................C=50, gamma=0.1, random_state=17; total time=   0.0s\n",
      "[CV] END ...................C=50, gamma=0.1, random_state=17; total time=   0.0s\n",
      "[CV] END ...................C=50, gamma=0.1, random_state=17; total time=   0.0s\n",
      "[CV] END ...................C=50, gamma=0.1, random_state=17; total time=   0.0s\n",
      "[CV] END ...................C=50, gamma=0.1, random_state=18; total time=   0.0s\n",
      "[CV] END ...................C=50, gamma=0.1, random_state=18; total time=   0.0s\n",
      "[CV] END ...................C=50, gamma=0.1, random_state=18; total time=   0.0s\n",
      "[CV] END ...................C=50, gamma=0.1, random_state=18; total time=   0.0s\n",
      "[CV] END ...................C=50, gamma=0.1, random_state=18; total time=   0.0s\n",
      "[CV] END ...................C=50, gamma=0.1, random_state=19; total time=   0.0s\n",
      "[CV] END ...................C=50, gamma=0.1, random_state=19; total time=   0.0s\n",
      "[CV] END ...................C=50, gamma=0.1, random_state=19; total time=   0.0s\n",
      "[CV] END ...................C=50, gamma=0.1, random_state=19; total time=   0.0s\n",
      "[CV] END ...................C=50, gamma=0.1, random_state=19; total time=   0.0s\n",
      "[CV] END ...................C=50, gamma=0.01, random_state=1; total time=   0.0s\n",
      "[CV] END ...................C=50, gamma=0.01, random_state=1; total time=   0.0s\n",
      "[CV] END ...................C=50, gamma=0.01, random_state=1; total time=   0.0s\n",
      "[CV] END ...................C=50, gamma=0.01, random_state=1; total time=   0.0s\n",
      "[CV] END ...................C=50, gamma=0.01, random_state=1; total time=   0.0s\n",
      "[CV] END ...................C=50, gamma=0.01, random_state=2; total time=   0.0s\n",
      "[CV] END ...................C=50, gamma=0.01, random_state=2; total time=   0.0s\n",
      "[CV] END ...................C=50, gamma=0.01, random_state=2; total time=   0.0s\n",
      "[CV] END ...................C=50, gamma=0.01, random_state=2; total time=   0.0s\n",
      "[CV] END ...................C=50, gamma=0.01, random_state=2; total time=   0.0s\n",
      "[CV] END ...................C=50, gamma=0.01, random_state=3; total time=   0.0s\n",
      "[CV] END ...................C=50, gamma=0.01, random_state=3; total time=   0.1s\n",
      "[CV] END ...................C=50, gamma=0.01, random_state=3; total time=   0.1s\n",
      "[CV] END ...................C=50, gamma=0.01, random_state=3; total time=   0.0s\n",
      "[CV] END ...................C=50, gamma=0.01, random_state=3; total time=   0.0s\n",
      "[CV] END ...................C=50, gamma=0.01, random_state=4; total time=   0.0s\n",
      "[CV] END ...................C=50, gamma=0.01, random_state=4; total time=   0.0s\n",
      "[CV] END ...................C=50, gamma=0.01, random_state=4; total time=   0.0s\n",
      "[CV] END ...................C=50, gamma=0.01, random_state=4; total time=   0.0s\n",
      "[CV] END ...................C=50, gamma=0.01, random_state=4; total time=   0.0s\n",
      "[CV] END ...................C=50, gamma=0.01, random_state=5; total time=   0.0s\n",
      "[CV] END ...................C=50, gamma=0.01, random_state=5; total time=   0.0s\n",
      "[CV] END ...................C=50, gamma=0.01, random_state=5; total time=   0.0s\n",
      "[CV] END ...................C=50, gamma=0.01, random_state=5; total time=   0.0s\n",
      "[CV] END ...................C=50, gamma=0.01, random_state=5; total time=   0.0s\n",
      "[CV] END ...................C=50, gamma=0.01, random_state=6; total time=   0.0s\n",
      "[CV] END ...................C=50, gamma=0.01, random_state=6; total time=   0.0s\n",
      "[CV] END ...................C=50, gamma=0.01, random_state=6; total time=   0.0s\n",
      "[CV] END ...................C=50, gamma=0.01, random_state=6; total time=   0.0s\n",
      "[CV] END ...................C=50, gamma=0.01, random_state=6; total time=   0.0s\n",
      "[CV] END ...................C=50, gamma=0.01, random_state=7; total time=   0.0s\n",
      "[CV] END ...................C=50, gamma=0.01, random_state=7; total time=   0.0s\n",
      "[CV] END ...................C=50, gamma=0.01, random_state=7; total time=   0.0s\n",
      "[CV] END ...................C=50, gamma=0.01, random_state=7; total time=   0.0s\n",
      "[CV] END ...................C=50, gamma=0.01, random_state=7; total time=   0.0s\n",
      "[CV] END ...................C=50, gamma=0.01, random_state=8; total time=   0.0s\n",
      "[CV] END ...................C=50, gamma=0.01, random_state=8; total time=   0.0s\n",
      "[CV] END ...................C=50, gamma=0.01, random_state=8; total time=   0.0s\n",
      "[CV] END ...................C=50, gamma=0.01, random_state=8; total time=   0.0s\n",
      "[CV] END ...................C=50, gamma=0.01, random_state=8; total time=   0.0s\n",
      "[CV] END ...................C=50, gamma=0.01, random_state=9; total time=   0.0s\n",
      "[CV] END ...................C=50, gamma=0.01, random_state=9; total time=   0.0s\n",
      "[CV] END ...................C=50, gamma=0.01, random_state=9; total time=   0.0s\n",
      "[CV] END ...................C=50, gamma=0.01, random_state=9; total time=   0.0s\n",
      "[CV] END ...................C=50, gamma=0.01, random_state=9; total time=   0.0s\n",
      "[CV] END ..................C=50, gamma=0.01, random_state=10; total time=   0.0s\n",
      "[CV] END ..................C=50, gamma=0.01, random_state=10; total time=   0.0s\n",
      "[CV] END ..................C=50, gamma=0.01, random_state=10; total time=   0.0s\n",
      "[CV] END ..................C=50, gamma=0.01, random_state=10; total time=   0.0s\n",
      "[CV] END ..................C=50, gamma=0.01, random_state=10; total time=   0.0s\n",
      "[CV] END ..................C=50, gamma=0.01, random_state=11; total time=   0.0s\n",
      "[CV] END ..................C=50, gamma=0.01, random_state=11; total time=   0.0s\n"
     ]
    },
    {
     "name": "stdout",
     "output_type": "stream",
     "text": [
      "[CV] END ..................C=50, gamma=0.01, random_state=11; total time=   0.0s\n",
      "[CV] END ..................C=50, gamma=0.01, random_state=11; total time=   0.0s\n",
      "[CV] END ..................C=50, gamma=0.01, random_state=11; total time=   0.0s\n",
      "[CV] END ..................C=50, gamma=0.01, random_state=12; total time=   0.0s\n",
      "[CV] END ..................C=50, gamma=0.01, random_state=12; total time=   0.0s\n",
      "[CV] END ..................C=50, gamma=0.01, random_state=12; total time=   0.0s\n",
      "[CV] END ..................C=50, gamma=0.01, random_state=12; total time=   0.0s\n",
      "[CV] END ..................C=50, gamma=0.01, random_state=12; total time=   0.0s\n",
      "[CV] END ..................C=50, gamma=0.01, random_state=13; total time=   0.0s\n",
      "[CV] END ..................C=50, gamma=0.01, random_state=13; total time=   0.0s\n",
      "[CV] END ..................C=50, gamma=0.01, random_state=13; total time=   0.0s\n",
      "[CV] END ..................C=50, gamma=0.01, random_state=13; total time=   0.0s\n",
      "[CV] END ..................C=50, gamma=0.01, random_state=13; total time=   0.0s\n",
      "[CV] END ..................C=50, gamma=0.01, random_state=14; total time=   0.0s\n",
      "[CV] END ..................C=50, gamma=0.01, random_state=14; total time=   0.0s\n",
      "[CV] END ..................C=50, gamma=0.01, random_state=14; total time=   0.0s\n",
      "[CV] END ..................C=50, gamma=0.01, random_state=14; total time=   0.0s\n",
      "[CV] END ..................C=50, gamma=0.01, random_state=14; total time=   0.0s\n",
      "[CV] END ..................C=50, gamma=0.01, random_state=15; total time=   0.0s\n",
      "[CV] END ..................C=50, gamma=0.01, random_state=15; total time=   0.0s\n",
      "[CV] END ..................C=50, gamma=0.01, random_state=15; total time=   0.0s\n",
      "[CV] END ..................C=50, gamma=0.01, random_state=15; total time=   0.0s\n",
      "[CV] END ..................C=50, gamma=0.01, random_state=15; total time=   0.0s\n",
      "[CV] END ..................C=50, gamma=0.01, random_state=16; total time=   0.1s\n",
      "[CV] END ..................C=50, gamma=0.01, random_state=16; total time=   0.0s\n",
      "[CV] END ..................C=50, gamma=0.01, random_state=16; total time=   0.0s\n",
      "[CV] END ..................C=50, gamma=0.01, random_state=16; total time=   0.0s\n",
      "[CV] END ..................C=50, gamma=0.01, random_state=16; total time=   0.0s\n",
      "[CV] END ..................C=50, gamma=0.01, random_state=17; total time=   0.0s\n",
      "[CV] END ..................C=50, gamma=0.01, random_state=17; total time=   0.0s\n",
      "[CV] END ..................C=50, gamma=0.01, random_state=17; total time=   0.0s\n",
      "[CV] END ..................C=50, gamma=0.01, random_state=17; total time=   0.0s\n",
      "[CV] END ..................C=50, gamma=0.01, random_state=17; total time=   0.0s\n",
      "[CV] END ..................C=50, gamma=0.01, random_state=18; total time=   0.0s\n",
      "[CV] END ..................C=50, gamma=0.01, random_state=18; total time=   0.0s\n",
      "[CV] END ..................C=50, gamma=0.01, random_state=18; total time=   0.0s\n",
      "[CV] END ..................C=50, gamma=0.01, random_state=18; total time=   0.0s\n",
      "[CV] END ..................C=50, gamma=0.01, random_state=18; total time=   0.0s\n",
      "[CV] END ..................C=50, gamma=0.01, random_state=19; total time=   0.0s\n",
      "[CV] END ..................C=50, gamma=0.01, random_state=19; total time=   0.0s\n",
      "[CV] END ..................C=50, gamma=0.01, random_state=19; total time=   0.0s\n",
      "[CV] END ..................C=50, gamma=0.01, random_state=19; total time=   0.0s\n",
      "[CV] END ..................C=50, gamma=0.01, random_state=19; total time=   0.0s\n",
      "[CV] END ..................C=50, gamma=0.001, random_state=1; total time=   0.0s\n",
      "[CV] END ..................C=50, gamma=0.001, random_state=1; total time=   0.0s\n",
      "[CV] END ..................C=50, gamma=0.001, random_state=1; total time=   0.0s\n",
      "[CV] END ..................C=50, gamma=0.001, random_state=1; total time=   0.0s\n",
      "[CV] END ..................C=50, gamma=0.001, random_state=1; total time=   0.0s\n",
      "[CV] END ..................C=50, gamma=0.001, random_state=2; total time=   0.0s\n",
      "[CV] END ..................C=50, gamma=0.001, random_state=2; total time=   0.0s\n",
      "[CV] END ..................C=50, gamma=0.001, random_state=2; total time=   0.0s\n",
      "[CV] END ..................C=50, gamma=0.001, random_state=2; total time=   0.0s\n",
      "[CV] END ..................C=50, gamma=0.001, random_state=2; total time=   0.0s\n",
      "[CV] END ..................C=50, gamma=0.001, random_state=3; total time=   0.0s\n",
      "[CV] END ..................C=50, gamma=0.001, random_state=3; total time=   0.0s\n",
      "[CV] END ..................C=50, gamma=0.001, random_state=3; total time=   0.0s\n",
      "[CV] END ..................C=50, gamma=0.001, random_state=3; total time=   0.0s\n",
      "[CV] END ..................C=50, gamma=0.001, random_state=3; total time=   0.0s\n",
      "[CV] END ..................C=50, gamma=0.001, random_state=4; total time=   0.0s\n",
      "[CV] END ..................C=50, gamma=0.001, random_state=4; total time=   0.0s\n",
      "[CV] END ..................C=50, gamma=0.001, random_state=4; total time=   0.0s\n",
      "[CV] END ..................C=50, gamma=0.001, random_state=4; total time=   0.0s\n",
      "[CV] END ..................C=50, gamma=0.001, random_state=4; total time=   0.0s\n",
      "[CV] END ..................C=50, gamma=0.001, random_state=5; total time=   0.1s\n",
      "[CV] END ..................C=50, gamma=0.001, random_state=5; total time=   0.0s\n",
      "[CV] END ..................C=50, gamma=0.001, random_state=5; total time=   0.0s\n",
      "[CV] END ..................C=50, gamma=0.001, random_state=5; total time=   0.0s\n",
      "[CV] END ..................C=50, gamma=0.001, random_state=5; total time=   0.0s\n",
      "[CV] END ..................C=50, gamma=0.001, random_state=6; total time=   0.0s\n",
      "[CV] END ..................C=50, gamma=0.001, random_state=6; total time=   0.0s\n",
      "[CV] END ..................C=50, gamma=0.001, random_state=6; total time=   0.0s\n",
      "[CV] END ..................C=50, gamma=0.001, random_state=6; total time=   0.0s\n",
      "[CV] END ..................C=50, gamma=0.001, random_state=6; total time=   0.0s\n",
      "[CV] END ..................C=50, gamma=0.001, random_state=7; total time=   0.0s\n",
      "[CV] END ..................C=50, gamma=0.001, random_state=7; total time=   0.0s\n",
      "[CV] END ..................C=50, gamma=0.001, random_state=7; total time=   0.0s\n",
      "[CV] END ..................C=50, gamma=0.001, random_state=7; total time=   0.0s\n",
      "[CV] END ..................C=50, gamma=0.001, random_state=7; total time=   0.0s\n",
      "[CV] END ..................C=50, gamma=0.001, random_state=8; total time=   0.0s\n",
      "[CV] END ..................C=50, gamma=0.001, random_state=8; total time=   0.0s\n",
      "[CV] END ..................C=50, gamma=0.001, random_state=8; total time=   0.0s\n",
      "[CV] END ..................C=50, gamma=0.001, random_state=8; total time=   0.0s\n",
      "[CV] END ..................C=50, gamma=0.001, random_state=8; total time=   0.0s\n",
      "[CV] END ..................C=50, gamma=0.001, random_state=9; total time=   0.0s\n",
      "[CV] END ..................C=50, gamma=0.001, random_state=9; total time=   0.0s\n",
      "[CV] END ..................C=50, gamma=0.001, random_state=9; total time=   0.0s\n",
      "[CV] END ..................C=50, gamma=0.001, random_state=9; total time=   0.0s\n",
      "[CV] END ..................C=50, gamma=0.001, random_state=9; total time=   0.0s\n",
      "[CV] END .................C=50, gamma=0.001, random_state=10; total time=   0.0s\n",
      "[CV] END .................C=50, gamma=0.001, random_state=10; total time=   0.0s\n",
      "[CV] END .................C=50, gamma=0.001, random_state=10; total time=   0.0s\n",
      "[CV] END .................C=50, gamma=0.001, random_state=10; total time=   0.0s\n",
      "[CV] END .................C=50, gamma=0.001, random_state=10; total time=   0.0s\n",
      "[CV] END .................C=50, gamma=0.001, random_state=11; total time=   0.0s\n",
      "[CV] END .................C=50, gamma=0.001, random_state=11; total time=   0.0s\n",
      "[CV] END .................C=50, gamma=0.001, random_state=11; total time=   0.0s\n",
      "[CV] END .................C=50, gamma=0.001, random_state=11; total time=   0.0s\n",
      "[CV] END .................C=50, gamma=0.001, random_state=11; total time=   0.0s\n",
      "[CV] END .................C=50, gamma=0.001, random_state=12; total time=   0.0s\n",
      "[CV] END .................C=50, gamma=0.001, random_state=12; total time=   0.0s\n",
      "[CV] END .................C=50, gamma=0.001, random_state=12; total time=   0.0s\n",
      "[CV] END .................C=50, gamma=0.001, random_state=12; total time=   0.0s\n"
     ]
    },
    {
     "name": "stdout",
     "output_type": "stream",
     "text": [
      "[CV] END .................C=50, gamma=0.001, random_state=12; total time=   0.0s\n",
      "[CV] END .................C=50, gamma=0.001, random_state=13; total time=   0.0s\n",
      "[CV] END .................C=50, gamma=0.001, random_state=13; total time=   0.0s\n",
      "[CV] END .................C=50, gamma=0.001, random_state=13; total time=   0.0s\n",
      "[CV] END .................C=50, gamma=0.001, random_state=13; total time=   0.0s\n",
      "[CV] END .................C=50, gamma=0.001, random_state=13; total time=   0.0s\n",
      "[CV] END .................C=50, gamma=0.001, random_state=14; total time=   0.0s\n",
      "[CV] END .................C=50, gamma=0.001, random_state=14; total time=   0.0s\n",
      "[CV] END .................C=50, gamma=0.001, random_state=14; total time=   0.0s\n",
      "[CV] END .................C=50, gamma=0.001, random_state=14; total time=   0.0s\n",
      "[CV] END .................C=50, gamma=0.001, random_state=14; total time=   0.0s\n",
      "[CV] END .................C=50, gamma=0.001, random_state=15; total time=   0.0s\n",
      "[CV] END .................C=50, gamma=0.001, random_state=15; total time=   0.0s\n",
      "[CV] END .................C=50, gamma=0.001, random_state=15; total time=   0.0s\n",
      "[CV] END .................C=50, gamma=0.001, random_state=15; total time=   0.0s\n",
      "[CV] END .................C=50, gamma=0.001, random_state=15; total time=   0.0s\n",
      "[CV] END .................C=50, gamma=0.001, random_state=16; total time=   0.0s\n",
      "[CV] END .................C=50, gamma=0.001, random_state=16; total time=   0.0s\n",
      "[CV] END .................C=50, gamma=0.001, random_state=16; total time=   0.0s\n",
      "[CV] END .................C=50, gamma=0.001, random_state=16; total time=   0.0s\n",
      "[CV] END .................C=50, gamma=0.001, random_state=16; total time=   0.0s\n",
      "[CV] END .................C=50, gamma=0.001, random_state=17; total time=   0.0s\n",
      "[CV] END .................C=50, gamma=0.001, random_state=17; total time=   0.0s\n",
      "[CV] END .................C=50, gamma=0.001, random_state=17; total time=   0.0s\n",
      "[CV] END .................C=50, gamma=0.001, random_state=17; total time=   0.0s\n",
      "[CV] END .................C=50, gamma=0.001, random_state=17; total time=   0.0s\n",
      "[CV] END .................C=50, gamma=0.001, random_state=18; total time=   0.0s\n",
      "[CV] END .................C=50, gamma=0.001, random_state=18; total time=   0.0s\n",
      "[CV] END .................C=50, gamma=0.001, random_state=18; total time=   0.0s\n",
      "[CV] END .................C=50, gamma=0.001, random_state=18; total time=   0.0s\n",
      "[CV] END .................C=50, gamma=0.001, random_state=18; total time=   0.0s\n",
      "[CV] END .................C=50, gamma=0.001, random_state=19; total time=   0.0s\n",
      "[CV] END .................C=50, gamma=0.001, random_state=19; total time=   0.0s\n",
      "[CV] END .................C=50, gamma=0.001, random_state=19; total time=   0.0s\n",
      "[CV] END .................C=50, gamma=0.001, random_state=19; total time=   0.1s\n",
      "[CV] END .................C=50, gamma=0.001, random_state=19; total time=   0.1s\n",
      "[CV] END .................C=50, gamma=0.0001, random_state=1; total time=   0.0s\n",
      "[CV] END .................C=50, gamma=0.0001, random_state=1; total time=   0.0s\n",
      "[CV] END .................C=50, gamma=0.0001, random_state=1; total time=   0.0s\n",
      "[CV] END .................C=50, gamma=0.0001, random_state=1; total time=   0.0s\n",
      "[CV] END .................C=50, gamma=0.0001, random_state=1; total time=   0.0s\n",
      "[CV] END .................C=50, gamma=0.0001, random_state=2; total time=   0.0s\n",
      "[CV] END .................C=50, gamma=0.0001, random_state=2; total time=   0.0s\n",
      "[CV] END .................C=50, gamma=0.0001, random_state=2; total time=   0.0s\n",
      "[CV] END .................C=50, gamma=0.0001, random_state=2; total time=   0.0s\n",
      "[CV] END .................C=50, gamma=0.0001, random_state=2; total time=   0.0s\n",
      "[CV] END .................C=50, gamma=0.0001, random_state=3; total time=   0.0s\n",
      "[CV] END .................C=50, gamma=0.0001, random_state=3; total time=   0.0s\n",
      "[CV] END .................C=50, gamma=0.0001, random_state=3; total time=   0.0s\n",
      "[CV] END .................C=50, gamma=0.0001, random_state=3; total time=   0.0s\n",
      "[CV] END .................C=50, gamma=0.0001, random_state=3; total time=   0.0s\n",
      "[CV] END .................C=50, gamma=0.0001, random_state=4; total time=   0.0s\n",
      "[CV] END .................C=50, gamma=0.0001, random_state=4; total time=   0.0s\n",
      "[CV] END .................C=50, gamma=0.0001, random_state=4; total time=   0.0s\n",
      "[CV] END .................C=50, gamma=0.0001, random_state=4; total time=   0.0s\n",
      "[CV] END .................C=50, gamma=0.0001, random_state=4; total time=   0.0s\n",
      "[CV] END .................C=50, gamma=0.0001, random_state=5; total time=   0.0s\n",
      "[CV] END .................C=50, gamma=0.0001, random_state=5; total time=   0.0s\n",
      "[CV] END .................C=50, gamma=0.0001, random_state=5; total time=   0.0s\n",
      "[CV] END .................C=50, gamma=0.0001, random_state=5; total time=   0.0s\n",
      "[CV] END .................C=50, gamma=0.0001, random_state=5; total time=   0.0s\n",
      "[CV] END .................C=50, gamma=0.0001, random_state=6; total time=   0.0s\n",
      "[CV] END .................C=50, gamma=0.0001, random_state=6; total time=   0.0s\n",
      "[CV] END .................C=50, gamma=0.0001, random_state=6; total time=   0.0s\n",
      "[CV] END .................C=50, gamma=0.0001, random_state=6; total time=   0.0s\n",
      "[CV] END .................C=50, gamma=0.0001, random_state=6; total time=   0.0s\n",
      "[CV] END .................C=50, gamma=0.0001, random_state=7; total time=   0.0s\n",
      "[CV] END .................C=50, gamma=0.0001, random_state=7; total time=   0.0s\n",
      "[CV] END .................C=50, gamma=0.0001, random_state=7; total time=   0.0s\n",
      "[CV] END .................C=50, gamma=0.0001, random_state=7; total time=   0.0s\n",
      "[CV] END .................C=50, gamma=0.0001, random_state=7; total time=   0.0s\n",
      "[CV] END .................C=50, gamma=0.0001, random_state=8; total time=   0.0s\n",
      "[CV] END .................C=50, gamma=0.0001, random_state=8; total time=   0.0s\n",
      "[CV] END .................C=50, gamma=0.0001, random_state=8; total time=   0.0s\n",
      "[CV] END .................C=50, gamma=0.0001, random_state=8; total time=   0.0s\n",
      "[CV] END .................C=50, gamma=0.0001, random_state=8; total time=   0.0s\n",
      "[CV] END .................C=50, gamma=0.0001, random_state=9; total time=   0.0s\n",
      "[CV] END .................C=50, gamma=0.0001, random_state=9; total time=   0.0s\n",
      "[CV] END .................C=50, gamma=0.0001, random_state=9; total time=   0.0s\n",
      "[CV] END .................C=50, gamma=0.0001, random_state=9; total time=   0.0s\n",
      "[CV] END .................C=50, gamma=0.0001, random_state=9; total time=   0.0s\n",
      "[CV] END ................C=50, gamma=0.0001, random_state=10; total time=   0.0s\n",
      "[CV] END ................C=50, gamma=0.0001, random_state=10; total time=   0.0s\n",
      "[CV] END ................C=50, gamma=0.0001, random_state=10; total time=   0.0s\n",
      "[CV] END ................C=50, gamma=0.0001, random_state=10; total time=   0.0s\n",
      "[CV] END ................C=50, gamma=0.0001, random_state=10; total time=   0.0s\n",
      "[CV] END ................C=50, gamma=0.0001, random_state=11; total time=   0.0s\n",
      "[CV] END ................C=50, gamma=0.0001, random_state=11; total time=   0.0s\n",
      "[CV] END ................C=50, gamma=0.0001, random_state=11; total time=   0.0s\n",
      "[CV] END ................C=50, gamma=0.0001, random_state=11; total time=   0.0s\n",
      "[CV] END ................C=50, gamma=0.0001, random_state=11; total time=   0.0s\n",
      "[CV] END ................C=50, gamma=0.0001, random_state=12; total time=   0.0s\n",
      "[CV] END ................C=50, gamma=0.0001, random_state=12; total time=   0.0s\n",
      "[CV] END ................C=50, gamma=0.0001, random_state=12; total time=   0.0s\n",
      "[CV] END ................C=50, gamma=0.0001, random_state=12; total time=   0.0s\n",
      "[CV] END ................C=50, gamma=0.0001, random_state=12; total time=   0.0s\n",
      "[CV] END ................C=50, gamma=0.0001, random_state=13; total time=   0.0s\n",
      "[CV] END ................C=50, gamma=0.0001, random_state=13; total time=   0.0s\n",
      "[CV] END ................C=50, gamma=0.0001, random_state=13; total time=   0.0s\n",
      "[CV] END ................C=50, gamma=0.0001, random_state=13; total time=   0.0s\n",
      "[CV] END ................C=50, gamma=0.0001, random_state=13; total time=   0.0s\n",
      "[CV] END ................C=50, gamma=0.0001, random_state=14; total time=   0.0s\n",
      "[CV] END ................C=50, gamma=0.0001, random_state=14; total time=   0.0s\n"
     ]
    },
    {
     "name": "stdout",
     "output_type": "stream",
     "text": [
      "[CV] END ................C=50, gamma=0.0001, random_state=14; total time=   0.0s\n",
      "[CV] END ................C=50, gamma=0.0001, random_state=14; total time=   0.0s\n",
      "[CV] END ................C=50, gamma=0.0001, random_state=14; total time=   0.0s\n",
      "[CV] END ................C=50, gamma=0.0001, random_state=15; total time=   0.0s\n",
      "[CV] END ................C=50, gamma=0.0001, random_state=15; total time=   0.0s\n",
      "[CV] END ................C=50, gamma=0.0001, random_state=15; total time=   0.0s\n",
      "[CV] END ................C=50, gamma=0.0001, random_state=15; total time=   0.0s\n",
      "[CV] END ................C=50, gamma=0.0001, random_state=15; total time=   0.0s\n",
      "[CV] END ................C=50, gamma=0.0001, random_state=16; total time=   0.0s\n",
      "[CV] END ................C=50, gamma=0.0001, random_state=16; total time=   0.0s\n",
      "[CV] END ................C=50, gamma=0.0001, random_state=16; total time=   0.0s\n",
      "[CV] END ................C=50, gamma=0.0001, random_state=16; total time=   0.0s\n",
      "[CV] END ................C=50, gamma=0.0001, random_state=16; total time=   0.0s\n",
      "[CV] END ................C=50, gamma=0.0001, random_state=17; total time=   0.0s\n",
      "[CV] END ................C=50, gamma=0.0001, random_state=17; total time=   0.0s\n",
      "[CV] END ................C=50, gamma=0.0001, random_state=17; total time=   0.0s\n",
      "[CV] END ................C=50, gamma=0.0001, random_state=17; total time=   0.0s\n",
      "[CV] END ................C=50, gamma=0.0001, random_state=17; total time=   0.0s\n",
      "[CV] END ................C=50, gamma=0.0001, random_state=18; total time=   0.0s\n",
      "[CV] END ................C=50, gamma=0.0001, random_state=18; total time=   0.0s\n",
      "[CV] END ................C=50, gamma=0.0001, random_state=18; total time=   0.0s\n",
      "[CV] END ................C=50, gamma=0.0001, random_state=18; total time=   0.0s\n",
      "[CV] END ................C=50, gamma=0.0001, random_state=18; total time=   0.0s\n",
      "[CV] END ................C=50, gamma=0.0001, random_state=19; total time=   0.0s\n",
      "[CV] END ................C=50, gamma=0.0001, random_state=19; total time=   0.0s\n",
      "[CV] END ................C=50, gamma=0.0001, random_state=19; total time=   0.0s\n",
      "[CV] END ................C=50, gamma=0.0001, random_state=19; total time=   0.0s\n",
      "[CV] END ................C=50, gamma=0.0001, random_state=19; total time=   0.0s\n",
      "[CV] END ......................C=60, gamma=1, random_state=1; total time=   0.0s\n",
      "[CV] END ......................C=60, gamma=1, random_state=1; total time=   0.0s\n",
      "[CV] END ......................C=60, gamma=1, random_state=1; total time=   0.0s\n",
      "[CV] END ......................C=60, gamma=1, random_state=1; total time=   0.0s\n",
      "[CV] END ......................C=60, gamma=1, random_state=1; total time=   0.0s\n",
      "[CV] END ......................C=60, gamma=1, random_state=2; total time=   0.0s\n",
      "[CV] END ......................C=60, gamma=1, random_state=2; total time=   0.0s\n",
      "[CV] END ......................C=60, gamma=1, random_state=2; total time=   0.0s\n",
      "[CV] END ......................C=60, gamma=1, random_state=2; total time=   0.0s\n",
      "[CV] END ......................C=60, gamma=1, random_state=2; total time=   0.0s\n",
      "[CV] END ......................C=60, gamma=1, random_state=3; total time=   0.0s\n",
      "[CV] END ......................C=60, gamma=1, random_state=3; total time=   0.0s\n",
      "[CV] END ......................C=60, gamma=1, random_state=3; total time=   0.0s\n",
      "[CV] END ......................C=60, gamma=1, random_state=3; total time=   0.0s\n",
      "[CV] END ......................C=60, gamma=1, random_state=3; total time=   0.0s\n",
      "[CV] END ......................C=60, gamma=1, random_state=4; total time=   0.0s\n",
      "[CV] END ......................C=60, gamma=1, random_state=4; total time=   0.0s\n",
      "[CV] END ......................C=60, gamma=1, random_state=4; total time=   0.0s\n",
      "[CV] END ......................C=60, gamma=1, random_state=4; total time=   0.0s\n",
      "[CV] END ......................C=60, gamma=1, random_state=4; total time=   0.0s\n",
      "[CV] END ......................C=60, gamma=1, random_state=5; total time=   0.0s\n",
      "[CV] END ......................C=60, gamma=1, random_state=5; total time=   0.0s\n",
      "[CV] END ......................C=60, gamma=1, random_state=5; total time=   0.0s\n",
      "[CV] END ......................C=60, gamma=1, random_state=5; total time=   0.0s\n",
      "[CV] END ......................C=60, gamma=1, random_state=5; total time=   0.0s\n",
      "[CV] END ......................C=60, gamma=1, random_state=6; total time=   0.0s\n",
      "[CV] END ......................C=60, gamma=1, random_state=6; total time=   0.0s\n",
      "[CV] END ......................C=60, gamma=1, random_state=6; total time=   0.0s\n",
      "[CV] END ......................C=60, gamma=1, random_state=6; total time=   0.0s\n",
      "[CV] END ......................C=60, gamma=1, random_state=6; total time=   0.0s\n",
      "[CV] END ......................C=60, gamma=1, random_state=7; total time=   0.0s\n",
      "[CV] END ......................C=60, gamma=1, random_state=7; total time=   0.0s\n",
      "[CV] END ......................C=60, gamma=1, random_state=7; total time=   0.0s\n",
      "[CV] END ......................C=60, gamma=1, random_state=7; total time=   0.0s\n",
      "[CV] END ......................C=60, gamma=1, random_state=7; total time=   0.0s\n",
      "[CV] END ......................C=60, gamma=1, random_state=8; total time=   0.0s\n",
      "[CV] END ......................C=60, gamma=1, random_state=8; total time=   0.0s\n",
      "[CV] END ......................C=60, gamma=1, random_state=8; total time=   0.0s\n",
      "[CV] END ......................C=60, gamma=1, random_state=8; total time=   0.0s\n",
      "[CV] END ......................C=60, gamma=1, random_state=8; total time=   0.0s\n",
      "[CV] END ......................C=60, gamma=1, random_state=9; total time=   0.0s\n",
      "[CV] END ......................C=60, gamma=1, random_state=9; total time=   0.0s\n",
      "[CV] END ......................C=60, gamma=1, random_state=9; total time=   0.0s\n",
      "[CV] END ......................C=60, gamma=1, random_state=9; total time=   0.0s\n",
      "[CV] END ......................C=60, gamma=1, random_state=9; total time=   0.0s\n",
      "[CV] END .....................C=60, gamma=1, random_state=10; total time=   0.0s\n",
      "[CV] END .....................C=60, gamma=1, random_state=10; total time=   0.0s\n",
      "[CV] END .....................C=60, gamma=1, random_state=10; total time=   0.0s\n",
      "[CV] END .....................C=60, gamma=1, random_state=10; total time=   0.0s\n",
      "[CV] END .....................C=60, gamma=1, random_state=10; total time=   0.0s\n",
      "[CV] END .....................C=60, gamma=1, random_state=11; total time=   0.0s\n",
      "[CV] END .....................C=60, gamma=1, random_state=11; total time=   0.0s\n",
      "[CV] END .....................C=60, gamma=1, random_state=11; total time=   0.0s\n",
      "[CV] END .....................C=60, gamma=1, random_state=11; total time=   0.0s\n",
      "[CV] END .....................C=60, gamma=1, random_state=11; total time=   0.0s\n",
      "[CV] END .....................C=60, gamma=1, random_state=12; total time=   0.0s\n",
      "[CV] END .....................C=60, gamma=1, random_state=12; total time=   0.0s\n",
      "[CV] END .....................C=60, gamma=1, random_state=12; total time=   0.0s\n",
      "[CV] END .....................C=60, gamma=1, random_state=12; total time=   0.0s\n",
      "[CV] END .....................C=60, gamma=1, random_state=12; total time=   0.0s\n",
      "[CV] END .....................C=60, gamma=1, random_state=13; total time=   0.0s\n",
      "[CV] END .....................C=60, gamma=1, random_state=13; total time=   0.0s\n",
      "[CV] END .....................C=60, gamma=1, random_state=13; total time=   0.0s\n",
      "[CV] END .....................C=60, gamma=1, random_state=13; total time=   0.0s\n",
      "[CV] END .....................C=60, gamma=1, random_state=13; total time=   0.0s\n",
      "[CV] END .....................C=60, gamma=1, random_state=14; total time=   0.0s\n",
      "[CV] END .....................C=60, gamma=1, random_state=14; total time=   0.0s\n",
      "[CV] END .....................C=60, gamma=1, random_state=14; total time=   0.0s\n",
      "[CV] END .....................C=60, gamma=1, random_state=14; total time=   0.0s\n",
      "[CV] END .....................C=60, gamma=1, random_state=14; total time=   0.0s\n",
      "[CV] END .....................C=60, gamma=1, random_state=15; total time=   0.0s\n",
      "[CV] END .....................C=60, gamma=1, random_state=15; total time=   0.0s\n",
      "[CV] END .....................C=60, gamma=1, random_state=15; total time=   0.0s\n",
      "[CV] END .....................C=60, gamma=1, random_state=15; total time=   0.0s\n",
      "[CV] END .....................C=60, gamma=1, random_state=15; total time=   0.0s\n",
      "[CV] END .....................C=60, gamma=1, random_state=16; total time=   0.0s\n",
      "[CV] END .....................C=60, gamma=1, random_state=16; total time=   0.0s\n"
     ]
    },
    {
     "name": "stdout",
     "output_type": "stream",
     "text": [
      "[CV] END .....................C=60, gamma=1, random_state=16; total time=   0.0s\n",
      "[CV] END .....................C=60, gamma=1, random_state=16; total time=   0.0s\n",
      "[CV] END .....................C=60, gamma=1, random_state=16; total time=   0.0s\n",
      "[CV] END .....................C=60, gamma=1, random_state=17; total time=   0.0s\n",
      "[CV] END .....................C=60, gamma=1, random_state=17; total time=   0.0s\n",
      "[CV] END .....................C=60, gamma=1, random_state=17; total time=   0.0s\n",
      "[CV] END .....................C=60, gamma=1, random_state=17; total time=   0.0s\n",
      "[CV] END .....................C=60, gamma=1, random_state=17; total time=   0.0s\n",
      "[CV] END .....................C=60, gamma=1, random_state=18; total time=   0.0s\n",
      "[CV] END .....................C=60, gamma=1, random_state=18; total time=   0.0s\n",
      "[CV] END .....................C=60, gamma=1, random_state=18; total time=   0.0s\n",
      "[CV] END .....................C=60, gamma=1, random_state=18; total time=   0.0s\n",
      "[CV] END .....................C=60, gamma=1, random_state=18; total time=   0.0s\n",
      "[CV] END .....................C=60, gamma=1, random_state=19; total time=   0.0s\n",
      "[CV] END .....................C=60, gamma=1, random_state=19; total time=   0.0s\n",
      "[CV] END .....................C=60, gamma=1, random_state=19; total time=   0.0s\n",
      "[CV] END .....................C=60, gamma=1, random_state=19; total time=   0.0s\n",
      "[CV] END .....................C=60, gamma=1, random_state=19; total time=   0.0s\n",
      "[CV] END ....................C=60, gamma=0.1, random_state=1; total time=   0.0s\n",
      "[CV] END ....................C=60, gamma=0.1, random_state=1; total time=   0.0s\n",
      "[CV] END ....................C=60, gamma=0.1, random_state=1; total time=   0.0s\n",
      "[CV] END ....................C=60, gamma=0.1, random_state=1; total time=   0.0s\n",
      "[CV] END ....................C=60, gamma=0.1, random_state=1; total time=   0.0s\n",
      "[CV] END ....................C=60, gamma=0.1, random_state=2; total time=   0.0s\n",
      "[CV] END ....................C=60, gamma=0.1, random_state=2; total time=   0.0s\n",
      "[CV] END ....................C=60, gamma=0.1, random_state=2; total time=   0.0s\n",
      "[CV] END ....................C=60, gamma=0.1, random_state=2; total time=   0.0s\n",
      "[CV] END ....................C=60, gamma=0.1, random_state=2; total time=   0.0s\n",
      "[CV] END ....................C=60, gamma=0.1, random_state=3; total time=   0.0s\n",
      "[CV] END ....................C=60, gamma=0.1, random_state=3; total time=   0.0s\n",
      "[CV] END ....................C=60, gamma=0.1, random_state=3; total time=   0.0s\n",
      "[CV] END ....................C=60, gamma=0.1, random_state=3; total time=   0.0s\n",
      "[CV] END ....................C=60, gamma=0.1, random_state=3; total time=   0.0s\n",
      "[CV] END ....................C=60, gamma=0.1, random_state=4; total time=   0.0s\n",
      "[CV] END ....................C=60, gamma=0.1, random_state=4; total time=   0.0s\n",
      "[CV] END ....................C=60, gamma=0.1, random_state=4; total time=   0.0s\n",
      "[CV] END ....................C=60, gamma=0.1, random_state=4; total time=   0.0s\n",
      "[CV] END ....................C=60, gamma=0.1, random_state=4; total time=   0.0s\n",
      "[CV] END ....................C=60, gamma=0.1, random_state=5; total time=   0.0s\n",
      "[CV] END ....................C=60, gamma=0.1, random_state=5; total time=   0.0s\n",
      "[CV] END ....................C=60, gamma=0.1, random_state=5; total time=   0.0s\n",
      "[CV] END ....................C=60, gamma=0.1, random_state=5; total time=   0.0s\n",
      "[CV] END ....................C=60, gamma=0.1, random_state=5; total time=   0.0s\n",
      "[CV] END ....................C=60, gamma=0.1, random_state=6; total time=   0.0s\n",
      "[CV] END ....................C=60, gamma=0.1, random_state=6; total time=   0.0s\n",
      "[CV] END ....................C=60, gamma=0.1, random_state=6; total time=   0.0s\n",
      "[CV] END ....................C=60, gamma=0.1, random_state=6; total time=   0.0s\n",
      "[CV] END ....................C=60, gamma=0.1, random_state=6; total time=   0.0s\n",
      "[CV] END ....................C=60, gamma=0.1, random_state=7; total time=   0.0s\n",
      "[CV] END ....................C=60, gamma=0.1, random_state=7; total time=   0.0s\n",
      "[CV] END ....................C=60, gamma=0.1, random_state=7; total time=   0.0s\n",
      "[CV] END ....................C=60, gamma=0.1, random_state=7; total time=   0.0s\n",
      "[CV] END ....................C=60, gamma=0.1, random_state=7; total time=   0.0s\n",
      "[CV] END ....................C=60, gamma=0.1, random_state=8; total time=   0.0s\n",
      "[CV] END ....................C=60, gamma=0.1, random_state=8; total time=   0.0s\n",
      "[CV] END ....................C=60, gamma=0.1, random_state=8; total time=   0.0s\n",
      "[CV] END ....................C=60, gamma=0.1, random_state=8; total time=   0.0s\n",
      "[CV] END ....................C=60, gamma=0.1, random_state=8; total time=   0.0s\n",
      "[CV] END ....................C=60, gamma=0.1, random_state=9; total time=   0.0s\n",
      "[CV] END ....................C=60, gamma=0.1, random_state=9; total time=   0.0s\n",
      "[CV] END ....................C=60, gamma=0.1, random_state=9; total time=   0.0s\n",
      "[CV] END ....................C=60, gamma=0.1, random_state=9; total time=   0.0s\n",
      "[CV] END ....................C=60, gamma=0.1, random_state=9; total time=   0.0s\n",
      "[CV] END ...................C=60, gamma=0.1, random_state=10; total time=   0.0s\n",
      "[CV] END ...................C=60, gamma=0.1, random_state=10; total time=   0.0s\n",
      "[CV] END ...................C=60, gamma=0.1, random_state=10; total time=   0.0s\n",
      "[CV] END ...................C=60, gamma=0.1, random_state=10; total time=   0.0s\n",
      "[CV] END ...................C=60, gamma=0.1, random_state=10; total time=   0.0s\n",
      "[CV] END ...................C=60, gamma=0.1, random_state=11; total time=   0.0s\n",
      "[CV] END ...................C=60, gamma=0.1, random_state=11; total time=   0.0s\n",
      "[CV] END ...................C=60, gamma=0.1, random_state=11; total time=   0.0s\n",
      "[CV] END ...................C=60, gamma=0.1, random_state=11; total time=   0.0s\n",
      "[CV] END ...................C=60, gamma=0.1, random_state=11; total time=   0.0s\n",
      "[CV] END ...................C=60, gamma=0.1, random_state=12; total time=   0.0s\n",
      "[CV] END ...................C=60, gamma=0.1, random_state=12; total time=   0.0s\n",
      "[CV] END ...................C=60, gamma=0.1, random_state=12; total time=   0.0s\n",
      "[CV] END ...................C=60, gamma=0.1, random_state=12; total time=   0.0s\n",
      "[CV] END ...................C=60, gamma=0.1, random_state=12; total time=   0.0s\n",
      "[CV] END ...................C=60, gamma=0.1, random_state=13; total time=   0.0s\n",
      "[CV] END ...................C=60, gamma=0.1, random_state=13; total time=   0.0s\n",
      "[CV] END ...................C=60, gamma=0.1, random_state=13; total time=   0.0s\n",
      "[CV] END ...................C=60, gamma=0.1, random_state=13; total time=   0.0s\n",
      "[CV] END ...................C=60, gamma=0.1, random_state=13; total time=   0.0s\n",
      "[CV] END ...................C=60, gamma=0.1, random_state=14; total time=   0.0s\n",
      "[CV] END ...................C=60, gamma=0.1, random_state=14; total time=   0.0s\n",
      "[CV] END ...................C=60, gamma=0.1, random_state=14; total time=   0.0s\n",
      "[CV] END ...................C=60, gamma=0.1, random_state=14; total time=   0.0s\n",
      "[CV] END ...................C=60, gamma=0.1, random_state=14; total time=   0.0s\n",
      "[CV] END ...................C=60, gamma=0.1, random_state=15; total time=   0.0s\n",
      "[CV] END ...................C=60, gamma=0.1, random_state=15; total time=   0.0s\n",
      "[CV] END ...................C=60, gamma=0.1, random_state=15; total time=   0.0s\n",
      "[CV] END ...................C=60, gamma=0.1, random_state=15; total time=   0.0s\n",
      "[CV] END ...................C=60, gamma=0.1, random_state=15; total time=   0.0s\n",
      "[CV] END ...................C=60, gamma=0.1, random_state=16; total time=   0.0s\n",
      "[CV] END ...................C=60, gamma=0.1, random_state=16; total time=   0.0s\n",
      "[CV] END ...................C=60, gamma=0.1, random_state=16; total time=   0.0s\n",
      "[CV] END ...................C=60, gamma=0.1, random_state=16; total time=   0.0s\n",
      "[CV] END ...................C=60, gamma=0.1, random_state=16; total time=   0.0s\n",
      "[CV] END ...................C=60, gamma=0.1, random_state=17; total time=   0.0s\n",
      "[CV] END ...................C=60, gamma=0.1, random_state=17; total time=   0.0s\n",
      "[CV] END ...................C=60, gamma=0.1, random_state=17; total time=   0.0s\n",
      "[CV] END ...................C=60, gamma=0.1, random_state=17; total time=   0.0s\n",
      "[CV] END ...................C=60, gamma=0.1, random_state=17; total time=   0.0s\n",
      "[CV] END ...................C=60, gamma=0.1, random_state=18; total time=   0.0s\n",
      "[CV] END ...................C=60, gamma=0.1, random_state=18; total time=   0.0s\n"
     ]
    },
    {
     "name": "stdout",
     "output_type": "stream",
     "text": [
      "[CV] END ...................C=60, gamma=0.1, random_state=18; total time=   0.0s\n",
      "[CV] END ...................C=60, gamma=0.1, random_state=18; total time=   0.0s\n",
      "[CV] END ...................C=60, gamma=0.1, random_state=18; total time=   0.0s\n",
      "[CV] END ...................C=60, gamma=0.1, random_state=19; total time=   0.0s\n",
      "[CV] END ...................C=60, gamma=0.1, random_state=19; total time=   0.0s\n",
      "[CV] END ...................C=60, gamma=0.1, random_state=19; total time=   0.0s\n",
      "[CV] END ...................C=60, gamma=0.1, random_state=19; total time=   0.0s\n",
      "[CV] END ...................C=60, gamma=0.1, random_state=19; total time=   0.0s\n",
      "[CV] END ...................C=60, gamma=0.01, random_state=1; total time=   0.0s\n",
      "[CV] END ...................C=60, gamma=0.01, random_state=1; total time=   0.0s\n",
      "[CV] END ...................C=60, gamma=0.01, random_state=1; total time=   0.0s\n",
      "[CV] END ...................C=60, gamma=0.01, random_state=1; total time=   0.0s\n",
      "[CV] END ...................C=60, gamma=0.01, random_state=1; total time=   0.0s\n",
      "[CV] END ...................C=60, gamma=0.01, random_state=2; total time=   0.0s\n",
      "[CV] END ...................C=60, gamma=0.01, random_state=2; total time=   0.0s\n",
      "[CV] END ...................C=60, gamma=0.01, random_state=2; total time=   0.0s\n",
      "[CV] END ...................C=60, gamma=0.01, random_state=2; total time=   0.0s\n",
      "[CV] END ...................C=60, gamma=0.01, random_state=2; total time=   0.0s\n",
      "[CV] END ...................C=60, gamma=0.01, random_state=3; total time=   0.0s\n",
      "[CV] END ...................C=60, gamma=0.01, random_state=3; total time=   0.0s\n",
      "[CV] END ...................C=60, gamma=0.01, random_state=3; total time=   0.0s\n",
      "[CV] END ...................C=60, gamma=0.01, random_state=3; total time=   0.0s\n",
      "[CV] END ...................C=60, gamma=0.01, random_state=3; total time=   0.0s\n",
      "[CV] END ...................C=60, gamma=0.01, random_state=4; total time=   0.0s\n",
      "[CV] END ...................C=60, gamma=0.01, random_state=4; total time=   0.0s\n",
      "[CV] END ...................C=60, gamma=0.01, random_state=4; total time=   0.0s\n",
      "[CV] END ...................C=60, gamma=0.01, random_state=4; total time=   0.0s\n",
      "[CV] END ...................C=60, gamma=0.01, random_state=4; total time=   0.0s\n",
      "[CV] END ...................C=60, gamma=0.01, random_state=5; total time=   0.0s\n",
      "[CV] END ...................C=60, gamma=0.01, random_state=5; total time=   0.0s\n",
      "[CV] END ...................C=60, gamma=0.01, random_state=5; total time=   0.0s\n",
      "[CV] END ...................C=60, gamma=0.01, random_state=5; total time=   0.0s\n",
      "[CV] END ...................C=60, gamma=0.01, random_state=5; total time=   0.0s\n",
      "[CV] END ...................C=60, gamma=0.01, random_state=6; total time=   0.0s\n",
      "[CV] END ...................C=60, gamma=0.01, random_state=6; total time=   0.0s\n",
      "[CV] END ...................C=60, gamma=0.01, random_state=6; total time=   0.0s\n",
      "[CV] END ...................C=60, gamma=0.01, random_state=6; total time=   0.0s\n",
      "[CV] END ...................C=60, gamma=0.01, random_state=6; total time=   0.0s\n",
      "[CV] END ...................C=60, gamma=0.01, random_state=7; total time=   0.0s\n",
      "[CV] END ...................C=60, gamma=0.01, random_state=7; total time=   0.0s\n",
      "[CV] END ...................C=60, gamma=0.01, random_state=7; total time=   0.0s\n",
      "[CV] END ...................C=60, gamma=0.01, random_state=7; total time=   0.0s\n",
      "[CV] END ...................C=60, gamma=0.01, random_state=7; total time=   0.0s\n",
      "[CV] END ...................C=60, gamma=0.01, random_state=8; total time=   0.0s\n",
      "[CV] END ...................C=60, gamma=0.01, random_state=8; total time=   0.0s\n",
      "[CV] END ...................C=60, gamma=0.01, random_state=8; total time=   0.0s\n",
      "[CV] END ...................C=60, gamma=0.01, random_state=8; total time=   0.0s\n",
      "[CV] END ...................C=60, gamma=0.01, random_state=8; total time=   0.0s\n",
      "[CV] END ...................C=60, gamma=0.01, random_state=9; total time=   0.0s\n",
      "[CV] END ...................C=60, gamma=0.01, random_state=9; total time=   0.0s\n",
      "[CV] END ...................C=60, gamma=0.01, random_state=9; total time=   0.0s\n",
      "[CV] END ...................C=60, gamma=0.01, random_state=9; total time=   0.0s\n",
      "[CV] END ...................C=60, gamma=0.01, random_state=9; total time=   0.0s\n",
      "[CV] END ..................C=60, gamma=0.01, random_state=10; total time=   0.0s\n",
      "[CV] END ..................C=60, gamma=0.01, random_state=10; total time=   0.0s\n",
      "[CV] END ..................C=60, gamma=0.01, random_state=10; total time=   0.0s\n",
      "[CV] END ..................C=60, gamma=0.01, random_state=10; total time=   0.0s\n",
      "[CV] END ..................C=60, gamma=0.01, random_state=10; total time=   0.0s\n",
      "[CV] END ..................C=60, gamma=0.01, random_state=11; total time=   0.0s\n",
      "[CV] END ..................C=60, gamma=0.01, random_state=11; total time=   0.0s\n",
      "[CV] END ..................C=60, gamma=0.01, random_state=11; total time=   0.0s\n",
      "[CV] END ..................C=60, gamma=0.01, random_state=11; total time=   0.0s\n",
      "[CV] END ..................C=60, gamma=0.01, random_state=11; total time=   0.0s\n",
      "[CV] END ..................C=60, gamma=0.01, random_state=12; total time=   0.0s\n",
      "[CV] END ..................C=60, gamma=0.01, random_state=12; total time=   0.0s\n",
      "[CV] END ..................C=60, gamma=0.01, random_state=12; total time=   0.0s\n",
      "[CV] END ..................C=60, gamma=0.01, random_state=12; total time=   0.0s\n",
      "[CV] END ..................C=60, gamma=0.01, random_state=12; total time=   0.1s\n",
      "[CV] END ..................C=60, gamma=0.01, random_state=13; total time=   0.0s\n",
      "[CV] END ..................C=60, gamma=0.01, random_state=13; total time=   0.0s\n",
      "[CV] END ..................C=60, gamma=0.01, random_state=13; total time=   0.0s\n",
      "[CV] END ..................C=60, gamma=0.01, random_state=13; total time=   0.0s\n",
      "[CV] END ..................C=60, gamma=0.01, random_state=13; total time=   0.0s\n",
      "[CV] END ..................C=60, gamma=0.01, random_state=14; total time=   0.0s\n",
      "[CV] END ..................C=60, gamma=0.01, random_state=14; total time=   0.0s\n",
      "[CV] END ..................C=60, gamma=0.01, random_state=14; total time=   0.0s\n",
      "[CV] END ..................C=60, gamma=0.01, random_state=14; total time=   0.0s\n",
      "[CV] END ..................C=60, gamma=0.01, random_state=14; total time=   0.0s\n",
      "[CV] END ..................C=60, gamma=0.01, random_state=15; total time=   0.0s\n",
      "[CV] END ..................C=60, gamma=0.01, random_state=15; total time=   0.0s\n",
      "[CV] END ..................C=60, gamma=0.01, random_state=15; total time=   0.0s\n",
      "[CV] END ..................C=60, gamma=0.01, random_state=15; total time=   0.0s\n",
      "[CV] END ..................C=60, gamma=0.01, random_state=15; total time=   0.0s\n",
      "[CV] END ..................C=60, gamma=0.01, random_state=16; total time=   0.0s\n",
      "[CV] END ..................C=60, gamma=0.01, random_state=16; total time=   0.0s\n",
      "[CV] END ..................C=60, gamma=0.01, random_state=16; total time=   0.0s\n",
      "[CV] END ..................C=60, gamma=0.01, random_state=16; total time=   0.0s\n",
      "[CV] END ..................C=60, gamma=0.01, random_state=16; total time=   0.0s\n",
      "[CV] END ..................C=60, gamma=0.01, random_state=17; total time=   0.0s\n",
      "[CV] END ..................C=60, gamma=0.01, random_state=17; total time=   0.0s\n",
      "[CV] END ..................C=60, gamma=0.01, random_state=17; total time=   0.0s\n",
      "[CV] END ..................C=60, gamma=0.01, random_state=17; total time=   0.0s\n",
      "[CV] END ..................C=60, gamma=0.01, random_state=17; total time=   0.0s\n",
      "[CV] END ..................C=60, gamma=0.01, random_state=18; total time=   0.0s\n",
      "[CV] END ..................C=60, gamma=0.01, random_state=18; total time=   0.0s\n",
      "[CV] END ..................C=60, gamma=0.01, random_state=18; total time=   0.0s\n",
      "[CV] END ..................C=60, gamma=0.01, random_state=18; total time=   0.0s\n",
      "[CV] END ..................C=60, gamma=0.01, random_state=18; total time=   0.0s\n",
      "[CV] END ..................C=60, gamma=0.01, random_state=19; total time=   0.0s\n",
      "[CV] END ..................C=60, gamma=0.01, random_state=19; total time=   0.0s\n",
      "[CV] END ..................C=60, gamma=0.01, random_state=19; total time=   0.0s\n",
      "[CV] END ..................C=60, gamma=0.01, random_state=19; total time=   0.0s\n",
      "[CV] END ..................C=60, gamma=0.01, random_state=19; total time=   0.0s\n"
     ]
    },
    {
     "name": "stdout",
     "output_type": "stream",
     "text": [
      "[CV] END ..................C=60, gamma=0.001, random_state=1; total time=   0.0s\n",
      "[CV] END ..................C=60, gamma=0.001, random_state=1; total time=   0.0s\n",
      "[CV] END ..................C=60, gamma=0.001, random_state=1; total time=   0.0s\n",
      "[CV] END ..................C=60, gamma=0.001, random_state=1; total time=   0.0s\n",
      "[CV] END ..................C=60, gamma=0.001, random_state=1; total time=   0.0s\n",
      "[CV] END ..................C=60, gamma=0.001, random_state=2; total time=   0.0s\n",
      "[CV] END ..................C=60, gamma=0.001, random_state=2; total time=   0.0s\n",
      "[CV] END ..................C=60, gamma=0.001, random_state=2; total time=   0.0s\n",
      "[CV] END ..................C=60, gamma=0.001, random_state=2; total time=   0.0s\n",
      "[CV] END ..................C=60, gamma=0.001, random_state=2; total time=   0.0s\n",
      "[CV] END ..................C=60, gamma=0.001, random_state=3; total time=   0.0s\n",
      "[CV] END ..................C=60, gamma=0.001, random_state=3; total time=   0.0s\n",
      "[CV] END ..................C=60, gamma=0.001, random_state=3; total time=   0.0s\n",
      "[CV] END ..................C=60, gamma=0.001, random_state=3; total time=   0.0s\n",
      "[CV] END ..................C=60, gamma=0.001, random_state=3; total time=   0.0s\n",
      "[CV] END ..................C=60, gamma=0.001, random_state=4; total time=   0.0s\n",
      "[CV] END ..................C=60, gamma=0.001, random_state=4; total time=   0.0s\n",
      "[CV] END ..................C=60, gamma=0.001, random_state=4; total time=   0.0s\n",
      "[CV] END ..................C=60, gamma=0.001, random_state=4; total time=   0.0s\n",
      "[CV] END ..................C=60, gamma=0.001, random_state=4; total time=   0.0s\n",
      "[CV] END ..................C=60, gamma=0.001, random_state=5; total time=   0.0s\n",
      "[CV] END ..................C=60, gamma=0.001, random_state=5; total time=   0.0s\n",
      "[CV] END ..................C=60, gamma=0.001, random_state=5; total time=   0.0s\n",
      "[CV] END ..................C=60, gamma=0.001, random_state=5; total time=   0.0s\n",
      "[CV] END ..................C=60, gamma=0.001, random_state=5; total time=   0.0s\n",
      "[CV] END ..................C=60, gamma=0.001, random_state=6; total time=   0.0s\n",
      "[CV] END ..................C=60, gamma=0.001, random_state=6; total time=   0.0s\n",
      "[CV] END ..................C=60, gamma=0.001, random_state=6; total time=   0.0s\n",
      "[CV] END ..................C=60, gamma=0.001, random_state=6; total time=   0.0s\n",
      "[CV] END ..................C=60, gamma=0.001, random_state=6; total time=   0.0s\n",
      "[CV] END ..................C=60, gamma=0.001, random_state=7; total time=   0.0s\n",
      "[CV] END ..................C=60, gamma=0.001, random_state=7; total time=   0.0s\n",
      "[CV] END ..................C=60, gamma=0.001, random_state=7; total time=   0.0s\n",
      "[CV] END ..................C=60, gamma=0.001, random_state=7; total time=   0.0s\n",
      "[CV] END ..................C=60, gamma=0.001, random_state=7; total time=   0.0s\n",
      "[CV] END ..................C=60, gamma=0.001, random_state=8; total time=   0.0s\n",
      "[CV] END ..................C=60, gamma=0.001, random_state=8; total time=   0.0s\n",
      "[CV] END ..................C=60, gamma=0.001, random_state=8; total time=   0.0s\n",
      "[CV] END ..................C=60, gamma=0.001, random_state=8; total time=   0.0s\n",
      "[CV] END ..................C=60, gamma=0.001, random_state=8; total time=   0.0s\n",
      "[CV] END ..................C=60, gamma=0.001, random_state=9; total time=   0.0s\n",
      "[CV] END ..................C=60, gamma=0.001, random_state=9; total time=   0.0s\n",
      "[CV] END ..................C=60, gamma=0.001, random_state=9; total time=   0.0s\n",
      "[CV] END ..................C=60, gamma=0.001, random_state=9; total time=   0.0s\n",
      "[CV] END ..................C=60, gamma=0.001, random_state=9; total time=   0.0s\n",
      "[CV] END .................C=60, gamma=0.001, random_state=10; total time=   0.0s\n",
      "[CV] END .................C=60, gamma=0.001, random_state=10; total time=   0.0s\n",
      "[CV] END .................C=60, gamma=0.001, random_state=10; total time=   0.0s\n",
      "[CV] END .................C=60, gamma=0.001, random_state=10; total time=   0.0s\n",
      "[CV] END .................C=60, gamma=0.001, random_state=10; total time=   0.0s\n",
      "[CV] END .................C=60, gamma=0.001, random_state=11; total time=   0.0s\n",
      "[CV] END .................C=60, gamma=0.001, random_state=11; total time=   0.0s\n",
      "[CV] END .................C=60, gamma=0.001, random_state=11; total time=   0.0s\n",
      "[CV] END .................C=60, gamma=0.001, random_state=11; total time=   0.0s\n",
      "[CV] END .................C=60, gamma=0.001, random_state=11; total time=   0.0s\n",
      "[CV] END .................C=60, gamma=0.001, random_state=12; total time=   0.0s\n",
      "[CV] END .................C=60, gamma=0.001, random_state=12; total time=   0.0s\n",
      "[CV] END .................C=60, gamma=0.001, random_state=12; total time=   0.0s\n",
      "[CV] END .................C=60, gamma=0.001, random_state=12; total time=   0.0s\n",
      "[CV] END .................C=60, gamma=0.001, random_state=12; total time=   0.0s\n",
      "[CV] END .................C=60, gamma=0.001, random_state=13; total time=   0.0s\n",
      "[CV] END .................C=60, gamma=0.001, random_state=13; total time=   0.0s\n",
      "[CV] END .................C=60, gamma=0.001, random_state=13; total time=   0.0s\n",
      "[CV] END .................C=60, gamma=0.001, random_state=13; total time=   0.0s\n",
      "[CV] END .................C=60, gamma=0.001, random_state=13; total time=   0.0s\n",
      "[CV] END .................C=60, gamma=0.001, random_state=14; total time=   0.0s\n",
      "[CV] END .................C=60, gamma=0.001, random_state=14; total time=   0.0s\n",
      "[CV] END .................C=60, gamma=0.001, random_state=14; total time=   0.0s\n",
      "[CV] END .................C=60, gamma=0.001, random_state=14; total time=   0.0s\n",
      "[CV] END .................C=60, gamma=0.001, random_state=14; total time=   0.0s\n",
      "[CV] END .................C=60, gamma=0.001, random_state=15; total time=   0.0s\n",
      "[CV] END .................C=60, gamma=0.001, random_state=15; total time=   0.0s\n",
      "[CV] END .................C=60, gamma=0.001, random_state=15; total time=   0.0s\n",
      "[CV] END .................C=60, gamma=0.001, random_state=15; total time=   0.0s\n",
      "[CV] END .................C=60, gamma=0.001, random_state=15; total time=   0.0s\n",
      "[CV] END .................C=60, gamma=0.001, random_state=16; total time=   0.0s\n",
      "[CV] END .................C=60, gamma=0.001, random_state=16; total time=   0.0s\n",
      "[CV] END .................C=60, gamma=0.001, random_state=16; total time=   0.0s\n",
      "[CV] END .................C=60, gamma=0.001, random_state=16; total time=   0.0s\n",
      "[CV] END .................C=60, gamma=0.001, random_state=16; total time=   0.0s\n",
      "[CV] END .................C=60, gamma=0.001, random_state=17; total time=   0.0s\n",
      "[CV] END .................C=60, gamma=0.001, random_state=17; total time=   0.0s\n",
      "[CV] END .................C=60, gamma=0.001, random_state=17; total time=   0.0s\n",
      "[CV] END .................C=60, gamma=0.001, random_state=17; total time=   0.0s\n",
      "[CV] END .................C=60, gamma=0.001, random_state=17; total time=   0.0s\n",
      "[CV] END .................C=60, gamma=0.001, random_state=18; total time=   0.0s\n",
      "[CV] END .................C=60, gamma=0.001, random_state=18; total time=   0.0s\n",
      "[CV] END .................C=60, gamma=0.001, random_state=18; total time=   0.0s\n",
      "[CV] END .................C=60, gamma=0.001, random_state=18; total time=   0.0s\n",
      "[CV] END .................C=60, gamma=0.001, random_state=18; total time=   0.0s\n",
      "[CV] END .................C=60, gamma=0.001, random_state=19; total time=   0.0s\n",
      "[CV] END .................C=60, gamma=0.001, random_state=19; total time=   0.0s\n",
      "[CV] END .................C=60, gamma=0.001, random_state=19; total time=   0.0s\n",
      "[CV] END .................C=60, gamma=0.001, random_state=19; total time=   0.0s\n",
      "[CV] END .................C=60, gamma=0.001, random_state=19; total time=   0.0s\n",
      "[CV] END .................C=60, gamma=0.0001, random_state=1; total time=   0.0s\n",
      "[CV] END .................C=60, gamma=0.0001, random_state=1; total time=   0.0s\n",
      "[CV] END .................C=60, gamma=0.0001, random_state=1; total time=   0.0s\n",
      "[CV] END .................C=60, gamma=0.0001, random_state=1; total time=   0.0s\n",
      "[CV] END .................C=60, gamma=0.0001, random_state=1; total time=   0.0s\n",
      "[CV] END .................C=60, gamma=0.0001, random_state=2; total time=   0.0s\n",
      "[CV] END .................C=60, gamma=0.0001, random_state=2; total time=   0.0s\n",
      "[CV] END .................C=60, gamma=0.0001, random_state=2; total time=   0.0s\n",
      "[CV] END .................C=60, gamma=0.0001, random_state=2; total time=   0.0s\n",
      "[CV] END .................C=60, gamma=0.0001, random_state=2; total time=   0.0s\n"
     ]
    },
    {
     "name": "stdout",
     "output_type": "stream",
     "text": [
      "[CV] END .................C=60, gamma=0.0001, random_state=3; total time=   0.0s\n",
      "[CV] END .................C=60, gamma=0.0001, random_state=3; total time=   0.0s\n",
      "[CV] END .................C=60, gamma=0.0001, random_state=3; total time=   0.0s\n",
      "[CV] END .................C=60, gamma=0.0001, random_state=3; total time=   0.0s\n",
      "[CV] END .................C=60, gamma=0.0001, random_state=3; total time=   0.0s\n",
      "[CV] END .................C=60, gamma=0.0001, random_state=4; total time=   0.0s\n",
      "[CV] END .................C=60, gamma=0.0001, random_state=4; total time=   0.0s\n",
      "[CV] END .................C=60, gamma=0.0001, random_state=4; total time=   0.0s\n",
      "[CV] END .................C=60, gamma=0.0001, random_state=4; total time=   0.0s\n",
      "[CV] END .................C=60, gamma=0.0001, random_state=4; total time=   0.0s\n",
      "[CV] END .................C=60, gamma=0.0001, random_state=5; total time=   0.0s\n",
      "[CV] END .................C=60, gamma=0.0001, random_state=5; total time=   0.0s\n",
      "[CV] END .................C=60, gamma=0.0001, random_state=5; total time=   0.0s\n",
      "[CV] END .................C=60, gamma=0.0001, random_state=5; total time=   0.0s\n",
      "[CV] END .................C=60, gamma=0.0001, random_state=5; total time=   0.0s\n",
      "[CV] END .................C=60, gamma=0.0001, random_state=6; total time=   0.0s\n",
      "[CV] END .................C=60, gamma=0.0001, random_state=6; total time=   0.0s\n",
      "[CV] END .................C=60, gamma=0.0001, random_state=6; total time=   0.0s\n",
      "[CV] END .................C=60, gamma=0.0001, random_state=6; total time=   0.0s\n",
      "[CV] END .................C=60, gamma=0.0001, random_state=6; total time=   0.0s\n",
      "[CV] END .................C=60, gamma=0.0001, random_state=7; total time=   0.0s\n",
      "[CV] END .................C=60, gamma=0.0001, random_state=7; total time=   0.0s\n",
      "[CV] END .................C=60, gamma=0.0001, random_state=7; total time=   0.0s\n",
      "[CV] END .................C=60, gamma=0.0001, random_state=7; total time=   0.0s\n",
      "[CV] END .................C=60, gamma=0.0001, random_state=7; total time=   0.0s\n",
      "[CV] END .................C=60, gamma=0.0001, random_state=8; total time=   0.0s\n",
      "[CV] END .................C=60, gamma=0.0001, random_state=8; total time=   0.0s\n",
      "[CV] END .................C=60, gamma=0.0001, random_state=8; total time=   0.0s\n",
      "[CV] END .................C=60, gamma=0.0001, random_state=8; total time=   0.0s\n",
      "[CV] END .................C=60, gamma=0.0001, random_state=8; total time=   0.0s\n",
      "[CV] END .................C=60, gamma=0.0001, random_state=9; total time=   0.0s\n",
      "[CV] END .................C=60, gamma=0.0001, random_state=9; total time=   0.0s\n",
      "[CV] END .................C=60, gamma=0.0001, random_state=9; total time=   0.0s\n",
      "[CV] END .................C=60, gamma=0.0001, random_state=9; total time=   0.0s\n",
      "[CV] END .................C=60, gamma=0.0001, random_state=9; total time=   0.0s\n",
      "[CV] END ................C=60, gamma=0.0001, random_state=10; total time=   0.0s\n",
      "[CV] END ................C=60, gamma=0.0001, random_state=10; total time=   0.0s\n",
      "[CV] END ................C=60, gamma=0.0001, random_state=10; total time=   0.0s\n",
      "[CV] END ................C=60, gamma=0.0001, random_state=10; total time=   0.0s\n",
      "[CV] END ................C=60, gamma=0.0001, random_state=10; total time=   0.0s\n",
      "[CV] END ................C=60, gamma=0.0001, random_state=11; total time=   0.0s\n",
      "[CV] END ................C=60, gamma=0.0001, random_state=11; total time=   0.0s\n",
      "[CV] END ................C=60, gamma=0.0001, random_state=11; total time=   0.0s\n",
      "[CV] END ................C=60, gamma=0.0001, random_state=11; total time=   0.0s\n",
      "[CV] END ................C=60, gamma=0.0001, random_state=11; total time=   0.0s\n",
      "[CV] END ................C=60, gamma=0.0001, random_state=12; total time=   0.0s\n",
      "[CV] END ................C=60, gamma=0.0001, random_state=12; total time=   0.0s\n",
      "[CV] END ................C=60, gamma=0.0001, random_state=12; total time=   0.0s\n",
      "[CV] END ................C=60, gamma=0.0001, random_state=12; total time=   0.0s\n",
      "[CV] END ................C=60, gamma=0.0001, random_state=12; total time=   0.0s\n",
      "[CV] END ................C=60, gamma=0.0001, random_state=13; total time=   0.0s\n",
      "[CV] END ................C=60, gamma=0.0001, random_state=13; total time=   0.0s\n",
      "[CV] END ................C=60, gamma=0.0001, random_state=13; total time=   0.0s\n",
      "[CV] END ................C=60, gamma=0.0001, random_state=13; total time=   0.0s\n",
      "[CV] END ................C=60, gamma=0.0001, random_state=13; total time=   0.0s\n",
      "[CV] END ................C=60, gamma=0.0001, random_state=14; total time=   0.0s\n",
      "[CV] END ................C=60, gamma=0.0001, random_state=14; total time=   0.0s\n",
      "[CV] END ................C=60, gamma=0.0001, random_state=14; total time=   0.0s\n",
      "[CV] END ................C=60, gamma=0.0001, random_state=14; total time=   0.0s\n",
      "[CV] END ................C=60, gamma=0.0001, random_state=14; total time=   0.0s\n",
      "[CV] END ................C=60, gamma=0.0001, random_state=15; total time=   0.0s\n",
      "[CV] END ................C=60, gamma=0.0001, random_state=15; total time=   0.0s\n",
      "[CV] END ................C=60, gamma=0.0001, random_state=15; total time=   0.0s\n",
      "[CV] END ................C=60, gamma=0.0001, random_state=15; total time=   0.0s\n",
      "[CV] END ................C=60, gamma=0.0001, random_state=15; total time=   0.0s\n",
      "[CV] END ................C=60, gamma=0.0001, random_state=16; total time=   0.0s\n",
      "[CV] END ................C=60, gamma=0.0001, random_state=16; total time=   0.0s\n",
      "[CV] END ................C=60, gamma=0.0001, random_state=16; total time=   0.0s\n",
      "[CV] END ................C=60, gamma=0.0001, random_state=16; total time=   0.0s\n",
      "[CV] END ................C=60, gamma=0.0001, random_state=16; total time=   0.0s\n",
      "[CV] END ................C=60, gamma=0.0001, random_state=17; total time=   0.0s\n",
      "[CV] END ................C=60, gamma=0.0001, random_state=17; total time=   0.0s\n",
      "[CV] END ................C=60, gamma=0.0001, random_state=17; total time=   0.0s\n",
      "[CV] END ................C=60, gamma=0.0001, random_state=17; total time=   0.0s\n",
      "[CV] END ................C=60, gamma=0.0001, random_state=17; total time=   0.0s\n",
      "[CV] END ................C=60, gamma=0.0001, random_state=18; total time=   0.0s\n",
      "[CV] END ................C=60, gamma=0.0001, random_state=18; total time=   0.0s\n",
      "[CV] END ................C=60, gamma=0.0001, random_state=18; total time=   0.0s\n",
      "[CV] END ................C=60, gamma=0.0001, random_state=18; total time=   0.0s\n",
      "[CV] END ................C=60, gamma=0.0001, random_state=18; total time=   0.0s\n",
      "[CV] END ................C=60, gamma=0.0001, random_state=19; total time=   0.0s\n",
      "[CV] END ................C=60, gamma=0.0001, random_state=19; total time=   0.0s\n",
      "[CV] END ................C=60, gamma=0.0001, random_state=19; total time=   0.0s\n",
      "[CV] END ................C=60, gamma=0.0001, random_state=19; total time=   0.0s\n",
      "[CV] END ................C=60, gamma=0.0001, random_state=19; total time=   0.0s\n",
      "[CV] END ......................C=70, gamma=1, random_state=1; total time=   0.0s\n",
      "[CV] END ......................C=70, gamma=1, random_state=1; total time=   0.0s\n",
      "[CV] END ......................C=70, gamma=1, random_state=1; total time=   0.0s\n",
      "[CV] END ......................C=70, gamma=1, random_state=1; total time=   0.0s\n",
      "[CV] END ......................C=70, gamma=1, random_state=1; total time=   0.0s\n",
      "[CV] END ......................C=70, gamma=1, random_state=2; total time=   0.0s\n",
      "[CV] END ......................C=70, gamma=1, random_state=2; total time=   0.0s\n",
      "[CV] END ......................C=70, gamma=1, random_state=2; total time=   0.0s\n",
      "[CV] END ......................C=70, gamma=1, random_state=2; total time=   0.0s\n",
      "[CV] END ......................C=70, gamma=1, random_state=2; total time=   0.0s\n",
      "[CV] END ......................C=70, gamma=1, random_state=3; total time=   0.0s\n",
      "[CV] END ......................C=70, gamma=1, random_state=3; total time=   0.0s\n",
      "[CV] END ......................C=70, gamma=1, random_state=3; total time=   0.0s\n",
      "[CV] END ......................C=70, gamma=1, random_state=3; total time=   0.0s\n",
      "[CV] END ......................C=70, gamma=1, random_state=3; total time=   0.0s\n",
      "[CV] END ......................C=70, gamma=1, random_state=4; total time=   0.0s\n",
      "[CV] END ......................C=70, gamma=1, random_state=4; total time=   0.0s\n"
     ]
    },
    {
     "name": "stdout",
     "output_type": "stream",
     "text": [
      "[CV] END ......................C=70, gamma=1, random_state=4; total time=   0.0s\n",
      "[CV] END ......................C=70, gamma=1, random_state=4; total time=   0.0s\n",
      "[CV] END ......................C=70, gamma=1, random_state=4; total time=   0.0s\n",
      "[CV] END ......................C=70, gamma=1, random_state=5; total time=   0.0s\n",
      "[CV] END ......................C=70, gamma=1, random_state=5; total time=   0.0s\n",
      "[CV] END ......................C=70, gamma=1, random_state=5; total time=   0.0s\n",
      "[CV] END ......................C=70, gamma=1, random_state=5; total time=   0.0s\n",
      "[CV] END ......................C=70, gamma=1, random_state=5; total time=   0.0s\n",
      "[CV] END ......................C=70, gamma=1, random_state=6; total time=   0.0s\n",
      "[CV] END ......................C=70, gamma=1, random_state=6; total time=   0.0s\n",
      "[CV] END ......................C=70, gamma=1, random_state=6; total time=   0.0s\n",
      "[CV] END ......................C=70, gamma=1, random_state=6; total time=   0.0s\n",
      "[CV] END ......................C=70, gamma=1, random_state=6; total time=   0.0s\n",
      "[CV] END ......................C=70, gamma=1, random_state=7; total time=   0.0s\n",
      "[CV] END ......................C=70, gamma=1, random_state=7; total time=   0.0s\n",
      "[CV] END ......................C=70, gamma=1, random_state=7; total time=   0.0s\n",
      "[CV] END ......................C=70, gamma=1, random_state=7; total time=   0.0s\n",
      "[CV] END ......................C=70, gamma=1, random_state=7; total time=   0.0s\n",
      "[CV] END ......................C=70, gamma=1, random_state=8; total time=   0.0s\n",
      "[CV] END ......................C=70, gamma=1, random_state=8; total time=   0.0s\n",
      "[CV] END ......................C=70, gamma=1, random_state=8; total time=   0.0s\n",
      "[CV] END ......................C=70, gamma=1, random_state=8; total time=   0.0s\n",
      "[CV] END ......................C=70, gamma=1, random_state=8; total time=   0.0s\n",
      "[CV] END ......................C=70, gamma=1, random_state=9; total time=   0.0s\n",
      "[CV] END ......................C=70, gamma=1, random_state=9; total time=   0.0s\n",
      "[CV] END ......................C=70, gamma=1, random_state=9; total time=   0.0s\n",
      "[CV] END ......................C=70, gamma=1, random_state=9; total time=   0.0s\n",
      "[CV] END ......................C=70, gamma=1, random_state=9; total time=   0.0s\n",
      "[CV] END .....................C=70, gamma=1, random_state=10; total time=   0.0s\n",
      "[CV] END .....................C=70, gamma=1, random_state=10; total time=   0.0s\n",
      "[CV] END .....................C=70, gamma=1, random_state=10; total time=   0.0s\n",
      "[CV] END .....................C=70, gamma=1, random_state=10; total time=   0.0s\n",
      "[CV] END .....................C=70, gamma=1, random_state=10; total time=   0.0s\n",
      "[CV] END .....................C=70, gamma=1, random_state=11; total time=   0.0s\n",
      "[CV] END .....................C=70, gamma=1, random_state=11; total time=   0.0s\n",
      "[CV] END .....................C=70, gamma=1, random_state=11; total time=   0.0s\n",
      "[CV] END .....................C=70, gamma=1, random_state=11; total time=   0.0s\n",
      "[CV] END .....................C=70, gamma=1, random_state=11; total time=   0.0s\n",
      "[CV] END .....................C=70, gamma=1, random_state=12; total time=   0.0s\n",
      "[CV] END .....................C=70, gamma=1, random_state=12; total time=   0.0s\n",
      "[CV] END .....................C=70, gamma=1, random_state=12; total time=   0.0s\n",
      "[CV] END .....................C=70, gamma=1, random_state=12; total time=   0.0s\n",
      "[CV] END .....................C=70, gamma=1, random_state=12; total time=   0.0s\n",
      "[CV] END .....................C=70, gamma=1, random_state=13; total time=   0.0s\n",
      "[CV] END .....................C=70, gamma=1, random_state=13; total time=   0.0s\n",
      "[CV] END .....................C=70, gamma=1, random_state=13; total time=   0.0s\n",
      "[CV] END .....................C=70, gamma=1, random_state=13; total time=   0.0s\n",
      "[CV] END .....................C=70, gamma=1, random_state=13; total time=   0.0s\n",
      "[CV] END .....................C=70, gamma=1, random_state=14; total time=   0.0s\n",
      "[CV] END .....................C=70, gamma=1, random_state=14; total time=   0.0s\n",
      "[CV] END .....................C=70, gamma=1, random_state=14; total time=   0.0s\n",
      "[CV] END .....................C=70, gamma=1, random_state=14; total time=   0.0s\n",
      "[CV] END .....................C=70, gamma=1, random_state=14; total time=   0.0s\n",
      "[CV] END .....................C=70, gamma=1, random_state=15; total time=   0.0s\n",
      "[CV] END .....................C=70, gamma=1, random_state=15; total time=   0.0s\n",
      "[CV] END .....................C=70, gamma=1, random_state=15; total time=   0.0s\n",
      "[CV] END .....................C=70, gamma=1, random_state=15; total time=   0.0s\n",
      "[CV] END .....................C=70, gamma=1, random_state=15; total time=   0.0s\n",
      "[CV] END .....................C=70, gamma=1, random_state=16; total time=   0.0s\n",
      "[CV] END .....................C=70, gamma=1, random_state=16; total time=   0.0s\n",
      "[CV] END .....................C=70, gamma=1, random_state=16; total time=   0.0s\n",
      "[CV] END .....................C=70, gamma=1, random_state=16; total time=   0.0s\n",
      "[CV] END .....................C=70, gamma=1, random_state=16; total time=   0.0s\n",
      "[CV] END .....................C=70, gamma=1, random_state=17; total time=   0.0s\n",
      "[CV] END .....................C=70, gamma=1, random_state=17; total time=   0.0s\n",
      "[CV] END .....................C=70, gamma=1, random_state=17; total time=   0.0s\n",
      "[CV] END .....................C=70, gamma=1, random_state=17; total time=   0.0s\n",
      "[CV] END .....................C=70, gamma=1, random_state=17; total time=   0.0s\n",
      "[CV] END .....................C=70, gamma=1, random_state=18; total time=   0.0s\n",
      "[CV] END .....................C=70, gamma=1, random_state=18; total time=   0.0s\n",
      "[CV] END .....................C=70, gamma=1, random_state=18; total time=   0.0s\n",
      "[CV] END .....................C=70, gamma=1, random_state=18; total time=   0.0s\n",
      "[CV] END .....................C=70, gamma=1, random_state=18; total time=   0.0s\n",
      "[CV] END .....................C=70, gamma=1, random_state=19; total time=   0.0s\n",
      "[CV] END .....................C=70, gamma=1, random_state=19; total time=   0.0s\n",
      "[CV] END .....................C=70, gamma=1, random_state=19; total time=   0.0s\n",
      "[CV] END .....................C=70, gamma=1, random_state=19; total time=   0.0s\n",
      "[CV] END .....................C=70, gamma=1, random_state=19; total time=   0.0s\n",
      "[CV] END ....................C=70, gamma=0.1, random_state=1; total time=   0.0s\n",
      "[CV] END ....................C=70, gamma=0.1, random_state=1; total time=   0.0s\n",
      "[CV] END ....................C=70, gamma=0.1, random_state=1; total time=   0.0s\n",
      "[CV] END ....................C=70, gamma=0.1, random_state=1; total time=   0.0s\n",
      "[CV] END ....................C=70, gamma=0.1, random_state=1; total time=   0.0s\n",
      "[CV] END ....................C=70, gamma=0.1, random_state=2; total time=   0.0s\n",
      "[CV] END ....................C=70, gamma=0.1, random_state=2; total time=   0.0s\n",
      "[CV] END ....................C=70, gamma=0.1, random_state=2; total time=   0.0s\n",
      "[CV] END ....................C=70, gamma=0.1, random_state=2; total time=   0.0s\n",
      "[CV] END ....................C=70, gamma=0.1, random_state=2; total time=   0.0s\n",
      "[CV] END ....................C=70, gamma=0.1, random_state=3; total time=   0.0s\n",
      "[CV] END ....................C=70, gamma=0.1, random_state=3; total time=   0.0s\n",
      "[CV] END ....................C=70, gamma=0.1, random_state=3; total time=   0.0s\n",
      "[CV] END ....................C=70, gamma=0.1, random_state=3; total time=   0.0s\n",
      "[CV] END ....................C=70, gamma=0.1, random_state=3; total time=   0.0s\n",
      "[CV] END ....................C=70, gamma=0.1, random_state=4; total time=   0.0s\n",
      "[CV] END ....................C=70, gamma=0.1, random_state=4; total time=   0.0s\n",
      "[CV] END ....................C=70, gamma=0.1, random_state=4; total time=   0.0s\n",
      "[CV] END ....................C=70, gamma=0.1, random_state=4; total time=   0.0s\n",
      "[CV] END ....................C=70, gamma=0.1, random_state=4; total time=   0.0s\n",
      "[CV] END ....................C=70, gamma=0.1, random_state=5; total time=   0.0s\n",
      "[CV] END ....................C=70, gamma=0.1, random_state=5; total time=   0.0s\n",
      "[CV] END ....................C=70, gamma=0.1, random_state=5; total time=   0.0s\n",
      "[CV] END ....................C=70, gamma=0.1, random_state=5; total time=   0.0s\n",
      "[CV] END ....................C=70, gamma=0.1, random_state=5; total time=   0.0s\n"
     ]
    },
    {
     "name": "stdout",
     "output_type": "stream",
     "text": [
      "[CV] END ....................C=70, gamma=0.1, random_state=6; total time=   0.0s\n",
      "[CV] END ....................C=70, gamma=0.1, random_state=6; total time=   0.0s\n",
      "[CV] END ....................C=70, gamma=0.1, random_state=6; total time=   0.0s\n",
      "[CV] END ....................C=70, gamma=0.1, random_state=6; total time=   0.0s\n",
      "[CV] END ....................C=70, gamma=0.1, random_state=6; total time=   0.0s\n",
      "[CV] END ....................C=70, gamma=0.1, random_state=7; total time=   0.0s\n",
      "[CV] END ....................C=70, gamma=0.1, random_state=7; total time=   0.0s\n",
      "[CV] END ....................C=70, gamma=0.1, random_state=7; total time=   0.0s\n",
      "[CV] END ....................C=70, gamma=0.1, random_state=7; total time=   0.0s\n",
      "[CV] END ....................C=70, gamma=0.1, random_state=7; total time=   0.0s\n",
      "[CV] END ....................C=70, gamma=0.1, random_state=8; total time=   0.0s\n",
      "[CV] END ....................C=70, gamma=0.1, random_state=8; total time=   0.0s\n",
      "[CV] END ....................C=70, gamma=0.1, random_state=8; total time=   0.0s\n",
      "[CV] END ....................C=70, gamma=0.1, random_state=8; total time=   0.0s\n",
      "[CV] END ....................C=70, gamma=0.1, random_state=8; total time=   0.0s\n",
      "[CV] END ....................C=70, gamma=0.1, random_state=9; total time=   0.0s\n",
      "[CV] END ....................C=70, gamma=0.1, random_state=9; total time=   0.0s\n",
      "[CV] END ....................C=70, gamma=0.1, random_state=9; total time=   0.0s\n",
      "[CV] END ....................C=70, gamma=0.1, random_state=9; total time=   0.0s\n",
      "[CV] END ....................C=70, gamma=0.1, random_state=9; total time=   0.0s\n",
      "[CV] END ...................C=70, gamma=0.1, random_state=10; total time=   0.0s\n",
      "[CV] END ...................C=70, gamma=0.1, random_state=10; total time=   0.0s\n",
      "[CV] END ...................C=70, gamma=0.1, random_state=10; total time=   0.0s\n",
      "[CV] END ...................C=70, gamma=0.1, random_state=10; total time=   0.0s\n",
      "[CV] END ...................C=70, gamma=0.1, random_state=10; total time=   0.0s\n",
      "[CV] END ...................C=70, gamma=0.1, random_state=11; total time=   0.0s\n",
      "[CV] END ...................C=70, gamma=0.1, random_state=11; total time=   0.0s\n",
      "[CV] END ...................C=70, gamma=0.1, random_state=11; total time=   0.0s\n",
      "[CV] END ...................C=70, gamma=0.1, random_state=11; total time=   0.0s\n",
      "[CV] END ...................C=70, gamma=0.1, random_state=11; total time=   0.0s\n",
      "[CV] END ...................C=70, gamma=0.1, random_state=12; total time=   0.0s\n",
      "[CV] END ...................C=70, gamma=0.1, random_state=12; total time=   0.0s\n",
      "[CV] END ...................C=70, gamma=0.1, random_state=12; total time=   0.0s\n",
      "[CV] END ...................C=70, gamma=0.1, random_state=12; total time=   0.0s\n",
      "[CV] END ...................C=70, gamma=0.1, random_state=12; total time=   0.0s\n",
      "[CV] END ...................C=70, gamma=0.1, random_state=13; total time=   0.0s\n",
      "[CV] END ...................C=70, gamma=0.1, random_state=13; total time=   0.0s\n",
      "[CV] END ...................C=70, gamma=0.1, random_state=13; total time=   0.0s\n",
      "[CV] END ...................C=70, gamma=0.1, random_state=13; total time=   0.0s\n",
      "[CV] END ...................C=70, gamma=0.1, random_state=13; total time=   0.0s\n",
      "[CV] END ...................C=70, gamma=0.1, random_state=14; total time=   0.0s\n",
      "[CV] END ...................C=70, gamma=0.1, random_state=14; total time=   0.0s\n",
      "[CV] END ...................C=70, gamma=0.1, random_state=14; total time=   0.0s\n",
      "[CV] END ...................C=70, gamma=0.1, random_state=14; total time=   0.0s\n",
      "[CV] END ...................C=70, gamma=0.1, random_state=14; total time=   0.0s\n",
      "[CV] END ...................C=70, gamma=0.1, random_state=15; total time=   0.0s\n",
      "[CV] END ...................C=70, gamma=0.1, random_state=15; total time=   0.0s\n",
      "[CV] END ...................C=70, gamma=0.1, random_state=15; total time=   0.0s\n",
      "[CV] END ...................C=70, gamma=0.1, random_state=15; total time=   0.0s\n",
      "[CV] END ...................C=70, gamma=0.1, random_state=15; total time=   0.0s\n",
      "[CV] END ...................C=70, gamma=0.1, random_state=16; total time=   0.0s\n",
      "[CV] END ...................C=70, gamma=0.1, random_state=16; total time=   0.0s\n",
      "[CV] END ...................C=70, gamma=0.1, random_state=16; total time=   0.0s\n",
      "[CV] END ...................C=70, gamma=0.1, random_state=16; total time=   0.0s\n",
      "[CV] END ...................C=70, gamma=0.1, random_state=16; total time=   0.0s\n",
      "[CV] END ...................C=70, gamma=0.1, random_state=17; total time=   0.0s\n",
      "[CV] END ...................C=70, gamma=0.1, random_state=17; total time=   0.0s\n",
      "[CV] END ...................C=70, gamma=0.1, random_state=17; total time=   0.0s\n",
      "[CV] END ...................C=70, gamma=0.1, random_state=17; total time=   0.0s\n",
      "[CV] END ...................C=70, gamma=0.1, random_state=17; total time=   0.0s\n",
      "[CV] END ...................C=70, gamma=0.1, random_state=18; total time=   0.0s\n",
      "[CV] END ...................C=70, gamma=0.1, random_state=18; total time=   0.0s\n",
      "[CV] END ...................C=70, gamma=0.1, random_state=18; total time=   0.0s\n",
      "[CV] END ...................C=70, gamma=0.1, random_state=18; total time=   0.0s\n",
      "[CV] END ...................C=70, gamma=0.1, random_state=18; total time=   0.0s\n",
      "[CV] END ...................C=70, gamma=0.1, random_state=19; total time=   0.0s\n",
      "[CV] END ...................C=70, gamma=0.1, random_state=19; total time=   0.0s\n",
      "[CV] END ...................C=70, gamma=0.1, random_state=19; total time=   0.0s\n",
      "[CV] END ...................C=70, gamma=0.1, random_state=19; total time=   0.0s\n",
      "[CV] END ...................C=70, gamma=0.1, random_state=19; total time=   0.0s\n",
      "[CV] END ...................C=70, gamma=0.01, random_state=1; total time=   0.0s\n",
      "[CV] END ...................C=70, gamma=0.01, random_state=1; total time=   0.0s\n",
      "[CV] END ...................C=70, gamma=0.01, random_state=1; total time=   0.0s\n",
      "[CV] END ...................C=70, gamma=0.01, random_state=1; total time=   0.0s\n",
      "[CV] END ...................C=70, gamma=0.01, random_state=1; total time=   0.0s\n",
      "[CV] END ...................C=70, gamma=0.01, random_state=2; total time=   0.0s\n",
      "[CV] END ...................C=70, gamma=0.01, random_state=2; total time=   0.0s\n",
      "[CV] END ...................C=70, gamma=0.01, random_state=2; total time=   0.0s\n",
      "[CV] END ...................C=70, gamma=0.01, random_state=2; total time=   0.0s\n",
      "[CV] END ...................C=70, gamma=0.01, random_state=2; total time=   0.0s\n",
      "[CV] END ...................C=70, gamma=0.01, random_state=3; total time=   0.0s\n",
      "[CV] END ...................C=70, gamma=0.01, random_state=3; total time=   0.0s\n",
      "[CV] END ...................C=70, gamma=0.01, random_state=3; total time=   0.0s\n",
      "[CV] END ...................C=70, gamma=0.01, random_state=3; total time=   0.0s\n",
      "[CV] END ...................C=70, gamma=0.01, random_state=3; total time=   0.0s\n",
      "[CV] END ...................C=70, gamma=0.01, random_state=4; total time=   0.0s\n",
      "[CV] END ...................C=70, gamma=0.01, random_state=4; total time=   0.0s\n",
      "[CV] END ...................C=70, gamma=0.01, random_state=4; total time=   0.0s\n",
      "[CV] END ...................C=70, gamma=0.01, random_state=4; total time=   0.0s\n",
      "[CV] END ...................C=70, gamma=0.01, random_state=4; total time=   0.0s\n",
      "[CV] END ...................C=70, gamma=0.01, random_state=5; total time=   0.0s\n",
      "[CV] END ...................C=70, gamma=0.01, random_state=5; total time=   0.0s\n",
      "[CV] END ...................C=70, gamma=0.01, random_state=5; total time=   0.0s\n",
      "[CV] END ...................C=70, gamma=0.01, random_state=5; total time=   0.0s\n",
      "[CV] END ...................C=70, gamma=0.01, random_state=5; total time=   0.0s\n",
      "[CV] END ...................C=70, gamma=0.01, random_state=6; total time=   0.0s\n",
      "[CV] END ...................C=70, gamma=0.01, random_state=6; total time=   0.0s\n",
      "[CV] END ...................C=70, gamma=0.01, random_state=6; total time=   0.0s\n",
      "[CV] END ...................C=70, gamma=0.01, random_state=6; total time=   0.0s\n",
      "[CV] END ...................C=70, gamma=0.01, random_state=6; total time=   0.0s\n",
      "[CV] END ...................C=70, gamma=0.01, random_state=7; total time=   0.0s\n",
      "[CV] END ...................C=70, gamma=0.01, random_state=7; total time=   0.0s\n",
      "[CV] END ...................C=70, gamma=0.01, random_state=7; total time=   0.0s\n",
      "[CV] END ...................C=70, gamma=0.01, random_state=7; total time=   0.0s\n"
     ]
    },
    {
     "name": "stdout",
     "output_type": "stream",
     "text": [
      "[CV] END ...................C=70, gamma=0.01, random_state=7; total time=   0.0s\n",
      "[CV] END ...................C=70, gamma=0.01, random_state=8; total time=   0.0s\n",
      "[CV] END ...................C=70, gamma=0.01, random_state=8; total time=   0.0s\n",
      "[CV] END ...................C=70, gamma=0.01, random_state=8; total time=   0.0s\n",
      "[CV] END ...................C=70, gamma=0.01, random_state=8; total time=   0.0s\n",
      "[CV] END ...................C=70, gamma=0.01, random_state=8; total time=   0.0s\n",
      "[CV] END ...................C=70, gamma=0.01, random_state=9; total time=   0.0s\n",
      "[CV] END ...................C=70, gamma=0.01, random_state=9; total time=   0.0s\n",
      "[CV] END ...................C=70, gamma=0.01, random_state=9; total time=   0.0s\n",
      "[CV] END ...................C=70, gamma=0.01, random_state=9; total time=   0.0s\n",
      "[CV] END ...................C=70, gamma=0.01, random_state=9; total time=   0.0s\n",
      "[CV] END ..................C=70, gamma=0.01, random_state=10; total time=   0.0s\n",
      "[CV] END ..................C=70, gamma=0.01, random_state=10; total time=   0.0s\n",
      "[CV] END ..................C=70, gamma=0.01, random_state=10; total time=   0.0s\n",
      "[CV] END ..................C=70, gamma=0.01, random_state=10; total time=   0.0s\n",
      "[CV] END ..................C=70, gamma=0.01, random_state=10; total time=   0.0s\n",
      "[CV] END ..................C=70, gamma=0.01, random_state=11; total time=   0.0s\n",
      "[CV] END ..................C=70, gamma=0.01, random_state=11; total time=   0.0s\n",
      "[CV] END ..................C=70, gamma=0.01, random_state=11; total time=   0.0s\n",
      "[CV] END ..................C=70, gamma=0.01, random_state=11; total time=   0.0s\n",
      "[CV] END ..................C=70, gamma=0.01, random_state=11; total time=   0.0s\n",
      "[CV] END ..................C=70, gamma=0.01, random_state=12; total time=   0.0s\n",
      "[CV] END ..................C=70, gamma=0.01, random_state=12; total time=   0.0s\n",
      "[CV] END ..................C=70, gamma=0.01, random_state=12; total time=   0.0s\n",
      "[CV] END ..................C=70, gamma=0.01, random_state=12; total time=   0.0s\n",
      "[CV] END ..................C=70, gamma=0.01, random_state=12; total time=   0.0s\n",
      "[CV] END ..................C=70, gamma=0.01, random_state=13; total time=   0.0s\n",
      "[CV] END ..................C=70, gamma=0.01, random_state=13; total time=   0.0s\n",
      "[CV] END ..................C=70, gamma=0.01, random_state=13; total time=   0.0s\n",
      "[CV] END ..................C=70, gamma=0.01, random_state=13; total time=   0.0s\n",
      "[CV] END ..................C=70, gamma=0.01, random_state=13; total time=   0.0s\n",
      "[CV] END ..................C=70, gamma=0.01, random_state=14; total time=   0.0s\n",
      "[CV] END ..................C=70, gamma=0.01, random_state=14; total time=   0.0s\n",
      "[CV] END ..................C=70, gamma=0.01, random_state=14; total time=   0.0s\n",
      "[CV] END ..................C=70, gamma=0.01, random_state=14; total time=   0.0s\n",
      "[CV] END ..................C=70, gamma=0.01, random_state=14; total time=   0.0s\n",
      "[CV] END ..................C=70, gamma=0.01, random_state=15; total time=   0.0s\n",
      "[CV] END ..................C=70, gamma=0.01, random_state=15; total time=   0.0s\n",
      "[CV] END ..................C=70, gamma=0.01, random_state=15; total time=   0.0s\n",
      "[CV] END ..................C=70, gamma=0.01, random_state=15; total time=   0.0s\n",
      "[CV] END ..................C=70, gamma=0.01, random_state=15; total time=   0.0s\n",
      "[CV] END ..................C=70, gamma=0.01, random_state=16; total time=   0.0s\n",
      "[CV] END ..................C=70, gamma=0.01, random_state=16; total time=   0.0s\n",
      "[CV] END ..................C=70, gamma=0.01, random_state=16; total time=   0.0s\n",
      "[CV] END ..................C=70, gamma=0.01, random_state=16; total time=   0.0s\n",
      "[CV] END ..................C=70, gamma=0.01, random_state=16; total time=   0.0s\n",
      "[CV] END ..................C=70, gamma=0.01, random_state=17; total time=   0.0s\n",
      "[CV] END ..................C=70, gamma=0.01, random_state=17; total time=   0.1s\n",
      "[CV] END ..................C=70, gamma=0.01, random_state=17; total time=   0.0s\n",
      "[CV] END ..................C=70, gamma=0.01, random_state=17; total time=   0.0s\n",
      "[CV] END ..................C=70, gamma=0.01, random_state=17; total time=   0.0s\n",
      "[CV] END ..................C=70, gamma=0.01, random_state=18; total time=   0.0s\n",
      "[CV] END ..................C=70, gamma=0.01, random_state=18; total time=   0.0s\n",
      "[CV] END ..................C=70, gamma=0.01, random_state=18; total time=   0.0s\n",
      "[CV] END ..................C=70, gamma=0.01, random_state=18; total time=   0.0s\n",
      "[CV] END ..................C=70, gamma=0.01, random_state=18; total time=   0.0s\n",
      "[CV] END ..................C=70, gamma=0.01, random_state=19; total time=   0.0s\n",
      "[CV] END ..................C=70, gamma=0.01, random_state=19; total time=   0.0s\n",
      "[CV] END ..................C=70, gamma=0.01, random_state=19; total time=   0.0s\n",
      "[CV] END ..................C=70, gamma=0.01, random_state=19; total time=   0.0s\n",
      "[CV] END ..................C=70, gamma=0.01, random_state=19; total time=   0.0s\n",
      "[CV] END ..................C=70, gamma=0.001, random_state=1; total time=   0.0s\n",
      "[CV] END ..................C=70, gamma=0.001, random_state=1; total time=   0.0s\n",
      "[CV] END ..................C=70, gamma=0.001, random_state=1; total time=   0.0s\n",
      "[CV] END ..................C=70, gamma=0.001, random_state=1; total time=   0.0s\n",
      "[CV] END ..................C=70, gamma=0.001, random_state=1; total time=   0.0s\n",
      "[CV] END ..................C=70, gamma=0.001, random_state=2; total time=   0.0s\n",
      "[CV] END ..................C=70, gamma=0.001, random_state=2; total time=   0.0s\n",
      "[CV] END ..................C=70, gamma=0.001, random_state=2; total time=   0.0s\n",
      "[CV] END ..................C=70, gamma=0.001, random_state=2; total time=   0.0s\n",
      "[CV] END ..................C=70, gamma=0.001, random_state=2; total time=   0.0s\n",
      "[CV] END ..................C=70, gamma=0.001, random_state=3; total time=   0.0s\n",
      "[CV] END ..................C=70, gamma=0.001, random_state=3; total time=   0.0s\n",
      "[CV] END ..................C=70, gamma=0.001, random_state=3; total time=   0.0s\n",
      "[CV] END ..................C=70, gamma=0.001, random_state=3; total time=   0.0s\n",
      "[CV] END ..................C=70, gamma=0.001, random_state=3; total time=   0.0s\n",
      "[CV] END ..................C=70, gamma=0.001, random_state=4; total time=   0.0s\n",
      "[CV] END ..................C=70, gamma=0.001, random_state=4; total time=   0.0s\n",
      "[CV] END ..................C=70, gamma=0.001, random_state=4; total time=   0.0s\n",
      "[CV] END ..................C=70, gamma=0.001, random_state=4; total time=   0.0s\n",
      "[CV] END ..................C=70, gamma=0.001, random_state=4; total time=   0.0s\n",
      "[CV] END ..................C=70, gamma=0.001, random_state=5; total time=   0.0s\n",
      "[CV] END ..................C=70, gamma=0.001, random_state=5; total time=   0.0s\n",
      "[CV] END ..................C=70, gamma=0.001, random_state=5; total time=   0.0s\n",
      "[CV] END ..................C=70, gamma=0.001, random_state=5; total time=   0.0s\n",
      "[CV] END ..................C=70, gamma=0.001, random_state=5; total time=   0.0s\n",
      "[CV] END ..................C=70, gamma=0.001, random_state=6; total time=   0.0s\n",
      "[CV] END ..................C=70, gamma=0.001, random_state=6; total time=   0.0s\n",
      "[CV] END ..................C=70, gamma=0.001, random_state=6; total time=   0.0s\n",
      "[CV] END ..................C=70, gamma=0.001, random_state=6; total time=   0.0s\n",
      "[CV] END ..................C=70, gamma=0.001, random_state=6; total time=   0.0s\n",
      "[CV] END ..................C=70, gamma=0.001, random_state=7; total time=   0.0s\n",
      "[CV] END ..................C=70, gamma=0.001, random_state=7; total time=   0.0s\n",
      "[CV] END ..................C=70, gamma=0.001, random_state=7; total time=   0.0s\n",
      "[CV] END ..................C=70, gamma=0.001, random_state=7; total time=   0.0s\n",
      "[CV] END ..................C=70, gamma=0.001, random_state=7; total time=   0.0s\n",
      "[CV] END ..................C=70, gamma=0.001, random_state=8; total time=   0.0s\n",
      "[CV] END ..................C=70, gamma=0.001, random_state=8; total time=   0.0s\n",
      "[CV] END ..................C=70, gamma=0.001, random_state=8; total time=   0.0s\n",
      "[CV] END ..................C=70, gamma=0.001, random_state=8; total time=   0.0s\n",
      "[CV] END ..................C=70, gamma=0.001, random_state=8; total time=   0.0s\n",
      "[CV] END ..................C=70, gamma=0.001, random_state=9; total time=   0.0s\n"
     ]
    },
    {
     "name": "stdout",
     "output_type": "stream",
     "text": [
      "[CV] END ..................C=70, gamma=0.001, random_state=9; total time=   0.0s\n",
      "[CV] END ..................C=70, gamma=0.001, random_state=9; total time=   0.0s\n",
      "[CV] END ..................C=70, gamma=0.001, random_state=9; total time=   0.0s\n",
      "[CV] END ..................C=70, gamma=0.001, random_state=9; total time=   0.0s\n",
      "[CV] END .................C=70, gamma=0.001, random_state=10; total time=   0.0s\n",
      "[CV] END .................C=70, gamma=0.001, random_state=10; total time=   0.0s\n",
      "[CV] END .................C=70, gamma=0.001, random_state=10; total time=   0.0s\n",
      "[CV] END .................C=70, gamma=0.001, random_state=10; total time=   0.0s\n",
      "[CV] END .................C=70, gamma=0.001, random_state=10; total time=   0.0s\n",
      "[CV] END .................C=70, gamma=0.001, random_state=11; total time=   0.0s\n",
      "[CV] END .................C=70, gamma=0.001, random_state=11; total time=   0.0s\n",
      "[CV] END .................C=70, gamma=0.001, random_state=11; total time=   0.0s\n",
      "[CV] END .................C=70, gamma=0.001, random_state=11; total time=   0.0s\n",
      "[CV] END .................C=70, gamma=0.001, random_state=11; total time=   0.0s\n",
      "[CV] END .................C=70, gamma=0.001, random_state=12; total time=   0.0s\n",
      "[CV] END .................C=70, gamma=0.001, random_state=12; total time=   0.0s\n",
      "[CV] END .................C=70, gamma=0.001, random_state=12; total time=   0.0s\n",
      "[CV] END .................C=70, gamma=0.001, random_state=12; total time=   0.0s\n",
      "[CV] END .................C=70, gamma=0.001, random_state=12; total time=   0.0s\n",
      "[CV] END .................C=70, gamma=0.001, random_state=13; total time=   0.1s\n",
      "[CV] END .................C=70, gamma=0.001, random_state=13; total time=   0.0s\n",
      "[CV] END .................C=70, gamma=0.001, random_state=13; total time=   0.0s\n",
      "[CV] END .................C=70, gamma=0.001, random_state=13; total time=   0.0s\n",
      "[CV] END .................C=70, gamma=0.001, random_state=13; total time=   0.0s\n",
      "[CV] END .................C=70, gamma=0.001, random_state=14; total time=   0.0s\n",
      "[CV] END .................C=70, gamma=0.001, random_state=14; total time=   0.0s\n",
      "[CV] END .................C=70, gamma=0.001, random_state=14; total time=   0.0s\n",
      "[CV] END .................C=70, gamma=0.001, random_state=14; total time=   0.0s\n",
      "[CV] END .................C=70, gamma=0.001, random_state=14; total time=   0.0s\n",
      "[CV] END .................C=70, gamma=0.001, random_state=15; total time=   0.0s\n",
      "[CV] END .................C=70, gamma=0.001, random_state=15; total time=   0.0s\n",
      "[CV] END .................C=70, gamma=0.001, random_state=15; total time=   0.0s\n",
      "[CV] END .................C=70, gamma=0.001, random_state=15; total time=   0.0s\n",
      "[CV] END .................C=70, gamma=0.001, random_state=15; total time=   0.0s\n",
      "[CV] END .................C=70, gamma=0.001, random_state=16; total time=   0.0s\n",
      "[CV] END .................C=70, gamma=0.001, random_state=16; total time=   0.0s\n",
      "[CV] END .................C=70, gamma=0.001, random_state=16; total time=   0.0s\n",
      "[CV] END .................C=70, gamma=0.001, random_state=16; total time=   0.0s\n",
      "[CV] END .................C=70, gamma=0.001, random_state=16; total time=   0.0s\n",
      "[CV] END .................C=70, gamma=0.001, random_state=17; total time=   0.0s\n",
      "[CV] END .................C=70, gamma=0.001, random_state=17; total time=   0.0s\n",
      "[CV] END .................C=70, gamma=0.001, random_state=17; total time=   0.0s\n",
      "[CV] END .................C=70, gamma=0.001, random_state=17; total time=   0.0s\n",
      "[CV] END .................C=70, gamma=0.001, random_state=17; total time=   0.0s\n",
      "[CV] END .................C=70, gamma=0.001, random_state=18; total time=   0.0s\n",
      "[CV] END .................C=70, gamma=0.001, random_state=18; total time=   0.0s\n",
      "[CV] END .................C=70, gamma=0.001, random_state=18; total time=   0.0s\n",
      "[CV] END .................C=70, gamma=0.001, random_state=18; total time=   0.0s\n",
      "[CV] END .................C=70, gamma=0.001, random_state=18; total time=   0.0s\n",
      "[CV] END .................C=70, gamma=0.001, random_state=19; total time=   0.0s\n",
      "[CV] END .................C=70, gamma=0.001, random_state=19; total time=   0.0s\n",
      "[CV] END .................C=70, gamma=0.001, random_state=19; total time=   0.0s\n",
      "[CV] END .................C=70, gamma=0.001, random_state=19; total time=   0.0s\n",
      "[CV] END .................C=70, gamma=0.001, random_state=19; total time=   0.0s\n",
      "[CV] END .................C=70, gamma=0.0001, random_state=1; total time=   0.0s\n",
      "[CV] END .................C=70, gamma=0.0001, random_state=1; total time=   0.0s\n",
      "[CV] END .................C=70, gamma=0.0001, random_state=1; total time=   0.0s\n",
      "[CV] END .................C=70, gamma=0.0001, random_state=1; total time=   0.0s\n",
      "[CV] END .................C=70, gamma=0.0001, random_state=1; total time=   0.0s\n",
      "[CV] END .................C=70, gamma=0.0001, random_state=2; total time=   0.0s\n",
      "[CV] END .................C=70, gamma=0.0001, random_state=2; total time=   0.0s\n",
      "[CV] END .................C=70, gamma=0.0001, random_state=2; total time=   0.0s\n",
      "[CV] END .................C=70, gamma=0.0001, random_state=2; total time=   0.0s\n",
      "[CV] END .................C=70, gamma=0.0001, random_state=2; total time=   0.0s\n",
      "[CV] END .................C=70, gamma=0.0001, random_state=3; total time=   0.0s\n",
      "[CV] END .................C=70, gamma=0.0001, random_state=3; total time=   0.0s\n",
      "[CV] END .................C=70, gamma=0.0001, random_state=3; total time=   0.0s\n",
      "[CV] END .................C=70, gamma=0.0001, random_state=3; total time=   0.0s\n",
      "[CV] END .................C=70, gamma=0.0001, random_state=3; total time=   0.0s\n",
      "[CV] END .................C=70, gamma=0.0001, random_state=4; total time=   0.0s\n",
      "[CV] END .................C=70, gamma=0.0001, random_state=4; total time=   0.0s\n",
      "[CV] END .................C=70, gamma=0.0001, random_state=4; total time=   0.0s\n",
      "[CV] END .................C=70, gamma=0.0001, random_state=4; total time=   0.0s\n",
      "[CV] END .................C=70, gamma=0.0001, random_state=4; total time=   0.0s\n",
      "[CV] END .................C=70, gamma=0.0001, random_state=5; total time=   0.0s\n",
      "[CV] END .................C=70, gamma=0.0001, random_state=5; total time=   0.0s\n",
      "[CV] END .................C=70, gamma=0.0001, random_state=5; total time=   0.0s\n",
      "[CV] END .................C=70, gamma=0.0001, random_state=5; total time=   0.0s\n",
      "[CV] END .................C=70, gamma=0.0001, random_state=5; total time=   0.0s\n",
      "[CV] END .................C=70, gamma=0.0001, random_state=6; total time=   0.0s\n",
      "[CV] END .................C=70, gamma=0.0001, random_state=6; total time=   0.0s\n",
      "[CV] END .................C=70, gamma=0.0001, random_state=6; total time=   0.0s\n",
      "[CV] END .................C=70, gamma=0.0001, random_state=6; total time=   0.0s\n",
      "[CV] END .................C=70, gamma=0.0001, random_state=6; total time=   0.0s\n",
      "[CV] END .................C=70, gamma=0.0001, random_state=7; total time=   0.0s\n",
      "[CV] END .................C=70, gamma=0.0001, random_state=7; total time=   0.0s\n",
      "[CV] END .................C=70, gamma=0.0001, random_state=7; total time=   0.0s\n",
      "[CV] END .................C=70, gamma=0.0001, random_state=7; total time=   0.0s\n",
      "[CV] END .................C=70, gamma=0.0001, random_state=7; total time=   0.0s\n",
      "[CV] END .................C=70, gamma=0.0001, random_state=8; total time=   0.0s\n",
      "[CV] END .................C=70, gamma=0.0001, random_state=8; total time=   0.0s\n",
      "[CV] END .................C=70, gamma=0.0001, random_state=8; total time=   0.0s\n",
      "[CV] END .................C=70, gamma=0.0001, random_state=8; total time=   0.0s\n",
      "[CV] END .................C=70, gamma=0.0001, random_state=8; total time=   0.0s\n",
      "[CV] END .................C=70, gamma=0.0001, random_state=9; total time=   0.0s\n",
      "[CV] END .................C=70, gamma=0.0001, random_state=9; total time=   0.0s\n",
      "[CV] END .................C=70, gamma=0.0001, random_state=9; total time=   0.0s\n",
      "[CV] END .................C=70, gamma=0.0001, random_state=9; total time=   0.0s\n",
      "[CV] END .................C=70, gamma=0.0001, random_state=9; total time=   0.0s\n",
      "[CV] END ................C=70, gamma=0.0001, random_state=10; total time=   0.0s\n",
      "[CV] END ................C=70, gamma=0.0001, random_state=10; total time=   0.0s\n",
      "[CV] END ................C=70, gamma=0.0001, random_state=10; total time=   0.0s\n"
     ]
    },
    {
     "name": "stdout",
     "output_type": "stream",
     "text": [
      "[CV] END ................C=70, gamma=0.0001, random_state=10; total time=   0.0s\n",
      "[CV] END ................C=70, gamma=0.0001, random_state=10; total time=   0.0s\n",
      "[CV] END ................C=70, gamma=0.0001, random_state=11; total time=   0.0s\n",
      "[CV] END ................C=70, gamma=0.0001, random_state=11; total time=   0.0s\n",
      "[CV] END ................C=70, gamma=0.0001, random_state=11; total time=   0.0s\n",
      "[CV] END ................C=70, gamma=0.0001, random_state=11; total time=   0.0s\n",
      "[CV] END ................C=70, gamma=0.0001, random_state=11; total time=   0.0s\n",
      "[CV] END ................C=70, gamma=0.0001, random_state=12; total time=   0.0s\n",
      "[CV] END ................C=70, gamma=0.0001, random_state=12; total time=   0.0s\n",
      "[CV] END ................C=70, gamma=0.0001, random_state=12; total time=   0.0s\n",
      "[CV] END ................C=70, gamma=0.0001, random_state=12; total time=   0.0s\n",
      "[CV] END ................C=70, gamma=0.0001, random_state=12; total time=   0.0s\n",
      "[CV] END ................C=70, gamma=0.0001, random_state=13; total time=   0.0s\n",
      "[CV] END ................C=70, gamma=0.0001, random_state=13; total time=   0.0s\n",
      "[CV] END ................C=70, gamma=0.0001, random_state=13; total time=   0.0s\n",
      "[CV] END ................C=70, gamma=0.0001, random_state=13; total time=   0.0s\n",
      "[CV] END ................C=70, gamma=0.0001, random_state=13; total time=   0.0s\n",
      "[CV] END ................C=70, gamma=0.0001, random_state=14; total time=   0.0s\n",
      "[CV] END ................C=70, gamma=0.0001, random_state=14; total time=   0.0s\n",
      "[CV] END ................C=70, gamma=0.0001, random_state=14; total time=   0.0s\n",
      "[CV] END ................C=70, gamma=0.0001, random_state=14; total time=   0.0s\n",
      "[CV] END ................C=70, gamma=0.0001, random_state=14; total time=   0.0s\n",
      "[CV] END ................C=70, gamma=0.0001, random_state=15; total time=   0.0s\n",
      "[CV] END ................C=70, gamma=0.0001, random_state=15; total time=   0.0s\n",
      "[CV] END ................C=70, gamma=0.0001, random_state=15; total time=   0.0s\n",
      "[CV] END ................C=70, gamma=0.0001, random_state=15; total time=   0.0s\n",
      "[CV] END ................C=70, gamma=0.0001, random_state=15; total time=   0.0s\n",
      "[CV] END ................C=70, gamma=0.0001, random_state=16; total time=   0.0s\n",
      "[CV] END ................C=70, gamma=0.0001, random_state=16; total time=   0.0s\n",
      "[CV] END ................C=70, gamma=0.0001, random_state=16; total time=   0.0s\n",
      "[CV] END ................C=70, gamma=0.0001, random_state=16; total time=   0.0s\n",
      "[CV] END ................C=70, gamma=0.0001, random_state=16; total time=   0.0s\n",
      "[CV] END ................C=70, gamma=0.0001, random_state=17; total time=   0.0s\n",
      "[CV] END ................C=70, gamma=0.0001, random_state=17; total time=   0.0s\n",
      "[CV] END ................C=70, gamma=0.0001, random_state=17; total time=   0.0s\n",
      "[CV] END ................C=70, gamma=0.0001, random_state=17; total time=   0.0s\n",
      "[CV] END ................C=70, gamma=0.0001, random_state=17; total time=   0.0s\n",
      "[CV] END ................C=70, gamma=0.0001, random_state=18; total time=   0.0s\n",
      "[CV] END ................C=70, gamma=0.0001, random_state=18; total time=   0.0s\n",
      "[CV] END ................C=70, gamma=0.0001, random_state=18; total time=   0.0s\n",
      "[CV] END ................C=70, gamma=0.0001, random_state=18; total time=   0.0s\n",
      "[CV] END ................C=70, gamma=0.0001, random_state=18; total time=   0.0s\n",
      "[CV] END ................C=70, gamma=0.0001, random_state=19; total time=   0.0s\n",
      "[CV] END ................C=70, gamma=0.0001, random_state=19; total time=   0.0s\n",
      "[CV] END ................C=70, gamma=0.0001, random_state=19; total time=   0.0s\n",
      "[CV] END ................C=70, gamma=0.0001, random_state=19; total time=   0.0s\n",
      "[CV] END ................C=70, gamma=0.0001, random_state=19; total time=   0.0s\n"
     ]
    },
    {
     "data": {
      "text/plain": [
       "GridSearchCV(cv=5, estimator=SVC(),\n",
       "             param_grid={'C': [0.1, 5, 10, 50, 60, 70],\n",
       "                         'gamma': [1, 0.1, 0.01, 0.001, 0.0001],\n",
       "                         'random_state': [1, 2, 3, 4, 5, 6, 7, 8, 9, 10, 11, 12,\n",
       "                                          13, 14, 15, 16, 17, 18, 19]},\n",
       "             scoring='f1', verbose=2)"
      ]
     },
     "execution_count": 30,
     "metadata": {},
     "output_type": "execute_result"
    }
   ],
   "source": [
    "from sklearn.model_selection import GridSearchCV\n",
    "\n",
    "# defining parameter range\n",
    "param_grid = {'C': [0.1, 5, 10,50,60,70],\n",
    "              'gamma': [1, 0.1, 0.01, 0.001, 0.0001],\n",
    "             'random_state':(list(range(1, 20)))}\n",
    "model=SVC()\n",
    "grid = GridSearchCV(model, param_grid, refit = True, verbose = 2,scoring='f1',cv=5)\n",
    "\n",
    "# fitting the model for grid search\n",
    "grid.fit(X,y)"
   ]
  },
  {
   "cell_type": "code",
   "execution_count": 31,
   "metadata": {
    "colab": {
     "base_uri": "https://localhost:8080/"
    },
    "collapsed": true,
    "executionInfo": {
     "elapsed": 442,
     "status": "ok",
     "timestamp": 1642345008442,
     "user": {
      "displayName": "Shubhangi Sakarkar",
      "photoUrl": "https://lh3.googleusercontent.com/a-/AOh14GjiJriRrUWKSeoxmYnVoL2uz2i6E3RLOwZgeqHG=s64",
      "userId": "12180749557274197061"
     },
     "user_tz": -330
    },
    "id": "H1VSFR7QtV62",
    "outputId": "dc9b953c-e8f3-42e7-8a99-9ca5bb4cda37"
   },
   "outputs": [
    {
     "name": "stdout",
     "output_type": "stream",
     "text": [
      "{'C': 5, 'gamma': 0.1, 'random_state': 1}\n"
     ]
    }
   ],
   "source": [
    "# print best parameter after tuning\n",
    "print(grid.best_params_)"
   ]
  },
  {
   "cell_type": "code",
   "execution_count": 32,
   "metadata": {
    "id": "9IzC9tpjtV65"
   },
   "outputs": [],
   "source": [
    "#clf=SVC(C=100, gamma=0.001,random_state=42) ##0.1\n",
    "clf=SVC(C=5, gamma=0.1,random_state=1) ##0.1"
   ]
  },
  {
   "cell_type": "code",
   "execution_count": 33,
   "metadata": {
    "colab": {
     "base_uri": "https://localhost:8080/"
    },
    "collapsed": true,
    "executionInfo": {
     "elapsed": 521,
     "status": "ok",
     "timestamp": 1642345069987,
     "user": {
      "displayName": "Shubhangi Sakarkar",
      "photoUrl": "https://lh3.googleusercontent.com/a-/AOh14GjiJriRrUWKSeoxmYnVoL2uz2i6E3RLOwZgeqHG=s64",
      "userId": "12180749557274197061"
     },
     "user_tz": -330
    },
    "id": "ZeyABB5ntV7V",
    "outputId": "65193651-7bb1-4828-a19e-0c6e9b6db02d"
   },
   "outputs": [
    {
     "data": {
      "text/plain": [
       "SVC(C=5, gamma=0.1, random_state=1)"
      ]
     },
     "execution_count": 33,
     "metadata": {},
     "output_type": "execute_result"
    }
   ],
   "source": [
    "clf.fit(X_smote, y_smote)"
   ]
  },
  {
   "cell_type": "code",
   "execution_count": 34,
   "metadata": {
    "id": "L0miAUmWtV7X"
   },
   "outputs": [],
   "source": [
    "y_clf=clf.predict(X_test)"
   ]
  },
  {
   "cell_type": "code",
   "execution_count": 35,
   "metadata": {
    "collapsed": true
   },
   "outputs": [
    {
     "data": {
      "text/plain": [
       "0.7886178861788617"
      ]
     },
     "execution_count": 35,
     "metadata": {},
     "output_type": "execute_result"
    }
   ],
   "source": [
    "accuracy_score(y_test,y_clf)"
   ]
  },
  {
   "cell_type": "code",
   "execution_count": 36,
   "metadata": {
    "colab": {
     "base_uri": "https://localhost:8080/"
    },
    "collapsed": true,
    "executionInfo": {
     "elapsed": 415,
     "status": "ok",
     "timestamp": 1642345155382,
     "user": {
      "displayName": "Shubhangi Sakarkar",
      "photoUrl": "https://lh3.googleusercontent.com/a-/AOh14GjiJriRrUWKSeoxmYnVoL2uz2i6E3RLOwZgeqHG=s64",
      "userId": "12180749557274197061"
     },
     "user_tz": -330
    },
    "id": "gckZi4TCtV7a",
    "outputId": "439d4dd1-ca30-4a78-81a0-9c8f01ca3943"
   },
   "outputs": [
    {
     "data": {
      "text/plain": [
       "0.8645833333333334"
      ]
     },
     "execution_count": 36,
     "metadata": {},
     "output_type": "execute_result"
    }
   ],
   "source": [
    "f1=f1_score(y_test,y_clf)\n",
    "f1"
   ]
  },
  {
   "cell_type": "code",
   "execution_count": 37,
   "metadata": {
    "colab": {
     "base_uri": "https://localhost:8080/"
    },
    "collapsed": true,
    "executionInfo": {
     "elapsed": 5,
     "status": "ok",
     "timestamp": 1642345076069,
     "user": {
      "displayName": "Shubhangi Sakarkar",
      "photoUrl": "https://lh3.googleusercontent.com/a-/AOh14GjiJriRrUWKSeoxmYnVoL2uz2i6E3RLOwZgeqHG=s64",
      "userId": "12180749557274197061"
     },
     "user_tz": -330
    },
    "id": "PYEkLS39tV7Y",
    "outputId": "0cf18d8d-9e31-47a6-8224-a28c79a79ea3"
   },
   "outputs": [
    {
     "name": "stdout",
     "output_type": "stream",
     "text": [
      "              precision    recall  f1-score   support\n",
      "\n",
      "           0       0.54      0.50      0.52        28\n",
      "           1       0.86      0.87      0.86        95\n",
      "\n",
      "    accuracy                           0.79       123\n",
      "   macro avg       0.70      0.69      0.69       123\n",
      "weighted avg       0.78      0.79      0.79       123\n",
      "\n"
     ]
    }
   ],
   "source": [
    "print(classification_report(y_test,y_clf))"
   ]
  },
  {
   "cell_type": "code",
   "execution_count": 38,
   "metadata": {
    "colab": {
     "base_uri": "https://localhost:8080/"
    },
    "executionInfo": {
     "elapsed": 497,
     "status": "ok",
     "timestamp": 1642345174732,
     "user": {
      "displayName": "Shubhangi Sakarkar",
      "photoUrl": "https://lh3.googleusercontent.com/a-/AOh14GjiJriRrUWKSeoxmYnVoL2uz2i6E3RLOwZgeqHG=s64",
      "userId": "12180749557274197061"
     },
     "user_tz": -330
    },
    "id": "OKzm6SL4tV7c",
    "outputId": "19a2723a-ba76-4e72-d1e6-0a65be5e8510"
   },
   "outputs": [
    {
     "name": "stdout",
     "output_type": "stream",
     "text": [
      "[0.85049834 0.83552632 0.85910653]\n",
      "Cross validation Score: 0.8483770612898426\n",
      "Std : 0.0025916145383121348\n"
     ]
    }
   ],
   "source": [
    "scores_after = cross_val_score(clf,X,y,cv=3,scoring='f1')\n",
    "print(scores_after)\n",
    "print(\"Cross validation Score:\",scores_after.mean())\n",
    "print(\"Std :\",scores.std())\n",
    "#std of < 0.05 is good."
   ]
  },
  {
   "cell_type": "markdown",
   "metadata": {
    "id": "SDjMThwTZ0cu"
   },
   "source": [
    "# If you can see f1 score is improved however the recall is still lagging.\n",
    "\n",
    "# Task:-Change the all preprocessing technqiue and try to see if performance can be improved for not.\n",
    "\n",
    "# We still have ot gone through feature selection technqiue.\n"
   ]
  },
  {
   "cell_type": "code",
   "execution_count": null,
   "metadata": {
    "id": "C3nXbVN_9gCM"
   },
   "outputs": [],
   "source": [
    "from sklearn.model_selection import GridSearchCV\n",
    "\n",
    "# defining parameter range\n",
    "param_grid = {'C': [2,4,6,12,23],\n",
    "              'gamma': [0.0011, 0.12, 0.101, 0.4001, 0.50001],\n",
    "             'random_state':(list(range(1, 10)))}\n",
    "svc1 =SVC()\n",
    "grid = GridSearchCV(svc1, param_grid, refit = True, verbose = 2,scoring='f1',cv=5)\n",
    "\n",
    "# fitting the model for grid search\n",
    "grid.fit(X,y)"
   ]
  },
  {
   "cell_type": "code",
   "execution_count": null,
   "metadata": {},
   "outputs": [],
   "source": [
    "# print best parameter after tuning\n",
    "print(grid.best_params_)"
   ]
  },
  {
   "cell_type": "code",
   "execution_count": null,
   "metadata": {},
   "outputs": [],
   "source": [
    "clf1=SVC(C=4, gamma=0.12,random_state=1)"
   ]
  },
  {
   "cell_type": "code",
   "execution_count": null,
   "metadata": {},
   "outputs": [],
   "source": [
    "clf1.fit(X_smote, y_smote)"
   ]
  },
  {
   "cell_type": "code",
   "execution_count": null,
   "metadata": {
    "scrolled": true
   },
   "outputs": [],
   "source": [
    "y_clf1=clf1.predict(X_test)"
   ]
  },
  {
   "cell_type": "code",
   "execution_count": null,
   "metadata": {},
   "outputs": [],
   "source": [
    "y_clf1=clf.predict(X_test)"
   ]
  },
  {
   "cell_type": "code",
   "execution_count": null,
   "metadata": {},
   "outputs": [],
   "source": [
    "accuracy_score(y_test,y_clf1)"
   ]
  },
  {
   "cell_type": "code",
   "execution_count": null,
   "metadata": {},
   "outputs": [],
   "source": [
    "f11=f1_score(y_test,y_clf1)\n",
    "f11"
   ]
  },
  {
   "cell_type": "code",
   "execution_count": null,
   "metadata": {},
   "outputs": [],
   "source": [
    "scores_after = cross_val_score(clf1,X,y,cv=5,scoring='f1')\n",
    "print(scores_after)\n",
    "print(\"Cross validation Score:\",scores_after.mean())\n",
    "print(\"Std :\",scores.std())\n",
    "#std of < 0.05 is good."
   ]
  },
  {
   "cell_type": "code",
   "execution_count": null,
   "metadata": {},
   "outputs": [],
   "source": []
  }
 ],
 "metadata": {
  "colab": {
   "collapsed_sections": [
    "PGlLFlEEtV6p",
    "a5rJZqB3tV6r",
    "j8EQN0q4tV6r",
    "2FKrgbUytV6t",
    "MOv9QRY6tV6x"
   ],
   "provenance": []
  },
  "kernelspec": {
   "display_name": "Python 3 (ipykernel)",
   "language": "python",
   "name": "python3"
  },
  "language_info": {
   "codemirror_mode": {
    "name": "ipython",
    "version": 3
   },
   "file_extension": ".py",
   "mimetype": "text/x-python",
   "name": "python",
   "nbconvert_exporter": "python",
   "pygments_lexer": "ipython3",
   "version": "3.9.13"
  }
 },
 "nbformat": 4,
 "nbformat_minor": 1
}
